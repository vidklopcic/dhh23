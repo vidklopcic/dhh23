{
 "cells": [
  {
   "cell_type": "code",
   "execution_count": 1,
   "metadata": {
    "ExecuteTime": {
     "end_time": "2023-05-19T12:56:56.722692Z",
     "start_time": "2023-05-19T12:56:56.718536Z"
    }
   },
   "outputs": [],
   "source": [
    "# Calculate embeddings for ParlaMint data"
   ]
  },
  {
   "cell_type": "markdown",
   "metadata": {},
   "source": [
    "### Load ParlaMint data"
   ]
  },
  {
   "cell_type": "code",
   "execution_count": 2,
   "metadata": {
    "ExecuteTime": {
     "end_time": "2023-05-19T14:56:10.771788Z",
     "start_time": "2023-05-19T14:56:10.615899Z"
    }
   },
   "outputs": [],
   "source": [
    "from serializers.parlamint_serializers import ParlaMint\n",
    "\n",
    "parlamint: ParlaMint = ParlaMint.load()"
   ]
  },
  {
   "cell_type": "markdown",
   "metadata": {},
   "source": [
    "## Split into sentences using stanza"
   ]
  },
  {
   "cell_type": "code",
   "execution_count": null,
   "metadata": {
    "ExecuteTime": {
     "end_time": "2023-05-19T15:01:53.282490Z",
     "start_time": "2023-05-19T15:00:31.265217Z"
    }
   },
   "outputs": [
    {
     "data": {
      "application/vnd.jupyter.widget-view+json": {
       "model_id": "b7b4e60e2ef34acf80c3019cdd4935b2",
       "version_major": 2,
       "version_minor": 0
      },
      "text/plain": [
       "Downloading https://raw.githubusercontent.com/stanfordnlp/stanza-resources/main/resources_1.5.0.json:   0%|   …"
      ]
     },
     "metadata": {},
     "output_type": "display_data"
    },
    {
     "name": "stderr",
     "output_type": "stream",
     "text": [
      "2023-05-19 15:15:37 INFO: Downloading default packages for language: es (Spanish) ...\n",
      "2023-05-19 15:15:38 INFO: File exists: /home/vidklopcic/stanza_resources/es/default.zip\n",
      "2023-05-19 15:15:44 INFO: Finished downloading models and saved to /home/vidklopcic/stanza_resources.\n",
      "2023-05-19 15:15:44 INFO: Checking for updates to resources.json in case models have been updated.  Note: this behavior can be turned off with download_method=None or download_method=DownloadMethod.REUSE_RESOURCES\n"
     ]
    },
    {
     "data": {
      "application/vnd.jupyter.widget-view+json": {
       "model_id": "6e44b9b9f227480bac423298b93f755d",
       "version_major": 2,
       "version_minor": 0
      },
      "text/plain": [
       "Downloading https://raw.githubusercontent.com/stanfordnlp/stanza-resources/main/resources_1.5.0.json:   0%|   …"
      ]
     },
     "metadata": {},
     "output_type": "display_data"
    },
    {
     "name": "stderr",
     "output_type": "stream",
     "text": [
      "2023-05-19 15:15:44 WARNING: Language es package default expects mwt, which has been added\n",
      "2023-05-19 15:15:44 INFO: Loading these models for language: es (Spanish):\n",
      "=======================\n",
      "| Processor | Package |\n",
      "-----------------------\n",
      "| tokenize  | ancora  |\n",
      "| mwt       | ancora  |\n",
      "=======================\n",
      "\n",
      "2023-05-19 15:15:44 INFO: Using device: cpu\n",
      "2023-05-19 15:15:44 INFO: Loading: tokenize\n",
      "2023-05-19 15:15:44 INFO: Loading: mwt\n",
      "2023-05-19 15:15:44 INFO: Done loading processors!\n"
     ]
    },
    {
     "data": {
      "application/vnd.jupyter.widget-view+json": {
       "model_id": "da94236c55264d6096434c0c3a514509",
       "version_major": 2,
       "version_minor": 0
      },
      "text/plain": [
       "Downloading https://raw.githubusercontent.com/stanfordnlp/stanza-resources/main/resources_1.5.0.json:   0%|   …"
      ]
     },
     "metadata": {},
     "output_type": "display_data"
    },
    {
     "name": "stderr",
     "output_type": "stream",
     "text": [
      "2023-05-19 15:15:44 INFO: Downloading default packages for language: en (English) ...\n",
      "2023-05-19 15:15:45 INFO: File exists: /home/vidklopcic/stanza_resources/en/default.zip\n",
      "2023-05-19 15:15:51 INFO: Finished downloading models and saved to /home/vidklopcic/stanza_resources.\n",
      "2023-05-19 15:15:51 INFO: Checking for updates to resources.json in case models have been updated.  Note: this behavior can be turned off with download_method=None or download_method=DownloadMethod.REUSE_RESOURCES\n"
     ]
    },
    {
     "data": {
      "application/vnd.jupyter.widget-view+json": {
       "model_id": "9968a0043a034ebeac4f8c5329568617",
       "version_major": 2,
       "version_minor": 0
      },
      "text/plain": [
       "Downloading https://raw.githubusercontent.com/stanfordnlp/stanza-resources/main/resources_1.5.0.json:   0%|   …"
      ]
     },
     "metadata": {},
     "output_type": "display_data"
    },
    {
     "name": "stderr",
     "output_type": "stream",
     "text": [
      "2023-05-19 15:15:51 INFO: Loading these models for language: en (English):\n",
      "========================\n",
      "| Processor | Package  |\n",
      "------------------------\n",
      "| tokenize  | combined |\n",
      "========================\n",
      "\n",
      "2023-05-19 15:15:51 INFO: Using device: cpu\n",
      "2023-05-19 15:15:51 INFO: Loading: tokenize\n",
      "2023-05-19 15:15:51 INFO: Done loading processors!\n"
     ]
    },
    {
     "data": {
      "application/vnd.jupyter.widget-view+json": {
       "model_id": "ba7d5dd3a452474d91783931ca2b3ec3",
       "version_major": 2,
       "version_minor": 0
      },
      "text/plain": [
       "Downloading https://raw.githubusercontent.com/stanfordnlp/stanza-resources/main/resources_1.5.0.json:   0%|   …"
      ]
     },
     "metadata": {},
     "output_type": "display_data"
    },
    {
     "name": "stderr",
     "output_type": "stream",
     "text": [
      "2023-05-19 15:15:51 INFO: Downloading default packages for language: hu (Hungarian) ...\n",
      "2023-05-19 15:15:52 INFO: File exists: /home/vidklopcic/stanza_resources/hu/default.zip\n"
     ]
    }
   ],
   "source": [
    "import stanza\n",
    "\n",
    "pipelines: dict[str, stanza.Pipeline] = {}\n",
    "for language in parlamint.languages:\n",
    "    stanza.download(language.get_iso_code())\n",
    "    pipelines[language] = stanza.Pipeline(language.get_iso_code(), processors='tokenize', use_gpu=False)"
   ]
  },
  {
   "cell_type": "code",
   "execution_count": null,
   "metadata": {
    "ExecuteTime": {
     "start_time": "2023-05-19T15:03:56.197956Z"
    },
    "is_executing": true
   },
   "outputs": [],
   "source": [
    "import threading, time\n",
    "from typing import Union\n",
    "from serializers.parlamint_serializers import ParlaMintDataset\n",
    "import re\n",
    "\n",
    "re_interjection = re.compile(r'\\[\\[(.+?:)?(.+?)\\]\\]')\n",
    "\n",
    "\n",
    "def split_on_interjections(text: str) -> list[Union[str, tuple[str, str]]]:\n",
    "    chunks = []\n",
    "    prev_match_end = 0\n",
    "    for match in re_interjection.finditer(text):\n",
    "        chunks.append(text[prev_match_end:match.start()].strip())\n",
    "        chunks.append((match.group(1), match.group(2)))\n",
    "        prev_match_end = match.end()\n",
    "    if prev_match_end:\n",
    "        chunks.append(text[prev_match_end:].strip())\n",
    "    else:\n",
    "        chunks.append(text)\n",
    "    return chunks\n",
    "\n",
    "\n",
    "n = {}\n",
    "\n",
    "\n",
    "def process_language(language):\n",
    "    datasets: list[ParlaMintDataset] = parlamint.languages[language]\n",
    "    nlp = pipelines[language]\n",
    "\n",
    "    for dataset in datasets:\n",
    "        speeches = list(dataset.speeches(ignore_artefact=True))\n",
    "        for speech in speeches:\n",
    "            speech.sentences = []\n",
    "            chunks = split_on_interjections(speech.text)\n",
    "            for chunk in chunks:\n",
    "                is_interjection = False\n",
    "                interjection_speaker = None\n",
    "                if isinstance(chunk, tuple):\n",
    "                    interjection_speaker, chunk = chunk\n",
    "                    is_interjection = True\n",
    "                speech.sentences += [ParlaMintDataset.Speech.Sentence(\n",
    "                    text=s.text,\n",
    "                    interjection=is_interjection,\n",
    "                    interjection_speaker=interjection_speaker,\n",
    "                ) for s in nlp(speech.text).sentences]\n",
    "        dataset.save_speeches(speeches)\n",
    "        n.setdefault(language, 0)\n",
    "        n[language] += 1\n",
    "\n",
    "\n",
    "print('Processing sentences...')\n",
    "threads = []\n",
    "for language in parlamint.languages:\n",
    "    t = threading.Thread(target=process_language, args=(language,))\n",
    "    t.daemon = True\n",
    "    t.start()\n",
    "    threads.append(t)\n",
    "\n",
    "def stats():\n",
    "    while True:\n",
    "        time.sleep(1)\n",
    "        print(' | '.join([f'{l}: {d} / {len(parlamint.languages[l])}' for l, d in n.items()]), end='\\r')\n",
    "\n",
    "t = threading.Thread(target=stats)\n",
    "t.daemon = True\n",
    "t.start()\n",
    "\n",
    "for t in threads:\n",
    "    t.join()\n",
    "\n",
    "\n"
   ]
  }
 ],
 "metadata": {
  "kernelspec": {
   "display_name": "Python 3 (ipykernel)",
   "language": "python",
   "name": "python3"
  },
  "language_info": {
   "codemirror_mode": {
    "name": "ipython",
    "version": 3
   },
   "file_extension": ".py",
   "mimetype": "text/x-python",
   "name": "python",
   "nbconvert_exporter": "python",
   "pygments_lexer": "ipython3",
   "version": "3.9.16"
  }
 },
 "nbformat": 4,
 "nbformat_minor": 1
}
