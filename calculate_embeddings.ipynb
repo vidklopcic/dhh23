{
 "cells": [
  {
   "cell_type": "code",
   "execution_count": 1,
   "metadata": {
    "ExecuteTime": {
     "end_time": "2023-05-19T12:56:56.722692Z",
     "start_time": "2023-05-19T12:56:56.718536Z"
    },
    "collapsed": true
   },
   "outputs": [],
   "source": [
    "# Calculate embeddings for ParlaMint data"
   ]
  },
  {
   "cell_type": "code",
   "execution_count": 1,
   "metadata": {
    "ExecuteTime": {
     "end_time": "2023-05-21T10:59:44.254509Z",
     "start_time": "2023-05-21T10:59:44.217970Z"
    },
    "collapsed": false
   },
   "outputs": [],
   "source": [
    "import json\n",
    "\n",
    "with open('artefacts/parlamint.json', 'r') as f:\n",
    "    parlamint = json.load(f)"
   ]
  },
  {
   "cell_type": "code",
   "execution_count": 2,
   "metadata": {
    "ExecuteTime": {
     "end_time": "2023-05-21T11:18:23.438390Z",
     "start_time": "2023-05-21T10:59:45.436988Z"
    },
    "collapsed": false
   },
   "outputs": [
    {
     "name": "stdout",
     "output_type": "stream",
     "text": [
      "Initializing worker on cuda:0\n",
      "Initializing worker on cuda:1\n",
      "Initializing worker on cuda:0\n",
      "Initializing worker on cuda:1\n",
      "Initializing worker on cuda:0\n",
      "Initializing worker on cuda:1\n",
      "Initializing worker on cuda:0\n",
      "Initializing worker on cuda:1\n",
      "Processed 132/5689 sessions, eta: 13:02:42            \r"
     ]
    },
    {
     "name": "stderr",
     "output_type": "stream",
     "text": [
      "Process Process-2:\n",
      "Process Process-3:\n",
      "Process Process-1:\n",
      "Process Process-5:\n",
      "Traceback (most recent call last):\n"
     ]
    },
    {
     "ename": "KeyboardInterrupt",
     "evalue": "",
     "output_type": "error",
     "traceback": [
      "\u001b[0;31m---------------------------------------------------------------------------\u001b[0m",
      "\u001b[0;31mKeyboardInterrupt\u001b[0m                         Traceback (most recent call last)",
      "Cell \u001b[0;32mIn[2], line 107\u001b[0m\n\u001b[1;32m    104\u001b[0m progress_thread\u001b[38;5;241m.\u001b[39mstart()\n\u001b[1;32m    106\u001b[0m \u001b[38;5;28;01mfor\u001b[39;00m worker \u001b[38;5;129;01min\u001b[39;00m workers:\n\u001b[0;32m--> 107\u001b[0m     \u001b[43mworker\u001b[49m\u001b[38;5;241;43m.\u001b[39;49m\u001b[43mjoin\u001b[49m\u001b[43m(\u001b[49m\u001b[43m)\u001b[49m\n\u001b[1;32m    109\u001b[0m progress_thread\u001b[38;5;241m.\u001b[39mjoin()\n\u001b[1;32m    111\u001b[0m \u001b[38;5;28;01mwith\u001b[39;00m \u001b[38;5;28mopen\u001b[39m(\u001b[38;5;124m'\u001b[39m\u001b[38;5;124martefacts/parlamint.json\u001b[39m\u001b[38;5;124m'\u001b[39m, \u001b[38;5;124m'\u001b[39m\u001b[38;5;124mw\u001b[39m\u001b[38;5;124m'\u001b[39m) \u001b[38;5;28;01mas\u001b[39;00m f:\n",
      "File \u001b[0;32m~/anaconda3/envs/dhh23/lib/python3.9/multiprocessing/process.py:149\u001b[0m, in \u001b[0;36mBaseProcess.join\u001b[0;34m(self, timeout)\u001b[0m\n\u001b[1;32m    147\u001b[0m \u001b[38;5;28;01massert\u001b[39;00m \u001b[38;5;28mself\u001b[39m\u001b[38;5;241m.\u001b[39m_parent_pid \u001b[38;5;241m==\u001b[39m os\u001b[38;5;241m.\u001b[39mgetpid(), \u001b[38;5;124m'\u001b[39m\u001b[38;5;124mcan only join a child process\u001b[39m\u001b[38;5;124m'\u001b[39m\n\u001b[1;32m    148\u001b[0m \u001b[38;5;28;01massert\u001b[39;00m \u001b[38;5;28mself\u001b[39m\u001b[38;5;241m.\u001b[39m_popen \u001b[38;5;129;01mis\u001b[39;00m \u001b[38;5;129;01mnot\u001b[39;00m \u001b[38;5;28;01mNone\u001b[39;00m, \u001b[38;5;124m'\u001b[39m\u001b[38;5;124mcan only join a started process\u001b[39m\u001b[38;5;124m'\u001b[39m\n\u001b[0;32m--> 149\u001b[0m res \u001b[38;5;241m=\u001b[39m \u001b[38;5;28;43mself\u001b[39;49m\u001b[38;5;241;43m.\u001b[39;49m\u001b[43m_popen\u001b[49m\u001b[38;5;241;43m.\u001b[39;49m\u001b[43mwait\u001b[49m\u001b[43m(\u001b[49m\u001b[43mtimeout\u001b[49m\u001b[43m)\u001b[49m\n\u001b[1;32m    150\u001b[0m \u001b[38;5;28;01mif\u001b[39;00m res \u001b[38;5;129;01mis\u001b[39;00m \u001b[38;5;129;01mnot\u001b[39;00m \u001b[38;5;28;01mNone\u001b[39;00m:\n\u001b[1;32m    151\u001b[0m     _children\u001b[38;5;241m.\u001b[39mdiscard(\u001b[38;5;28mself\u001b[39m)\n",
      "File \u001b[0;32m~/anaconda3/envs/dhh23/lib/python3.9/multiprocessing/popen_fork.py:43\u001b[0m, in \u001b[0;36mPopen.wait\u001b[0;34m(self, timeout)\u001b[0m\n\u001b[1;32m     41\u001b[0m             \u001b[38;5;28;01mreturn\u001b[39;00m \u001b[38;5;28;01mNone\u001b[39;00m\n\u001b[1;32m     42\u001b[0m     \u001b[38;5;66;03m# This shouldn't block if wait() returned successfully.\u001b[39;00m\n\u001b[0;32m---> 43\u001b[0m     \u001b[38;5;28;01mreturn\u001b[39;00m \u001b[38;5;28;43mself\u001b[39;49m\u001b[38;5;241;43m.\u001b[39;49m\u001b[43mpoll\u001b[49m\u001b[43m(\u001b[49m\u001b[43mos\u001b[49m\u001b[38;5;241;43m.\u001b[39;49m\u001b[43mWNOHANG\u001b[49m\u001b[43m \u001b[49m\u001b[38;5;28;43;01mif\u001b[39;49;00m\u001b[43m \u001b[49m\u001b[43mtimeout\u001b[49m\u001b[43m \u001b[49m\u001b[38;5;241;43m==\u001b[39;49m\u001b[43m \u001b[49m\u001b[38;5;241;43m0.0\u001b[39;49m\u001b[43m \u001b[49m\u001b[38;5;28;43;01melse\u001b[39;49;00m\u001b[43m \u001b[49m\u001b[38;5;241;43m0\u001b[39;49m\u001b[43m)\u001b[49m\n\u001b[1;32m     44\u001b[0m \u001b[38;5;28;01mreturn\u001b[39;00m \u001b[38;5;28mself\u001b[39m\u001b[38;5;241m.\u001b[39mreturncode\n",
      "File \u001b[0;32m~/anaconda3/envs/dhh23/lib/python3.9/multiprocessing/popen_fork.py:27\u001b[0m, in \u001b[0;36mPopen.poll\u001b[0;34m(self, flag)\u001b[0m\n\u001b[1;32m     25\u001b[0m \u001b[38;5;28;01mif\u001b[39;00m \u001b[38;5;28mself\u001b[39m\u001b[38;5;241m.\u001b[39mreturncode \u001b[38;5;129;01mis\u001b[39;00m \u001b[38;5;28;01mNone\u001b[39;00m:\n\u001b[1;32m     26\u001b[0m     \u001b[38;5;28;01mtry\u001b[39;00m:\n\u001b[0;32m---> 27\u001b[0m         pid, sts \u001b[38;5;241m=\u001b[39m \u001b[43mos\u001b[49m\u001b[38;5;241;43m.\u001b[39;49m\u001b[43mwaitpid\u001b[49m\u001b[43m(\u001b[49m\u001b[38;5;28;43mself\u001b[39;49m\u001b[38;5;241;43m.\u001b[39;49m\u001b[43mpid\u001b[49m\u001b[43m,\u001b[49m\u001b[43m \u001b[49m\u001b[43mflag\u001b[49m\u001b[43m)\u001b[49m\n\u001b[1;32m     28\u001b[0m     \u001b[38;5;28;01mexcept\u001b[39;00m \u001b[38;5;167;01mOSError\u001b[39;00m:\n\u001b[1;32m     29\u001b[0m         \u001b[38;5;66;03m# Child process not yet created. See #1731717\u001b[39;00m\n\u001b[1;32m     30\u001b[0m         \u001b[38;5;66;03m# e.errno == errno.ECHILD == 10\u001b[39;00m\n\u001b[1;32m     31\u001b[0m         \u001b[38;5;28;01mreturn\u001b[39;00m \u001b[38;5;28;01mNone\u001b[39;00m\n",
      "\u001b[0;31mKeyboardInterrupt\u001b[0m: "
     ]
    },
    {
     "name": "stderr",
     "output_type": "stream",
     "text": [
      "Process Process-4:\n",
      "Traceback (most recent call last):\n",
      "Traceback (most recent call last):\n",
      "  File \"/home/vidklopcic/anaconda3/envs/dhh23/lib/python3.9/multiprocessing/process.py\", line 315, in _bootstrap\n",
      "    self.run()\n",
      "  File \"/home/vidklopcic/anaconda3/envs/dhh23/lib/python3.9/multiprocessing/process.py\", line 315, in _bootstrap\n",
      "    self.run()\n",
      "  File \"/home/vidklopcic/anaconda3/envs/dhh23/lib/python3.9/multiprocessing/process.py\", line 108, in run\n",
      "    self._target(*self._args, **self._kwargs)\n",
      "Traceback (most recent call last):\n",
      "  File \"/home/vidklopcic/anaconda3/envs/dhh23/lib/python3.9/multiprocessing/process.py\", line 108, in run\n",
      "    self._target(*self._args, **self._kwargs)\n",
      "Traceback (most recent call last):\n",
      "  File \"/tmp/ipykernel_385301/3767796123.py\", line 29, in worker_init\n",
      "    process_session(session, xml_path, embeddings_path)\n",
      "  File \"/home/vidklopcic/anaconda3/envs/dhh23/lib/python3.9/multiprocessing/process.py\", line 315, in _bootstrap\n",
      "    self.run()\n",
      "  File \"/home/vidklopcic/anaconda3/envs/dhh23/lib/python3.9/multiprocessing/process.py\", line 315, in _bootstrap\n",
      "    self.run()\n"
     ]
    }
   ],
   "source": [
    "from datetime import datetime\n",
    "from queue import Empty\n",
    "import json\n",
    "import pandas as pd\n",
    "from bs4 import BeautifulSoup\n",
    "from sentence_transformers import SentenceTransformer\n",
    "from pathlib import Path\n",
    "import multiprocessing as mp\n",
    "import torch\n",
    "import threading\n",
    "import time\n",
    "\n",
    "model = None\n",
    "processed_count = None\n",
    "start = datetime.now()\n",
    "def worker_init(gpu_id, task_queue):\n",
    "    device = f\"cuda:{gpu_id}\"\n",
    "    print('Initializing worker on', device)\n",
    "    global model\n",
    "    model = SentenceTransformer('paraphrase-multilingual-mpnet-base-v2')\n",
    "    model = model.to(torch.device(device))\n",
    "\n",
    "    while True:\n",
    "        try:\n",
    "            session, xml_path, embeddings_path = task_queue.get(timeout=1)\n",
    "        except Empty:\n",
    "            break\n",
    "\n",
    "        process_session(session, xml_path, embeddings_path)\n",
    "        with processed_count.get_lock():\n",
    "            processed_count.value += 1\n",
    "\n",
    "def get_embeddings(xml_file):\n",
    "    with open(xml_file, \"r\", encoding=\"utf8\") as f:\n",
    "        contents = f.read()\n",
    "    soup = BeautifulSoup(contents, 'xml')\n",
    "\n",
    "    data = []\n",
    "    for seg in soup.find_all('seg'):\n",
    "        sentences = seg.find_all('s')\n",
    "        for sentence in sentences:\n",
    "            sentence_id = sentence.get('xml:id')\n",
    "            sentence_text = ''\n",
    "            for unit in sentence.find_all(['w', 'pc']):\n",
    "                text = unit.get_text()\n",
    "                if not text:\n",
    "                    continue\n",
    "                if unit.name == 'w':\n",
    "                    sentence_text += ' ' + unit.get_text()\n",
    "                elif unit.name == 'pc':\n",
    "                    sentence_text += unit.get_text()\n",
    "            sentence_text = sentence_text.strip()\n",
    "            note_texts = [note.get_text() for note in sentence.find_all('note')]\n",
    "            embeddings = model.encode([sentence_text] + note_texts)\n",
    "            data.append([sentence_id, sentence_text, embeddings[0], note_texts, embeddings[1:]])\n",
    "\n",
    "    return pd.DataFrame(data, columns=['sentence_id', 'text', 'embedding', 'notes', 'note_embeddings'])\n",
    "\n",
    "def process_session(session, xml_path, embeddings_path):\n",
    "    embeddings = get_embeddings(xml_path)\n",
    "    embeddings_path.parent.mkdir(parents=True, exist_ok=True)\n",
    "    embeddings.to_json(embeddings_path, lines=True, orient='records')\n",
    "    with processed_count.get_lock():\n",
    "        processed_count.value += 1\n",
    "    return session\n",
    "\n",
    "def print_progress(total_sessions):\n",
    "    while True:\n",
    "        with processed_count.get_lock():\n",
    "            count = processed_count.value\n",
    "        if count == 0:\n",
    "            time_remaining = 'unknown'\n",
    "        else:\n",
    "            time_remaining = (datetime.now() - start) / count * (total_sessions - count)\n",
    "            time_remaining = str(time_remaining).split('.')[0]\n",
    "        print(f\"Processed {count}/{total_sessions} sessions, eta:\", time_remaining.ljust(20), end='\\r')\n",
    "        if count >= total_sessions:\n",
    "            break\n",
    "        time.sleep(1)\n",
    "\n",
    "N_WORKERS = 8\n",
    "N_GPUS = torch.cuda.device_count()\n",
    "total_sessions = sum(len(parlamint[language]) for language in parlamint)\n",
    "processed_count = mp.Value('i', 0)\n",
    "\n",
    "task_queues = [mp.Queue() for _ in range(N_WORKERS)]\n",
    "workers = []\n",
    "for i in range(N_WORKERS):\n",
    "    worker = mp.Process(target=worker_init, args=(i % N_GPUS, task_queues[i]))\n",
    "    worker.start()\n",
    "    workers.append(worker)\n",
    "    time.sleep(0.1)\n",
    "\n",
    "for i, (language, sessions) in enumerate(parlamint.items()):\n",
    "    task_queue = task_queues[i % N_WORKERS]\n",
    "    for session in sessions:\n",
    "        xml_path = Path(session[\"xml_path\"])\n",
    "        embeddings_path = Path('artefacts/parlamint') / language / session['date'][:4] / f'{xml_path.stem}.json'\n",
    "        if embeddings_path.exists() and embeddings_path.stat().st_size > 0:\n",
    "            continue\n",
    "        session['embeddings_path'] = str(embeddings_path)\n",
    "        task_queue.put((session, xml_path, embeddings_path))\n",
    "\n",
    "progress_thread = threading.Thread(target=print_progress, args=(total_sessions,))\n",
    "progress_thread.daemon = True\n",
    "progress_thread.start()\n",
    "\n",
    "for worker in workers:\n",
    "    worker.join()\n",
    "\n",
    "progress_thread.join()\n",
    "\n",
    "with open('artefacts/parlamint.json', 'w') as f:\n",
    "    json.dump(parlamint, f, indent=2)\n"
   ]
  }
 ],
 "metadata": {
  "kernelspec": {
   "display_name": "Python 3",
   "language": "python",
   "name": "python3"
  },
  "language_info": {
   "codemirror_mode": {
    "name": "ipython",
    "version": 2
   },
   "file_extension": ".py",
   "mimetype": "text/x-python",
   "name": "python",
   "nbconvert_exporter": "python",
   "pygments_lexer": "ipython2",
   "version": "2.7.6"
  }
 },
 "nbformat": 4,
 "nbformat_minor": 0
}
