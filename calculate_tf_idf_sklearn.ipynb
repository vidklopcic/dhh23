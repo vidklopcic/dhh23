{
 "cells": [
  {
   "cell_type": "code",
   "execution_count": 25,
   "metadata": {
    "ExecuteTime": {
     "end_time": "2023-05-31T06:41:10.656175Z",
     "start_time": "2023-05-31T06:41:10.594784Z"
    },
    "collapsed": false
   },
   "outputs": [],
   "source": [
    "import sys\n",
    "import csv\n",
    "import pandas as pd\n",
    "import json\n",
    "from tqdm import tqdm\n",
    "from pathlib import Path\n",
    "from sklearn.feature_extraction.text import TfidfVectorizer\n",
    "import stopwordsiso as stopwords\n",
    "import pickle\n",
    "\n",
    "\n",
    "class Languages:\n",
    "    esga = 'ES-GA'\n",
    "    si = 'SI'\n",
    "    gb = 'GB'\n",
    "    hu = 'HU'\n",
    "    ua = 'UA'\n",
    "    all = [esga, si, gb, hu, ua]"
   ]
  },
  {
   "cell_type": "code",
   "execution_count": 5,
   "metadata": {
    "ExecuteTime": {
     "end_time": "2023-05-30T14:05:33.749126Z",
     "start_time": "2023-05-30T14:04:56.442402Z"
    },
    "collapsed": true
   },
   "outputs": [
    {
     "name": "stdout",
     "output_type": "stream",
     "text": [
      "loading ES-GA\n",
      "loading SI\n",
      "loading GB\n",
      "loading HU\n",
      "loading UA\n"
     ]
    }
   ],
   "source": [
    "sentences = {}\n",
    "for language in Languages.all:\n",
    "    print('loading', language)\n",
    "    sentences[language] = pd.read_feather(f'artefacts/pandas_frames/{language}_parlamint_sentences.feather')\n",
    "metadata = pd.read_feather('artefacts/pandas_frames/parlamint_metadata.feather')"
   ]
  },
  {
   "cell_type": "code",
   "execution_count": 3,
   "metadata": {
    "ExecuteTime": {
     "end_time": "2023-05-26T10:52:51.341130Z",
     "start_time": "2023-05-26T10:52:51.275848Z"
    },
    "collapsed": false
   },
   "outputs": [
    {
     "data": {
      "text/html": [
       "<div>\n",
       "<style scoped>\n",
       "    .dataframe tbody tr th:only-of-type {\n",
       "        vertical-align: middle;\n",
       "    }\n",
       "\n",
       "    .dataframe tbody tr th {\n",
       "        vertical-align: top;\n",
       "    }\n",
       "\n",
       "    .dataframe thead th {\n",
       "        text-align: right;\n",
       "    }\n",
       "</style>\n",
       "<table border=\"1\" class=\"dataframe\">\n",
       "  <thead>\n",
       "    <tr style=\"text-align: right;\">\n",
       "      <th></th>\n",
       "      <th>index</th>\n",
       "      <th>ID</th>\n",
       "      <th>Title</th>\n",
       "      <th>Date</th>\n",
       "      <th>Body</th>\n",
       "      <th>Term</th>\n",
       "      <th>Session</th>\n",
       "      <th>Meeting</th>\n",
       "      <th>Sitting</th>\n",
       "      <th>Agenda</th>\n",
       "      <th>Subcorpus</th>\n",
       "      <th>Speaker_role</th>\n",
       "      <th>Speaker_MP</th>\n",
       "      <th>Speaker_Minister</th>\n",
       "      <th>Speaker_party</th>\n",
       "      <th>Speaker_party_name</th>\n",
       "      <th>Party_status</th>\n",
       "      <th>Speaker_name</th>\n",
       "      <th>Speaker_gender</th>\n",
       "      <th>Speaker_birth</th>\n",
       "    </tr>\n",
       "  </thead>\n",
       "  <tbody>\n",
       "    <tr>\n",
       "      <th>0</th>\n",
       "      <td>0</td>\n",
       "      <td>ParlaMint-ES-GA_2017-09-26-DSPG040.u1</td>\n",
       "      <td>Minutes of the Assembly of the Galician Parlia...</td>\n",
       "      <td>2017-09-26</td>\n",
       "      <td>Unicameralism</td>\n",
       "      <td>010</td>\n",
       "      <td></td>\n",
       "      <td>040</td>\n",
       "      <td>2017-09-26</td>\n",
       "      <td></td>\n",
       "      <td>Reference</td>\n",
       "      <td>Chairperson</td>\n",
       "      <td>MP</td>\n",
       "      <td>-</td>\n",
       "      <td>PPdeG</td>\n",
       "      <td>Partido Popular de Galicia</td>\n",
       "      <td>Coalition</td>\n",
       "      <td>Santalices Vieira, Miguel Ángel</td>\n",
       "      <td>M</td>\n",
       "      <td>1955</td>\n",
       "    </tr>\n",
       "    <tr>\n",
       "      <th>1</th>\n",
       "      <td>1</td>\n",
       "      <td>ParlaMint-ES-GA_2017-09-26-DSPG040.u2</td>\n",
       "      <td>Minutes of the Assembly of the Galician Parlia...</td>\n",
       "      <td>2017-09-26</td>\n",
       "      <td>Unicameralism</td>\n",
       "      <td>010</td>\n",
       "      <td></td>\n",
       "      <td>040</td>\n",
       "      <td>2017-09-26</td>\n",
       "      <td></td>\n",
       "      <td>Reference</td>\n",
       "      <td>Chairperson</td>\n",
       "      <td>MP</td>\n",
       "      <td>-</td>\n",
       "      <td>PPdeG</td>\n",
       "      <td>Partido Popular de Galicia</td>\n",
       "      <td>Coalition</td>\n",
       "      <td>Santalices Vieira, Miguel Ángel</td>\n",
       "      <td>M</td>\n",
       "      <td>1955</td>\n",
       "    </tr>\n",
       "    <tr>\n",
       "      <th>2</th>\n",
       "      <td>2</td>\n",
       "      <td>ParlaMint-ES-GA_2017-09-26-DSPG040.u3</td>\n",
       "      <td>Minutes of the Assembly of the Galician Parlia...</td>\n",
       "      <td>2017-09-26</td>\n",
       "      <td>Unicameralism</td>\n",
       "      <td>010</td>\n",
       "      <td></td>\n",
       "      <td>040</td>\n",
       "      <td>2017-09-26</td>\n",
       "      <td></td>\n",
       "      <td>Reference</td>\n",
       "      <td>Regular</td>\n",
       "      <td>MP</td>\n",
       "      <td>-</td>\n",
       "      <td>PPdeG</td>\n",
       "      <td>Partido Popular de Galicia</td>\n",
       "      <td>Coalition</td>\n",
       "      <td>Arias Rodríguez, Raquel</td>\n",
       "      <td>F</td>\n",
       "      <td>1966</td>\n",
       "    </tr>\n",
       "    <tr>\n",
       "      <th>3</th>\n",
       "      <td>3</td>\n",
       "      <td>ParlaMint-ES-GA_2017-09-26-DSPG040.u4</td>\n",
       "      <td>Minutes of the Assembly of the Galician Parlia...</td>\n",
       "      <td>2017-09-26</td>\n",
       "      <td>Unicameralism</td>\n",
       "      <td>010</td>\n",
       "      <td></td>\n",
       "      <td>040</td>\n",
       "      <td>2017-09-26</td>\n",
       "      <td></td>\n",
       "      <td>Reference</td>\n",
       "      <td>Chairperson</td>\n",
       "      <td>MP</td>\n",
       "      <td>-</td>\n",
       "      <td>PPdeG</td>\n",
       "      <td>Partido Popular de Galicia</td>\n",
       "      <td>Coalition</td>\n",
       "      <td>Santalices Vieira, Miguel Ángel</td>\n",
       "      <td>M</td>\n",
       "      <td>1955</td>\n",
       "    </tr>\n",
       "    <tr>\n",
       "      <th>4</th>\n",
       "      <td>4</td>\n",
       "      <td>ParlaMint-ES-GA_2017-09-26-DSPG040.u5</td>\n",
       "      <td>Minutes of the Assembly of the Galician Parlia...</td>\n",
       "      <td>2017-09-26</td>\n",
       "      <td>Unicameralism</td>\n",
       "      <td>010</td>\n",
       "      <td></td>\n",
       "      <td>040</td>\n",
       "      <td>2017-09-26</td>\n",
       "      <td></td>\n",
       "      <td>Reference</td>\n",
       "      <td>Chairperson</td>\n",
       "      <td>MP</td>\n",
       "      <td>-</td>\n",
       "      <td>PPdeG</td>\n",
       "      <td>Partido Popular de Galicia</td>\n",
       "      <td>Coalition</td>\n",
       "      <td>Santalices Vieira, Miguel Ángel</td>\n",
       "      <td>M</td>\n",
       "      <td>1955</td>\n",
       "    </tr>\n",
       "    <tr>\n",
       "      <th>...</th>\n",
       "      <td>...</td>\n",
       "      <td>...</td>\n",
       "      <td>...</td>\n",
       "      <td>...</td>\n",
       "      <td>...</td>\n",
       "      <td>...</td>\n",
       "      <td>...</td>\n",
       "      <td>...</td>\n",
       "      <td>...</td>\n",
       "      <td>...</td>\n",
       "      <td>...</td>\n",
       "      <td>...</td>\n",
       "      <td>...</td>\n",
       "      <td>...</td>\n",
       "      <td>...</td>\n",
       "      <td>...</td>\n",
       "      <td>...</td>\n",
       "      <td>...</td>\n",
       "      <td>...</td>\n",
       "      <td>...</td>\n",
       "    </tr>\n",
       "    <tr>\n",
       "      <th>1365545</th>\n",
       "      <td>213</td>\n",
       "      <td>ParlaMint-UA_2019-11-13-m0.u214</td>\n",
       "      <td>Ukrainian parliamentary corpus ParlaMint-UA, t...</td>\n",
       "      <td>2019-11-13</td>\n",
       "      <td>Unicameralism</td>\n",
       "      <td>9</td>\n",
       "      <td>2</td>\n",
       "      <td></td>\n",
       "      <td>2019-11-13</td>\n",
       "      <td></td>\n",
       "      <td>Reference</td>\n",
       "      <td>Regular</td>\n",
       "      <td>MP</td>\n",
       "      <td>-</td>\n",
       "      <td>фЄС</td>\n",
       "      <td>Фракція політичної партії \"Європейська солідар...</td>\n",
       "      <td>Opposition</td>\n",
       "      <td>Олексійович Гончаренко, Олексій</td>\n",
       "      <td>M</td>\n",
       "      <td>1980</td>\n",
       "    </tr>\n",
       "    <tr>\n",
       "      <th>1365546</th>\n",
       "      <td>214</td>\n",
       "      <td>ParlaMint-UA_2019-11-13-m0.u215</td>\n",
       "      <td>Ukrainian parliamentary corpus ParlaMint-UA, t...</td>\n",
       "      <td>2019-11-13</td>\n",
       "      <td>Unicameralism</td>\n",
       "      <td>9</td>\n",
       "      <td>2</td>\n",
       "      <td></td>\n",
       "      <td>2019-11-13</td>\n",
       "      <td></td>\n",
       "      <td>Reference</td>\n",
       "      <td>Chairperson</td>\n",
       "      <td>MP</td>\n",
       "      <td>-</td>\n",
       "      <td></td>\n",
       "      <td></td>\n",
       "      <td></td>\n",
       "      <td>Олександрович Разумков, Дмитро</td>\n",
       "      <td>M</td>\n",
       "      <td>1983</td>\n",
       "    </tr>\n",
       "    <tr>\n",
       "      <th>1365547</th>\n",
       "      <td>215</td>\n",
       "      <td>ParlaMint-UA_2019-11-13-m0.u216</td>\n",
       "      <td>Ukrainian parliamentary corpus ParlaMint-UA, t...</td>\n",
       "      <td>2019-11-13</td>\n",
       "      <td>Unicameralism</td>\n",
       "      <td>9</td>\n",
       "      <td>2</td>\n",
       "      <td></td>\n",
       "      <td>2019-11-13</td>\n",
       "      <td></td>\n",
       "      <td>Reference</td>\n",
       "      <td>Regular</td>\n",
       "      <td>MP</td>\n",
       "      <td>-</td>\n",
       "      <td>фЄС</td>\n",
       "      <td>Фракція політичної партії \"Європейська солідар...</td>\n",
       "      <td>Opposition</td>\n",
       "      <td>Володимирівна Геращенко, Ірина</td>\n",
       "      <td>F</td>\n",
       "      <td>1971</td>\n",
       "    </tr>\n",
       "    <tr>\n",
       "      <th>1365548</th>\n",
       "      <td>216</td>\n",
       "      <td>ParlaMint-UA_2019-11-13-m0.u217</td>\n",
       "      <td>Ukrainian parliamentary corpus ParlaMint-UA, t...</td>\n",
       "      <td>2019-11-13</td>\n",
       "      <td>Unicameralism</td>\n",
       "      <td>9</td>\n",
       "      <td>2</td>\n",
       "      <td></td>\n",
       "      <td>2019-11-13</td>\n",
       "      <td></td>\n",
       "      <td>Reference</td>\n",
       "      <td>Chairperson</td>\n",
       "      <td>MP</td>\n",
       "      <td>-</td>\n",
       "      <td></td>\n",
       "      <td></td>\n",
       "      <td></td>\n",
       "      <td>Олександрович Разумков, Дмитро</td>\n",
       "      <td>M</td>\n",
       "      <td>1983</td>\n",
       "    </tr>\n",
       "    <tr>\n",
       "      <th>1365549</th>\n",
       "      <td>217</td>\n",
       "      <td>ParlaMint-UA_2019-11-13-m0.u218</td>\n",
       "      <td>Ukrainian parliamentary corpus ParlaMint-UA, t...</td>\n",
       "      <td>2019-11-13</td>\n",
       "      <td>Unicameralism</td>\n",
       "      <td>9</td>\n",
       "      <td>2</td>\n",
       "      <td></td>\n",
       "      <td>2019-11-13</td>\n",
       "      <td></td>\n",
       "      <td>Reference</td>\n",
       "      <td>Chairperson</td>\n",
       "      <td>MP</td>\n",
       "      <td>-</td>\n",
       "      <td></td>\n",
       "      <td></td>\n",
       "      <td></td>\n",
       "      <td>Олександрович Разумков, Дмитро</td>\n",
       "      <td>M</td>\n",
       "      <td>1983</td>\n",
       "    </tr>\n",
       "  </tbody>\n",
       "</table>\n",
       "<p>1365550 rows × 20 columns</p>\n",
       "</div>"
      ],
      "text/plain": [
       "         index                                     ID  \\\n",
       "0            0  ParlaMint-ES-GA_2017-09-26-DSPG040.u1   \n",
       "1            1  ParlaMint-ES-GA_2017-09-26-DSPG040.u2   \n",
       "2            2  ParlaMint-ES-GA_2017-09-26-DSPG040.u3   \n",
       "3            3  ParlaMint-ES-GA_2017-09-26-DSPG040.u4   \n",
       "4            4  ParlaMint-ES-GA_2017-09-26-DSPG040.u5   \n",
       "...        ...                                    ...   \n",
       "1365545    213        ParlaMint-UA_2019-11-13-m0.u214   \n",
       "1365546    214        ParlaMint-UA_2019-11-13-m0.u215   \n",
       "1365547    215        ParlaMint-UA_2019-11-13-m0.u216   \n",
       "1365548    216        ParlaMint-UA_2019-11-13-m0.u217   \n",
       "1365549    217        ParlaMint-UA_2019-11-13-m0.u218   \n",
       "\n",
       "                                                     Title        Date  \\\n",
       "0        Minutes of the Assembly of the Galician Parlia...  2017-09-26   \n",
       "1        Minutes of the Assembly of the Galician Parlia...  2017-09-26   \n",
       "2        Minutes of the Assembly of the Galician Parlia...  2017-09-26   \n",
       "3        Minutes of the Assembly of the Galician Parlia...  2017-09-26   \n",
       "4        Minutes of the Assembly of the Galician Parlia...  2017-09-26   \n",
       "...                                                    ...         ...   \n",
       "1365545  Ukrainian parliamentary corpus ParlaMint-UA, t...  2019-11-13   \n",
       "1365546  Ukrainian parliamentary corpus ParlaMint-UA, t...  2019-11-13   \n",
       "1365547  Ukrainian parliamentary corpus ParlaMint-UA, t...  2019-11-13   \n",
       "1365548  Ukrainian parliamentary corpus ParlaMint-UA, t...  2019-11-13   \n",
       "1365549  Ukrainian parliamentary corpus ParlaMint-UA, t...  2019-11-13   \n",
       "\n",
       "                  Body Term Session Meeting     Sitting Agenda  Subcorpus  \\\n",
       "0        Unicameralism  010             040  2017-09-26         Reference   \n",
       "1        Unicameralism  010             040  2017-09-26         Reference   \n",
       "2        Unicameralism  010             040  2017-09-26         Reference   \n",
       "3        Unicameralism  010             040  2017-09-26         Reference   \n",
       "4        Unicameralism  010             040  2017-09-26         Reference   \n",
       "...                ...  ...     ...     ...         ...    ...        ...   \n",
       "1365545  Unicameralism    9       2          2019-11-13         Reference   \n",
       "1365546  Unicameralism    9       2          2019-11-13         Reference   \n",
       "1365547  Unicameralism    9       2          2019-11-13         Reference   \n",
       "1365548  Unicameralism    9       2          2019-11-13         Reference   \n",
       "1365549  Unicameralism    9       2          2019-11-13         Reference   \n",
       "\n",
       "        Speaker_role Speaker_MP Speaker_Minister Speaker_party  \\\n",
       "0        Chairperson         MP                -         PPdeG   \n",
       "1        Chairperson         MP                -         PPdeG   \n",
       "2            Regular         MP                -         PPdeG   \n",
       "3        Chairperson         MP                -         PPdeG   \n",
       "4        Chairperson         MP                -         PPdeG   \n",
       "...              ...        ...              ...           ...   \n",
       "1365545      Regular         MP                -           фЄС   \n",
       "1365546  Chairperson         MP                -                 \n",
       "1365547      Regular         MP                -           фЄС   \n",
       "1365548  Chairperson         MP                -                 \n",
       "1365549  Chairperson         MP                -                 \n",
       "\n",
       "                                        Speaker_party_name Party_status  \\\n",
       "0                               Partido Popular de Galicia    Coalition   \n",
       "1                               Partido Popular de Galicia    Coalition   \n",
       "2                               Partido Popular de Galicia    Coalition   \n",
       "3                               Partido Popular de Galicia    Coalition   \n",
       "4                               Partido Popular de Galicia    Coalition   \n",
       "...                                                    ...          ...   \n",
       "1365545  Фракція політичної партії \"Європейська солідар...   Opposition   \n",
       "1365546                                                                   \n",
       "1365547  Фракція політичної партії \"Європейська солідар...   Opposition   \n",
       "1365548                                                                   \n",
       "1365549                                                                   \n",
       "\n",
       "                            Speaker_name Speaker_gender Speaker_birth  \n",
       "0        Santalices Vieira, Miguel Ángel              M          1955  \n",
       "1        Santalices Vieira, Miguel Ángel              M          1955  \n",
       "2                Arias Rodríguez, Raquel              F          1966  \n",
       "3        Santalices Vieira, Miguel Ángel              M          1955  \n",
       "4        Santalices Vieira, Miguel Ángel              M          1955  \n",
       "...                                  ...            ...           ...  \n",
       "1365545  Олексійович Гончаренко, Олексій              M          1980  \n",
       "1365546   Олександрович Разумков, Дмитро              M          1983  \n",
       "1365547   Володимирівна Геращенко, Ірина              F          1971  \n",
       "1365548   Олександрович Разумков, Дмитро              M          1983  \n",
       "1365549   Олександрович Разумков, Дмитро              M          1983  \n",
       "\n",
       "[1365550 rows x 20 columns]"
      ]
     },
     "execution_count": 3,
     "metadata": {},
     "output_type": "execute_result"
    }
   ],
   "source": [
    "metadata"
   ]
  },
  {
   "cell_type": "code",
   "execution_count": 82,
   "metadata": {
    "ExecuteTime": {
     "end_time": "2023-05-29T13:03:16.537632Z",
     "start_time": "2023-05-29T13:03:16.466237Z"
    },
    "collapsed": false
   },
   "outputs": [
    {
     "data": {
      "text/html": [
       "<div>\n",
       "<style scoped>\n",
       "    .dataframe tbody tr th:only-of-type {\n",
       "        vertical-align: middle;\n",
       "    }\n",
       "\n",
       "    .dataframe tbody tr th {\n",
       "        vertical-align: top;\n",
       "    }\n",
       "\n",
       "    .dataframe thead th {\n",
       "        text-align: right;\n",
       "    }\n",
       "</style>\n",
       "<table border=\"1\" class=\"dataframe\">\n",
       "  <thead>\n",
       "    <tr style=\"text-align: right;\">\n",
       "      <th></th>\n",
       "      <th>sentence_id</th>\n",
       "      <th>speech_id</th>\n",
       "      <th>language</th>\n",
       "      <th>text</th>\n",
       "      <th>lemmas</th>\n",
       "    </tr>\n",
       "  </thead>\n",
       "  <tbody>\n",
       "    <tr>\n",
       "      <th>0</th>\n",
       "      <td>ParlaMint-SI_2014-12-23-SDZ7-Izredna-08.ana.se...</td>\n",
       "      <td>ParlaMint-SI_2014-12-23-SDZ7-Izredna-08.u1</td>\n",
       "      <td>SI</td>\n",
       "      <td>Spoštovane kolegice poslanke in kolegi poslanc...</td>\n",
       "      <td>spoštovan kolegica poslanka in kolega poslanec...</td>\n",
       "    </tr>\n",
       "    <tr>\n",
       "      <th>1</th>\n",
       "      <td>ParlaMint-SI_2014-12-23-SDZ7-Izredna-08.ana.se...</td>\n",
       "      <td>ParlaMint-SI_2014-12-23-SDZ7-Izredna-08.u1</td>\n",
       "      <td>SI</td>\n",
       "      <td>Začenjam 8. izredno sejo Državnega zbora, ki s...</td>\n",
       "      <td>začenjati izreden seja državen zbor ki biti on...</td>\n",
       "    </tr>\n",
       "    <tr>\n",
       "      <th>2</th>\n",
       "      <td>ParlaMint-SI_2014-12-23-SDZ7-Izredna-08.ana.se...</td>\n",
       "      <td>ParlaMint-SI_2014-12-23-SDZ7-Izredna-08.u1</td>\n",
       "      <td>SI</td>\n",
       "      <td>Obveščen sem, da se današnje seje ne more udel...</td>\n",
       "      <td>obveščen biti da se današnji seja ne moči udel...</td>\n",
       "    </tr>\n",
       "    <tr>\n",
       "      <th>3</th>\n",
       "      <td>ParlaMint-SI_2014-12-23-SDZ7-Izredna-08.ana.se...</td>\n",
       "      <td>ParlaMint-SI_2014-12-23-SDZ7-Izredna-08.u1</td>\n",
       "      <td>SI</td>\n",
       "      <td>Vse prisotne lepo pozdravljam.</td>\n",
       "      <td>ves prisoten lepo pozdravljati</td>\n",
       "    </tr>\n",
       "    <tr>\n",
       "      <th>4</th>\n",
       "      <td>ParlaMint-SI_2014-12-23-SDZ7-Izredna-08.ana.se...</td>\n",
       "      <td>ParlaMint-SI_2014-12-23-SDZ7-Izredna-08.u1</td>\n",
       "      <td>SI</td>\n",
       "      <td>Prehajamo na določitev dnevnega reda 8. izredn...</td>\n",
       "      <td>prehajati na določitev dneven red izreden seja...</td>\n",
       "    </tr>\n",
       "    <tr>\n",
       "      <th>...</th>\n",
       "      <td>...</td>\n",
       "      <td>...</td>\n",
       "      <td>...</td>\n",
       "      <td>...</td>\n",
       "      <td>...</td>\n",
       "    </tr>\n",
       "    <tr>\n",
       "      <th>3876178</th>\n",
       "      <td>ParlaMint-SI_2019-03-05-SDZ8-Redna-05.ana.seg8...</td>\n",
       "      <td>ParlaMint-SI_2019-03-05-SDZ8-Redna-05.u170</td>\n",
       "      <td>SI</td>\n",
       "      <td>S tem prekinjam to točko dnevnega reda.</td>\n",
       "      <td>z ta prekinjati ta točka dneven red</td>\n",
       "    </tr>\n",
       "    <tr>\n",
       "      <th>3876179</th>\n",
       "      <td>ParlaMint-SI_2019-03-05-SDZ8-Redna-05.ana.seg8...</td>\n",
       "      <td>ParlaMint-SI_2019-03-05-SDZ8-Redna-05.u170</td>\n",
       "      <td>SI</td>\n",
       "      <td>Prekinjam pa tudi 5. sejo zbora, ki jo bomo na...</td>\n",
       "      <td>prekinjati pa tudi seja zbor ki on biti nadalj...</td>\n",
       "    </tr>\n",
       "    <tr>\n",
       "      <th>3876180</th>\n",
       "      <td>ParlaMint-SI_2019-03-05-SDZ8-Redna-05.ana.seg8...</td>\n",
       "      <td>ParlaMint-SI_2019-03-05-SDZ8-Redna-05.u170</td>\n",
       "      <td>SI</td>\n",
       "      <td>Lep večer še naprej vsem!</td>\n",
       "      <td>lep večer še naprej ves</td>\n",
       "    </tr>\n",
       "    <tr>\n",
       "      <th>3876181</th>\n",
       "      <td>ParlaMint-SI_2019-03-05-SDZ8-Redna-05.ana.seg8...</td>\n",
       "      <td>ParlaMint-SI_2019-03-05-SDZ8-Redna-05.u170</td>\n",
       "      <td>SI</td>\n",
       "      <td>( SEJA JE BILA PREKINJENA 5.</td>\n",
       "      <td>seja biti biti prekinjen</td>\n",
       "    </tr>\n",
       "    <tr>\n",
       "      <th>3876182</th>\n",
       "      <td>ParlaMint-SI_2019-03-05-SDZ8-Redna-05.ana.seg8...</td>\n",
       "      <td>ParlaMint-SI_2019-03-05-SDZ8-Redna-05.u170</td>\n",
       "      <td>SI</td>\n",
       "      <td>MARCA 2019 OB 19.51.)</td>\n",
       "      <td>marec ob</td>\n",
       "    </tr>\n",
       "  </tbody>\n",
       "</table>\n",
       "<p>3876183 rows × 5 columns</p>\n",
       "</div>"
      ],
      "text/plain": [
       "                                               sentence_id  \\\n",
       "0        ParlaMint-SI_2014-12-23-SDZ7-Izredna-08.ana.se...   \n",
       "1        ParlaMint-SI_2014-12-23-SDZ7-Izredna-08.ana.se...   \n",
       "2        ParlaMint-SI_2014-12-23-SDZ7-Izredna-08.ana.se...   \n",
       "3        ParlaMint-SI_2014-12-23-SDZ7-Izredna-08.ana.se...   \n",
       "4        ParlaMint-SI_2014-12-23-SDZ7-Izredna-08.ana.se...   \n",
       "...                                                    ...   \n",
       "3876178  ParlaMint-SI_2019-03-05-SDZ8-Redna-05.ana.seg8...   \n",
       "3876179  ParlaMint-SI_2019-03-05-SDZ8-Redna-05.ana.seg8...   \n",
       "3876180  ParlaMint-SI_2019-03-05-SDZ8-Redna-05.ana.seg8...   \n",
       "3876181  ParlaMint-SI_2019-03-05-SDZ8-Redna-05.ana.seg8...   \n",
       "3876182  ParlaMint-SI_2019-03-05-SDZ8-Redna-05.ana.seg8...   \n",
       "\n",
       "                                          speech_id language  \\\n",
       "0        ParlaMint-SI_2014-12-23-SDZ7-Izredna-08.u1       SI   \n",
       "1        ParlaMint-SI_2014-12-23-SDZ7-Izredna-08.u1       SI   \n",
       "2        ParlaMint-SI_2014-12-23-SDZ7-Izredna-08.u1       SI   \n",
       "3        ParlaMint-SI_2014-12-23-SDZ7-Izredna-08.u1       SI   \n",
       "4        ParlaMint-SI_2014-12-23-SDZ7-Izredna-08.u1       SI   \n",
       "...                                             ...      ...   \n",
       "3876178  ParlaMint-SI_2019-03-05-SDZ8-Redna-05.u170       SI   \n",
       "3876179  ParlaMint-SI_2019-03-05-SDZ8-Redna-05.u170       SI   \n",
       "3876180  ParlaMint-SI_2019-03-05-SDZ8-Redna-05.u170       SI   \n",
       "3876181  ParlaMint-SI_2019-03-05-SDZ8-Redna-05.u170       SI   \n",
       "3876182  ParlaMint-SI_2019-03-05-SDZ8-Redna-05.u170       SI   \n",
       "\n",
       "                                                      text  \\\n",
       "0        Spoštovane kolegice poslanke in kolegi poslanc...   \n",
       "1        Začenjam 8. izredno sejo Državnega zbora, ki s...   \n",
       "2        Obveščen sem, da se današnje seje ne more udel...   \n",
       "3                           Vse prisotne lepo pozdravljam.   \n",
       "4        Prehajamo na določitev dnevnega reda 8. izredn...   \n",
       "...                                                    ...   \n",
       "3876178            S tem prekinjam to točko dnevnega reda.   \n",
       "3876179  Prekinjam pa tudi 5. sejo zbora, ki jo bomo na...   \n",
       "3876180                          Lep večer še naprej vsem!   \n",
       "3876181                       ( SEJA JE BILA PREKINJENA 5.   \n",
       "3876182                              MARCA 2019 OB 19.51.)   \n",
       "\n",
       "                                                    lemmas  \n",
       "0        spoštovan kolegica poslanka in kolega poslanec...  \n",
       "1        začenjati izreden seja državen zbor ki biti on...  \n",
       "2        obveščen biti da se današnji seja ne moči udel...  \n",
       "3                           ves prisoten lepo pozdravljati  \n",
       "4        prehajati na določitev dneven red izreden seja...  \n",
       "...                                                    ...  \n",
       "3876178                z ta prekinjati ta točka dneven red  \n",
       "3876179  prekinjati pa tudi seja zbor ki on biti nadalj...  \n",
       "3876180                            lep večer še naprej ves  \n",
       "3876181                           seja biti biti prekinjen  \n",
       "3876182                                           marec ob  \n",
       "\n",
       "[3876183 rows x 5 columns]"
      ]
     },
     "execution_count": 82,
     "metadata": {},
     "output_type": "execute_result"
    }
   ],
   "source": [
    "sentences[Languages.si]"
   ]
  },
  {
   "cell_type": "code",
   "execution_count": 6,
   "metadata": {
    "ExecuteTime": {
     "end_time": "2023-05-30T14:05:39.762693Z",
     "start_time": "2023-05-30T14:05:37.331722Z"
    },
    "collapsed": false
   },
   "outputs": [
    {
     "name": "stderr",
     "output_type": "stream",
     "text": [
      "100%|██████████████████████████████████████████████████████████████████████████████████████████████████████████| 5/5 [00:02<00:00,  2.06it/s]\n"
     ]
    }
   ],
   "source": [
    "for language in tqdm(Languages.all):\n",
    "    sentences[language].speech_id = sentences[language].speech_id.apply(lambda x: x.replace('.ana', ''))"
   ]
  },
  {
   "cell_type": "code",
   "execution_count": 7,
   "metadata": {
    "ExecuteTime": {
     "end_time": "2023-05-30T14:06:00.579344Z",
     "start_time": "2023-05-30T14:05:41.185175Z"
    },
    "collapsed": false
   },
   "outputs": [
    {
     "name": "stderr",
     "output_type": "stream",
     "text": [
      "100%|██████████████████████████████████████████████████████████████████████████████████████████████████████████| 5/5 [00:19<00:00,  3.88s/it]\n"
     ]
    }
   ],
   "source": [
    "speeches = {}\n",
    "for language in tqdm(sentences):\n",
    "    with open(f'artefacts/pandas_frames/speech2lemmas_{language}.pkl', 'rb') as f:\n",
    "        s2l = pickle.load(f)\n",
    "        for s in list(s2l.keys()):\n",
    "            s2l[s.replace('.ana', '')] = s2l[s]\n",
    "            s2l.pop(s)\n",
    "        speeches[language] = s2l"
   ]
  },
  {
   "cell_type": "markdown",
   "metadata": {
    "collapsed": false
   },
   "source": [
    "## Prepare data for TF-IDF"
   ]
  },
  {
   "cell_type": "markdown",
   "metadata": {
    "collapsed": false
   },
   "source": [
    "### Time period\n",
    "Based on Bojan's sentiment scores"
   ]
  },
  {
   "cell_type": "code",
   "execution_count": 7,
   "metadata": {
    "ExecuteTime": {
     "end_time": "2023-05-29T08:43:32.027963Z",
     "start_time": "2023-05-29T08:43:30.330792Z"
    },
    "collapsed": false
   },
   "outputs": [],
   "source": [
    "sentences_gb = sentences[Languages.gb][sentences[Languages.gb].speech_id.str.contains('commons')]\n",
    "metadata_gb = metadata[metadata.ID.isin(sentences_gb.speech_id.unique())]"
   ]
  },
  {
   "cell_type": "code",
   "execution_count": 9,
   "metadata": {
    "ExecuteTime": {
     "end_time": "2023-05-29T08:43:39.256570Z",
     "start_time": "2023-05-29T08:43:39.157671Z"
    },
    "collapsed": false
   },
   "outputs": [],
   "source": [
    "may_1_to_32_2020_metadata = metadata_gb[(metadata_gb.Date >= '2020-05-01') & (metadata_gb.Date <= '2020-05-31')]\n",
    "may_1_to_32_2020_sentences = sentences_gb[sentences_gb.speech_id.isin(may_1_to_32_2020_metadata.ID)]"
   ]
  },
  {
   "cell_type": "code",
   "execution_count": 10,
   "metadata": {
    "ExecuteTime": {
     "end_time": "2023-05-29T08:43:41.112338Z",
     "start_time": "2023-05-29T08:43:40.964497Z"
    },
    "collapsed": false
   },
   "outputs": [
    {
     "data": {
      "text/plain": [
       "('con:', 10021, 'lab:', 4672)"
      ]
     },
     "execution_count": 10,
     "metadata": {},
     "output_type": "execute_result"
    }
   ],
   "source": [
    "con_sentences = may_1_to_32_2020_sentences[may_1_to_32_2020_sentences.speech_id.isin(\n",
    "    may_1_to_32_2020_metadata[may_1_to_32_2020_metadata.Speaker_party == 'CON'].ID.unique())]\n",
    "lab_sentences = may_1_to_32_2020_sentences[may_1_to_32_2020_sentences.speech_id.isin(\n",
    "    may_1_to_32_2020_metadata[may_1_to_32_2020_metadata.Speaker_party == 'LAB'].ID.unique())]\n",
    "'con:', len(con_sentences), 'lab:', len(lab_sentences)"
   ]
  },
  {
   "cell_type": "code",
   "execution_count": 11,
   "metadata": {
    "ExecuteTime": {
     "end_time": "2023-05-29T08:43:45.297394Z",
     "start_time": "2023-05-29T08:43:45.058719Z"
    },
    "collapsed": false
   },
   "outputs": [],
   "source": [
    "# get lemma groups by speach_id\n",
    "lemmas = [\n",
    "    ('con', ' '.join(con_sentences.groupby('speech_id').lemmas.apply(lambda x: ' '.join(x)))),\n",
    "    ('lab', ' '.join(lab_sentences.groupby('speech_id').lemmas.apply(lambda x: ' '.join(x)))),\n",
    "]"
   ]
  },
  {
   "cell_type": "markdown",
   "metadata": {
    "collapsed": false
   },
   "source": [
    "### By list of speeches"
   ]
  },
  {
   "cell_type": "code",
   "execution_count": 67,
   "metadata": {
    "ExecuteTime": {
     "end_time": "2023-05-29T10:44:56.997940Z",
     "start_time": "2023-05-29T10:44:56.592359Z"
    },
    "collapsed": false
   },
   "outputs": [
    {
     "name": "stderr",
     "output_type": "stream",
     "text": [
      "100%|██████████████████████████████████████████████████████████████████████████████████████████████████████| 973/973 [00:00<00:00, 2372.28it/s]\n"
     ]
    }
   ],
   "source": [
    "lemmas = []\n",
    "for speaker_name, speech_ids in tqdm(metadata[metadata.language == Languages.si].groupby('Speaker_name').ID):\n",
    "    lemmas.append((\n",
    "        speaker_name,\n",
    "        ' '.join([speeches[Languages.si][sid] for sid in speech_ids.values if sid in speeches[Languages.si]])\n",
    "    ))\n",
    "lemmas = list(sorted(lemmas, key=lambda x: len(x[1])))"
   ]
  },
  {
   "cell_type": "markdown",
   "metadata": {
    "collapsed": false
   },
   "source": [
    "#### Limit speakers"
   ]
  },
  {
   "cell_type": "code",
   "execution_count": 73,
   "metadata": {
    "ExecuteTime": {
     "end_time": "2023-05-29T11:11:00.134831Z",
     "start_time": "2023-05-29T11:10:59.595971Z"
    },
    "collapsed": false
   },
   "outputs": [
    {
     "name": "stderr",
     "output_type": "stream",
     "text": [
      "100%|███████████████████████████████████████████████████████████████████████████████████████████████████████████| 2/2 [00:00<00:00, 483.08it/s]\n"
     ]
    }
   ],
   "source": [
    "lemmas = []\n",
    "speakers = ['Janša, Ivan Janez', 'Janković, Zoran']\n",
    "for speaker_name, speech_ids in tqdm(\n",
    "        metadata[(metadata.language == Languages.si) & (metadata.isin(speakers).Speaker_name)].groupby(\n",
    "            'Speaker_name').ID):\n",
    "    lemmas.append((\n",
    "        speaker_name,\n",
    "        ' '.join([speeches[Languages.si][sid] for sid in speech_ids.values if sid in speeches[Languages.si]])\n",
    "    ))\n",
    "lemmas = list(sorted(lemmas, key=lambda x: len(x[1])))"
   ]
  },
  {
   "cell_type": "markdown",
   "metadata": {
    "collapsed": false
   },
   "source": [
    "### Topics per party"
   ]
  },
  {
   "cell_type": "code",
   "execution_count": 42,
   "metadata": {
    "ExecuteTime": {
     "end_time": "2023-05-31T07:04:08.666230Z",
     "start_time": "2023-05-31T07:03:11.156611Z"
    },
    "collapsed": false
   },
   "outputs": [
    {
     "name": "stdout",
     "output_type": "stream",
     "text": [
      "processing healthcare\n"
     ]
    },
    {
     "name": "stderr",
     "output_type": "stream",
     "text": [
      "100%|██████████████████████████████████████████████████████████████████████████████████████████████████████████| 5/5 [00:18<00:00,  3.80s/it]\n"
     ]
    },
    {
     "name": "stdout",
     "output_type": "stream",
     "text": [
      "processing eu\n"
     ]
    },
    {
     "name": "stderr",
     "output_type": "stream",
     "text": [
      "100%|██████████████████████████████████████████████████████████████████████████████████████████████████████████| 5/5 [00:18<00:00,  3.77s/it]\n"
     ]
    },
    {
     "name": "stdout",
     "output_type": "stream",
     "text": [
      "processing war\n"
     ]
    },
    {
     "name": "stderr",
     "output_type": "stream",
     "text": [
      "100%|██████████████████████████████████████████████████████████████████████████████████████████████████████████| 5/5 [00:19<00:00,  3.85s/it]"
     ]
    },
    {
     "name": "stdout",
     "output_type": "stream",
     "text": [
      "dict_keys(['healthcare', 'eu', 'war'])\n",
      "dict_keys(['SI', 'GB', 'HU', 'UA'])\n",
      "['SDS', 'SD', 'NSi', 'LDS', 'SMC', 'Levica', 'DeSUS', 'LMŠ', 'SNS', 'SLS', 'SAB', 'ZL', 'NP', 'PS', 'Zares', 'ZLSD', 'DL', 'NeP', 'SMS', '/', 'SLS+SKD', 'Lipa', 'Konkretno', 'ZaAB', 'DLGV']\n",
      "['CON', 'LAB', 'SNP', 'LD', 'DUP', 'PC', 'GP', 'I;CON', 'I', 'SDLP', 'SNP;PAUB', 'LAB;I', 'SNP;I', 'UUP', 'A', 'CON;I', 'UKIP', 'PC;I', 'I;LD', 'IGC', 'IGC;LJ95', 'LJ95;IGC', 'CON;LAB', '/', '64RT', 'BI', 'CB', 'CB;LAB', 'CON;0UBS;NA', 'CON;CB', 'CON;I;LD', 'CON;LD', 'CON;NA', 'CON;NA;CB', 'I;CB', 'IL', 'IL;NA', 'L8TA', 'LAB;NA', 'LD;CB', 'LD;NA', 'LD;NA;CB', 'LI', 'NA', 'NA;CB', 'NA;CON', 'NA;LAB', 'QMZZ', 'UKIP;I', 'UKIP;NA', 'ZKPW']\n"
     ]
    },
    {
     "name": "stderr",
     "output_type": "stream",
     "text": [
      "\n"
     ]
    }
   ],
   "source": [
    "lemmas = {}\n",
    "artefacts_by_topic = Path('artefacts/by_topic')\n",
    "lemmas_metadata = {}\n",
    "for topic in ['healthcare', 'eu', 'war']:\n",
    "    print('processing', topic)\n",
    "    topic_lemmas = {}\n",
    "    topic_df = pd.read_feather(artefacts_by_topic / f'{topic}.feather')\n",
    "    for language in tqdm(Languages.all):\n",
    "        language_lemmas_metadata = lemmas_metadata.setdefault(language, {})\n",
    "        topic_lemmas_metadata = language_lemmas_metadata.setdefault(topic, {})\n",
    "        language_lemmas = []\n",
    "        if language not in topic_df.columns:\n",
    "            continue\n",
    "        topic_speeches = set(topic_df[language].values)\n",
    "        speech2lemmas = sentences[language].groupby('speech_id').lemmas.apply(lambda x: ' '.join(x))\n",
    "\n",
    "        for party, party_metadata in metadata[metadata.language == language].groupby('Speaker_party'):\n",
    "            party = party if party.strip() else '/'\n",
    "            topic_lemmas_metadata[party] = party_metadata\n",
    "            ids = [i for i in party_metadata.ID if i in speech2lemmas and i in topic_speeches]\n",
    "            language_lemmas.append(\n",
    "                (party, ' '.join(speech2lemmas[ids]))\n",
    "            )\n",
    "        language_lemmas = list(sorted(language_lemmas, key=lambda x: len(x[1]), reverse=True))\n",
    "        topic_lemmas[language] = language_lemmas\n",
    "    lemmas[topic] = topic_lemmas\n",
    "print(lemmas.keys())\n",
    "print(lemmas[list(lemmas.keys())[0]].keys())\n",
    "print([l for l, _ in lemmas[list(lemmas.keys())[0]]['SI']])\n",
    "print([l for l, _ in lemmas[list(lemmas.keys())[0]]['GB']])\n",
    "topic_artefacts = Path('artefacts/by_topic/tf_idf/by_party')"
   ]
  },
  {
   "cell_type": "markdown",
   "metadata": {
    "collapsed": false
   },
   "source": [
    "## Topics per speaker"
   ]
  },
  {
   "cell_type": "code",
   "execution_count": 15,
   "metadata": {
    "ExecuteTime": {
     "end_time": "2023-05-31T06:13:51.062301Z",
     "start_time": "2023-05-31T06:12:51.385125Z"
    },
    "collapsed": false
   },
   "outputs": [
    {
     "name": "stdout",
     "output_type": "stream",
     "text": [
      "processing healthcare\n"
     ]
    },
    {
     "name": "stderr",
     "output_type": "stream",
     "text": [
      "100%|██████████████████████████████████████████████████████████████████████████████████████████████████████████| 5/5 [00:19<00:00,  3.94s/it]\n"
     ]
    },
    {
     "name": "stdout",
     "output_type": "stream",
     "text": [
      "processing eu\n"
     ]
    },
    {
     "name": "stderr",
     "output_type": "stream",
     "text": [
      "100%|██████████████████████████████████████████████████████████████████████████████████████████████████████████| 5/5 [00:19<00:00,  3.95s/it]\n"
     ]
    },
    {
     "name": "stdout",
     "output_type": "stream",
     "text": [
      "processing war\n"
     ]
    },
    {
     "name": "stderr",
     "output_type": "stream",
     "text": [
      "100%|██████████████████████████████████████████████████████████████████████████████████████████████████████████| 5/5 [00:19<00:00,  3.97s/it]"
     ]
    },
    {
     "name": "stdout",
     "output_type": "stream",
     "text": [
      "dict_keys(['healthcare', 'eu', 'war'])\n",
      "dict_keys(['SI', 'GB', 'HU', 'UA'])\n",
      "['Kordiš, Miha', 'Horvat, Jožef', 'Godec, Jelka', 'Möderndorfer, Jani', 'Germič, Ljubo', 'Grims, Branko', 'Janša, Ivan Janez', 'Muršič, Bojana', 'Pojbič, Marijan', 'Tanko, Jože', 'Cukjati, France', 'Mesec, Luka', 'Breznik, Franc', 'Gorenak, Vinko', 'Dimic, Iva', 'Trček, Franc', 'Bah Žibert, Anja', 'Bručan, Andrej', 'Sok, Alojz', 'Brinovšek, Nada', 'Sluga, Janja', 'Zalokar Oražem, Cvetka', 'Irgl, Eva', 'Tomić, Violeta', 'Bevk, Samo', 'Jelinčič, Zmago', 'Pavšič, Robert', 'Jeraj, Alenka', 'Lenart, Jože', 'Tonin, Matej', 'Lisec, Tomaž', 'Vrtovec, Jernej', 'Veber, Janko', 'Barovič, Bogdan', 'Mahnič, Žan', 'Potrata, Majda', 'Siter, Primož', 'Černač, Zvonko', 'Kociper, Maša', 'Žgajner Tavš, Barbara', 'Cigler, Željko', 'Tašner Vatovec, Matej', 'Bizjak Mlakar, Julijana', 'Drobnič, Janez', 'Židan, Dejan', 'Grill, Ivan', 'Cvikl, Milan Martin', 'Sukič, Nataša', 'Žnidarič, Mojca', 'Vizjak, Andrej', 'Peče, Sašo', 'Bratušek, Alenka', 'Jurša, Franc', 'Pogačnik, Marko', 'Polnar, Robert', 'Rop, Anton', 'Bandelli, Marko', 'Kontič, Bojan', 'Žnidaršič, Franc', 'Cerar, Miro', 'Šircelj, Andrej', 'Gantar, Tomaž', 'Pečan, Breda', 'Širca Ravnikar, Majda', 'Sajovic, Borut', 'Starović, Vojko', 'Brenčič, Stanislav', 'Petan, Rudolf', 'Rajh, Andrej', 'Han, Matjaž', 'Hot, Meira', 'Bogovič, Franc', 'Knežak, Soniboj', 'Jerovšek, Jožef', 'Lep Šimenko, Suzana', 'Lep, Jurij', 'Prikl, Uroš', 'Rajić, Branislav', 'Potrč, Miran', 'Pukšič, Franc', 'Prijatelj, Srečko', 'Divjak Mirnik, Lidija', 'Reberšek, Aleksander', 'Zabret, Andreja', 'Novak, Ljudmila', 'Črnak Meglič, Andreja', 'Koražija, Boštjan', 'Verbič, Dušan', 'Korče, Jerca', 'Podobnik, Janez', 'Škrinjar, Mojca', 'Šiško, Dušan', 'Ivanuša, Jani', 'Zorman, Branko', 'Koprivc, Marko', 'Anderlič, Anton', 'Prebil, Nik', 'Lenart, Jožef', 'Brulc, Mirko', 'Prevc, Mihael', 'Doblekar, Boris', 'Presečnik, Jakob', 'Ferjan, Jure', 'Petek, Milan', 'Hršak, Ivan', 'Gregorčič, Monika', 'Lah, Zvonko', 'Nemec, Matjaž', 'Čuš, Andrej', 'Rožej, Vito', 'Kovačič, Aljaž', 'Ban, Urška', 'Krivec, Danijel', 'Györek, Miran', 'Perič, Gregor', 'Golubović, Brane', 'Črnugelj, Silva', 'Zupan, Majda', 'Tisel, Štefan', 'Gulič, Aleš', 'Bajuk, Andrej', 'Medved, Rudi', 'Frangež, Matevž', 'Černigoj, Andrej', 'Furman, Karmen', 'Petek, Miro', 'Božič, Tilen', 'Baković, Predrag', 'Pavliha, Marko', 'Pavlin, Blaž', 'Simonovič, Branko', 'Rezman, Vili', 'Kumer, Dušan', 'Kucler Dolinar, Mojca', 'Klavora, Vasja', 'Bačič, Marija', 'Sušnik, Franc', 'Dekleva, Erika', 'Ljubeljšek, Mitja', 'Udovč, Mateja', 'Tomc, Romana', 'Kaloh, Dejan', 'Tabaković, Saša', 'Brunskole, Renata', 'Ivanuša, Lidija', 'Urh, Anton', 'Heferle, Tina', 'Rokavec, Franci', 'Zorčič, Igor', 'Šuštar Zalar, Tadeja', 'Logar, Anže', 'Kovačič, Marija Antonija', 'Juri, Franco', 'Peček, Igor', 'Janc, Kristijan', 'Moškrič, Janez', 'Džuban, Geza', 'Hvauc, Srečko', 'Zavadlav Ušaj, Elena', 'Moge, Rudolf', 'Kotnik Poropat, Marjana', 'Drnovšek, Janez', 'Lavtižar Bebler, Darja', 'Starman, Bojan', 'Diaci, Marko', 'Hrovat, Robert', 'Bohinc, Rado', 'Podkrajšek, Bojan', 'Juri, Luka', 'Zagorac, Boštjan', 'Ribič, Janez', 'Škoberne, Jan', 'Uhan, Marjetka', 'Lahovnik, Matej', 'Žerjav, Radovan', 'Hercegovac, Lejla', 'Čepič, Bogdan', 'Brejc, Mihael', 'Kangler, Franc', 'Trofenik, Vili', 'Kopač, Janez', 'Slavinec, Mitja', 'Kustec Lipicer, Simona', 'Vogrin, Ivan', 'Jazbec, Darko', 'Šergan, Vojka', 'Murgel, Jasna', 'Gantar, Pavel', 'Hanžek, Matjaž', 'Bajc, Josip', 'Virant, Gregor', 'Prednik, Jani', 'Paulič, Edvard', 'Matić, Dragan', 'Tisovic, Marija Ana', 'Škopac, Maruša', 'Marinič, Branko', 'Štemberger, Igor', 'Testen, Ciril', 'Rupar, Pavel', 'Horvat, Mitja', 'Rihter, Andreja', 'Magajna, Andrej', 'Kebrič, Ivan', 'Göncz, László', 'Koren, Drago', 'Levanič, Dejan', 'Čehovin, Jerko', 'Dobovšek, Bojan', 'Hainz, Primož', 'Grošelj Košnik, Irena', 'Kelemina, Branko', 'Jazbec, Franc', 'Simšič, Danica', 'Kres, Gvido', 'Pozsonec, Maria', 'Majhenič, Silven', 'Gumzar, Milan', 'Jenko, Jana', 'Braniselj, Rihard', 'Žagar, Ivan', 'Ziherl, Milenko', 'Merlo, Aleksander', 'Jelušič, Ljubica', 'Bon Klanjšček, Mirjam', 'Klasinc, Janja', 'Kokalj, Anton', 'Zanoškar, Matjaž', 'Vilfan, Peter', 'Jelen, Ivan', 'Pavlišič, Marko', 'Bernik, Jožef', 'Mikolič, Martin', 'Kozlovič, Lilijana', 'Počkaj, Vlasta', 'Hočevar, Katarina', 'Pohorec, Valentin', 'Levičar, Marinka', 'Jakič, Roman', 'Zajc, Simon', 'Plevčak, Marija', 'Kramberger, Janez', 'Gasparini, Mario', 'Colarič, Anton', 'Capuder, Franc', 'Levič, Peter', 'Kavtičnik, Jože Jožef', 'Valenčič, Kristina', 'Partljič, Anton', 'Šarec, Marjan', 'Golobič, Gregor', 'Drofenik, Marjan', 'Ramšak, Sonja', 'Vervega, Vesna', 'Horvat, Franc', 'Škodnik, Ivan', 'Čeligoj, Vojko', 'Školč, Jožef', 'Štebe, Tomaž', 'Ferluga, Marko', 'Jerič, Miran', 'Koleša, Anita', 'Meh, Srečko', 'Žnidar, Ljubo', 'Kopmajer, Benedikt', 'Kavčič, Blaž', 'Zver, Milan', 'Križman, Marijan', 'Vučko, Dušan', 'Janković, Zoran', 'Vonta, Tamara', 'Gaber, Slavko', 'Terčon, Davorin', 'Vnučec, Bogomir', 'Potočnik, Andreja', 'Opec, Jasmina', 'Ficko, Branko', 'Peterle, Alojz Lojze', 'Likar, Rado', 'Napast, Janja', 'Lavrinc, Maksimiljan', 'Katič, Andreja', 'Ambrožič, Borut', 'Juri, Aurelio', 'Krajnc, Bojan', 'Potočnik, Alojzij', 'Homan, Bojan', 'Pucko, Ciril', 'Žveglič, Roman', 'Kepa, Franci', 'Zlobec Lukič, Jaša', 'Stopar, Stanislava', 'Veršnik, Rudi', 'Ranc, Danilo Anton', 'Božič, Ivan', 'Posedel, Alojz', 'Pahor, Borut', 'Zamernik, Bogomir', 'Gašpar Mišič, Gašpar', 'Župevc, Melita', 'Pavlinič Krebs, Irma', 'Maurovič, Nina', 'Guček Zakošek, Margareta', 'Bikar, Alenka', 'Kovačič, Dimitrij', 'Cink, Tanja', 'Židan, Gregor', 'Bosnić, Dragan', 'Majnik, Lidija', 'Rugelj, Bojan', 'Lenko, Franc', 'Vasle, Janez', 'Laj, Franc', 'Šulin, Patricija', 'Dobrajc, Polonca', 'Malovrh, Jurij', 'Urh, Karla', 'Butolen, Anton', 'Merjasec, Leon', 'Areh Lavrič, Sonja', 'Verlič, Peter', 'Kampuš, Anton', 'Radič, Dušan', 'Grošelj, Leopold', 'Križanič, Franc', 'Brglez, Milan', 'Zorn, Aleksander', 'Slapnik, Tadej', 'Petavar Dobovšek, Damijana', 'Maršič, Dorijan', 'Rosec, Franc', 'Žiža, Felice', 'Mate, Dragutin', 'Avšič, Jože', 'Viler, Sara', 'Kek, Franci', 'Mamić, Ivan', 'Jerič, Aljoša', 'Kremžar, Leopold', 'Kos, Saša', 'Stepišnik, Stanko', 'Česnik, Peter Jožef', 'Čadež, Milan', 'Čok, Lucija', 'Šušmelj, Andrej', 'Kramar, Franc', 'Prelog, Ivan', 'Simčič, Ivan', 'Erjavec, Karl Viktor', 'Kurnjek, Branko', 'Mrzel, Jerica', 'Pavlič, Alenka', 'Beuermann, Richard', 'Smodiš, Branko', 'Bezjak, Marjan', 'Kunič, Jožef', 'Menih, Darko', 'Pajk, Stane', 'Velikonja, Jože', 'Pišek, Ivan', 'Pučnik, Mateja', 'Dimitrovski, Maja', 'Kikelj, Janez', 'Gaspari, Mitja', 'Bukovnik, Alan', 'Markež, Klavdija', 'Bavčar, Igor', 'Krajčič, Darij', 'Gračner, Zoran', 'Komljanec, Janez', 'Delak, Anton', 'Kotnik, Irena', 'Osterman, Aleksandra', 'Battelli, Roberto', 'Komar, Polonca', 'Horváth, Ferenc', 'Kavčič, Aleksander', 'Koren Gomboc, Alenka', 'Mencinger, Tomaž Tom', 'Janc, Branko', 'Ficko, Jožef', 'Kozmus Ferjan, Karmen', 'Špindler, Jožef', 'Tavčar, Irena', 'Godec, Joško', 'Blažič, Srečko', 'Komel, Tina', 'Švagan, Matjaž', 'Kacin, Jelko', 'Accetto, Matej', 'Andoljšek, Žiga', 'Andrijanič, Mark Boris', 'Antončič, Boštjan', 'Antončič, Vojko', 'Apohal Vučković, Lidija', 'Babič, Bojan', 'Bajec, Primož', 'Balant, Boris', 'Baloh Plahutnik, Saša', 'Baluh, Stanko', 'Bandelj, Elido', 'Bandelj, Mirko', 'Banovec, Tomaž', 'Barle Lakota, Andreja', 'Barroso, Jose Manuel', 'Bavdaž Kuret, Darja', 'Baškovič, Ciril', 'Bednarik, Jakob', 'Bedrač, Gorazd', 'Behin, Leon', 'Bekeš, Peter', 'Belopavlovič, Nataša', 'Benčina, Dragoljuba', 'Berk, Vesna', 'Bertoncelj, Andrej', 'Bervar, Mitja', 'Bečan, Irena', 'Bilbija, Maja', 'Bitenc Pengov, Tina', 'Bitenc, Jaka', 'Bizjak, Ivan', 'Bizjak, Miloš', 'Bogataj, Miran', 'Bogataj, Tanja', 'Boh, Tomaž', 'Borota, Barbra', 'Božič, Janez', 'Božič, Zoran', 'Božnik, Breda', 'Bradač, Lado', 'Brecelj, Tina', 'Bregant, Tina', 'Brezigar, Barbara', 'Brezigar, Bojan', 'Brezovar, Nejc', 'Bricelj, Mitja', 'Briški, Marta', 'Bugarič, Bojan', 'Bukovec, Ivan', 'Bukovec, Sonja', 'Bulc, Violeta', 'Burgar, Janez', 'Burgar, Janko', 'But, Franc', 'Böhm, Lučka', 'Cantarutti, Aleš', 'Cerar, Božo', 'Cerar, Zdenka', 'Ciglar, Saša', 'Cigler Kralj, Janez', 'Cimperman, Janez', 'Cotman, Marjeta', 'Cox, Patrick', 'Crnek, Dejan', 'Cuderman, Ajda', 'Cugelj, Robert', 'Damijan, Jože', 'Deisinger, Mitja', 'Deželak, Janko', 'Dikaučič, Marjan', 'Dimovski, Vlado', 'Dolenc, Nataša', 'Dolinšek, Marjan', 'Dolčič, Tone', 'Dolčič, Tonček', 'Dovžan, Gašper', 'Dragonja, Metod', 'Drmaž, Irena', 'Dular, Janez', 'Engelman, Andrej', 'Erjavec, Emil', 'Eršte, Igor', 'Eržen, Ivan', 'Fabijan, Janez', 'Fabjan, Andrej', 'Fajt, Rajko', 'Fakin, Samo', 'Falkner, Jože', 'Farkaš Lainščak, Jerneja', 'Fekonja, Mario', 'Ferlež, Marija', 'Fišer, Zvonko', 'Flerin, Polona', 'Forte, Alenka', 'Frankar, Gašper', 'Fras, Darko', 'Fridl Jarc, Ignacija', 'Funkl, Marko', 'Garvas Hočevar, Janja', 'Gašperšič, Peter', 'Gerenčer, Andrej', 'Germovšek, Siniša', 'Geršak, Peter', 'Geč, Mojca', 'Gjerkeš, Henrik', 'Globačnik, Bojana', 'Godina, Duška', 'Golob, Ignac', 'Golob, Robert', 'Gorec, Alenka', 'Gorec, Nevenka', 'Gorenšček, Mitja', 'Gorišek, Metka', 'Grad, Franc', 'Grebenšek, Klemen', 'Grilc, Uroš', 'Grizold, Anton', 'Groff Ferjančič, Miranda', 'Groznik, Katarina', 'Grošelj, Klemen', 'Grošelj, Zoran', 'Gutman, Albin', 'Györkös Žnidar, Vesna', 'Györkös, Jozsef', 'Györkös, József', 'Hajdinjak, Metka', 'Hanžel, Slavko', 'Harej, Anton', 'Hartman, Helmut', 'Hauptman, Peter', 'Hojs, Aleš', 'Horvat, Andrej', 'Horvat, Miha', 'Horvat, Tomaž', 'Horvat, Vladimir', 'Hostnik Kališek, Maja', 'Hvala, Arja Ela', 'Hvala, Marko', 'Hvalica, Doro', 'Ilc, Jože', 'Irgolič, Aleš', 'Ivankovič, Pavo', 'Jadek Pensa, Dunja', 'Jaklin, Damijan', 'Jaklitsch, Helena', 'Jaklič, Klemen', 'Jakomin, Igor', 'Jakopič, Špela', 'Jambrovič, Boštjan', 'Jan, Zoltan', 'Janc, Marija', 'Jarc, Iztok', 'Jarc, Matjaž', 'Jazbec, Boštjan', 'Jazbec, Milan', 'Jazbec, Saša', 'Jeglič, Tomaž Marijan', 'Jenko, Zlatko', 'Jenull, Hinko', 'Jenčič, Mihael', 'Jereb, Samo', 'Jerina, Andreja', 'Jerkič, Lidija', 'Jeršič, Tomaž', 'Jesih, Boris', 'Ješovnik, Peter', 'Jurak, Gregor', 'Kajzer, Tone', 'Kalin, Tomaž', 'Kaluža, Ladislav', 'Kamnar, Helena', 'Kampuš, Marijan', 'Kastelic, Danijel', 'Keber, Dušan', 'Kekec, Bojan', 'Kert, Andreja', 'Kerševan, Erik', 'Klampfer, Ksenija', 'Klampfer, Marta', 'Klemenčič, Alenka', 'Klemenčič, Goran', 'Klemenčič, Zoran', 'Klinar, Igor', 'Klinar, Rina', 'Klun, Miroslav', 'Knez, Matjaž', 'Knez, Rajko', 'Kociper, Štefan', 'Kolar Celarc, Marija Milojka', 'Kolar, Milojka', 'Komac, Oskar', 'Končan, Darko', 'Končan, Roman', 'Končina Peternel, Mateja', 'Kopač Mrak, Anja', 'Koprivnikar, Boris', 'Koprol, Marcel', 'Korenjak Kramar, Ksenija', 'Koritnik, Boštjan', 'Korpič Horvat, Etelka', 'Kos, Drago', 'Kos, Gregor', 'Kos, Vojko', 'Kovač Jereb, Natalija', 'Kovač, Nataša', 'Kovač, Zdenka', 'Kovač, Zoran', 'Kovšca, Alenka', 'Kovšca, Alojz', 'Kozmik Vodušek, Vera', 'Košak, Maja', 'Košorok, Blaž', 'Kožuh Novak, Mateja', 'Krajcar, Urban', 'Krajnc, Darko', 'Krajnc, Miran', 'Krašovec, Darko', 'Krek, Milan', 'Krek, Uroš', 'Krek, Viktor', 'Kresal, Katarina', 'Krisper Kramberger, Marija', 'Kristan, Ivan', 'Krpač, Rado', 'Krušec, Dejan', 'Kugovnik, Otmar', 'Kumer, Bojan', 'Kurent, Andrej', 'Kus, Zoran', 'Kutoš, Samo', 'Kučan, Milan', 'Kušar, Igor', 'Kušar, Janko', 'Kvas, Bojana', 'Lah, Damjan', 'Lah, Marija', 'Lampe, Alenka', 'Lampret, Jernej', 'Lampret, Uroš', 'Lautar, Katja', 'Lavrič, Žiga', 'Lavtar, Barbara', 'Leben, Jure', 'Lenarčič, Janez', 'Lenko, Jože', 'Lesjak, Dušan', 'Leskovar, Simona', 'Levanič, Klemen', 'Ljubič, Teja', 'Lobnikar, Branko', 'Logar, Andrej', 'Logar, Matjaž', 'Lorber, Lučka', 'Luci, Miroslav', 'Lukačič, Marija', 'Lukić, Milan', 'Lukšič, Igor', 'Maher, Igor', 'Mahne, Branko', 'Mahnič, Borut', 'Majcen, Irena', 'Majes, Branko', 'Makovec Brenčič, Maja', 'Marenče, Miha', 'Marflak Trontelj, Jonika', 'Marolt, Majda', 'Marolt, Robert', 'Marušič, Dorijan', 'Marzel, Kornelija', 'Mauhler, Nina', 'Maučec Zakotnik, Jožica', 'Maučec, Marjan', 'Maver, Marko', 'Mavko, Mitja', 'Mazej Kukovič, Zofija', 'Maček, Peter', 'Medved, Ana', 'Meh, Borut', 'Mencinger, Jože', 'Meršol, Mitja', 'Mešl, Mateja', 'Mežan, Janez', 'Mežnar, Špelca', 'Mihelič, Aleš', 'Mihovar Globokar, Ksenija', 'Miklavčič, Borut', 'Mikuž, Lara', 'Mladenovič, Zoran', 'Mlinar, Angelika', 'Mokorel, Ana', 'Molan, Miha', 'More, Matej', 'Mozetič, Miroslav', 'Mramor, Dušan', 'Mravljak, Gvido', 'Muženič, Darko', 'Mužina, Aleksij', 'Nabernik, Franc', 'Nahtigal, Matjaž', 'Novak, Jože', 'Novak, Marko', 'Nussdorfer, Vlasta', 'Nučič, Samo', 'Obreza, Janez', 'Oder, Peter', 'Ogorelec Wagner, Vida', 'Ogrinc, Alenka', 'Ogrinc, Helena', 'Olaj, Anton', 'Olup Umek, Mira', 'Omerzel, Samo', 'Omerzu, Brane', 'Orehovec, Damir', 'Orešnik, Franc', 'Osvald, Marija', 'Ozimič, Milan', 'Palhartubger, Miroslava', 'Papič, Bojan', 'Pavlika, Marko', 'Pavčnik, Marijan', 'Pavšič, Rudi', 'Pejovnik, Stanislav', 'Pelikan, Zorko', 'Pelko, Stojan', 'Pengal, Peter', 'Penko, Boštjan', 'Pepelnik, Truda', 'Perenič, Gorazd', 'Perne, Damijan', 'Pertinač, Aljuš', 'Peršak, Anton Tone', 'Peterlin, Marjeta', 'Peternelj, Velja', 'Petrin, Tea Terezija', 'Petrič, Ernest', 'Petrovič, Jorg Kristijan', 'Petrovič, Jožef', 'Pečarič, Elena', 'Pečarič, Mirko', 'Pečnik, Damjana', 'Pfeifer, Jelka', 'Piano, Andrej', 'Pikalo, Jernej', 'Pipp, Marjan', 'Pirkmajer, Edo', 'Pirkovič, Jelka', 'Pirnat, Nina', 'Pistotnik, Zoran', 'Pivec, Aleksandra', 'Piškur Kosmač, Dunja', 'Planinšek, Mojca', 'Plausteiner, Andrej', 'Plavšak, Nina', 'Plevnik, Stane', 'Pliberšek, Tomaž', 'Pličanič, Senko', 'Ploj, Tone', 'Ploštajner, Zlata', 'Pluško, Alojz', 'Podbregar, Iztok', 'Podgoršek, Jože', 'Podgoršek, Marjan', 'Podkrižnik, Iztok', 'Podkrižnik, Lidija', 'Pogačar, Bojan', 'Pogačar, Jasna', 'Pogačar, Peter', 'Pogačnik, Milan', 'Pogačnik, Peter', 'Pogorelec, Janez', 'Poje, Andreja', 'Poklukar, Boštjan', 'Poklukar, Janez', 'Popovič, Boris', 'Potisek, Klemen', 'Potočan, Bojana', 'Potočnik, Franc', 'Potočnik, Janez', 'Poznič, Zoran', 'Počivalšek, Zdravko', 'Požežnik, Janko', 'Požun, Peter', 'Praček, Irena', 'Prašnikar, Astrif', 'Predalič, Božo', 'Prešiček, Dejan', 'Prijatelj, Janez', 'Prijon, Aleš', 'Primc, Aleš', 'Purg, Bojan', 'Purič, Iztok', 'Pučnik Rudl, Majda', 'Pšeničny, Viljem', 'Radić, Darja', 'Ramšak Pešec, Mojca', 'Rant, Andrej', 'Ratej, Zlatko', 'Ravnik, Branko', 'Ravnikar, Aleksander', 'Rebar Bornšek, Simona', 'Rejec Longar, Katja', 'Remih, Aleš', 'Renčelj, Gorazd', 'Rep, Roman', 'Repenšek, Darko', 'Režun, Bojan', 'Ribarič, Miha', 'Ribič, Mateja', 'Ribič, Nevenka', 'Ribičič, Ciril', 'Robnik, Ivan', 'Robnik, Viktor', 'Rogelj, Anton', 'Rovšek, Jernej', 'Rozman, Anton', 'Rozman, Maja', 'Roškar, Edvard', 'Rožac, Robert', 'Rožič, Ladislav', 'Rožič, Uroš', 'Ruparčič, Jože', 'Rupel, Dimitrij', 'Rus, Andrej', 'Salecl, Tanja', 'Schuster, Rudolf', 'Selan, Boris', 'Seleznjov, Genadij', 'Seliškar, Aleš', 'Semolič, Dušan', 'Setnikar Cankar, Stanka', 'Shaker, Kamal Izidor', 'Sikošek, Daša', 'Silva Caldeira, Vítor Manuel', 'Simič, Ivan', 'Simoniti, Iztok', 'Simoniti, Vasko', 'Simončič, Darko', 'Slana, Jožef', 'Slivšek, Jože', 'Smerkolj, Alenka', 'Smrdel, Borut', 'Sodin, Irena', 'Sovdat, Jadranka', 'Sovič, Boris', 'Stana, Alojz', 'Stanonik, Damjan', 'Stančič, Zoran', 'Stare, Darko', 'Starina Kosem, Adrijana', 'Starman, Marko', 'Stavanja, Peter', 'Stebernak, Lidija', 'Sterle, Jože', 'Stone, Donna', 'Stopar, Vojko', 'Stošicki, Natalija', 'Strle, Božo', 'Strmšnik, Igor', 'Strnad, Dušan', 'Strniša, Tanja', 'Strojin, Gregor', 'Stroligo, Klaudijo', 'Sušnik, Janez', 'Svetina, Peter', 'Svetlik, Ivan', 'Svetlič, Rok', 'Svilan, Sibil', 'Tavzes, Radovan', 'Teržan, Tina', 'Thierse, Wolfgang', 'Tolar, Božidar', 'Tolar, Darko', 'Tomažič, Branko', 'Tomažič, Herman', 'Tome, Branka', 'Tovornik, Magdalena', 'Trampuž, Miha', 'Tramte, Stojan', 'Tratnik, Jože', 'Traunšek, Sanja', 'Travnik Čebašek, Zdenka', 'Triller Vrtovec, Katja', 'Trobec Bručan, Duša', 'Trop Skaza, Alenka', 'Trček, Janez', 'Turk, Marta', 'Turk, Žiga', 'Tutta, Stanka', 'Tušar, Sandra', 'Türk, Danilo', 'Ulčar, Miha', 'Uršič, Cveto', 'Vajgl, Ivo', 'Valič, Mitja', 'Vasle, Boštjan', 'Verbič, Jernej', 'Vesel Valentinčič, Meta', 'Vesel, Tomaž', 'Vesenjak, Peter', 'Vidic, Tomaž', 'Vindišar, Franc', 'Vitez, Renata', 'Vlaj, Janez', 'Vlačič, Patrick', 'Voršič, Nataša', 'Vraničar Erman, Mateja', 'Vraničar, Mateja', 'Vrenko, Erik', 'Vrhunec, Simon', 'Vrisk, Peter', 'Vuk, Martina', 'Wohinz, Miha', 'Xhaferi, Talat', 'Zagorac, Srečko', 'Zalar, Aleš', 'Zatler, Renata', 'Zevnik, Metka', 'Zidanšek, Marko', 'Ziherl, Milenka', 'Zinrajh, Zvonko', 'Zobec, Jan', 'Zorko, Božidar', 'Zorman, Mirko', 'Zorn, Branko', 'Zupan, Adolf', 'Zupan, Jure', 'Zupan, Matic', 'Zupančič, Cvetko', 'de Hoop Scheffer, Jaap', 'Čadonič Špelič, Vida', 'Čas, Tomaž', 'Čebašek Travnik, Zdenka', 'Čebulj, Franc', 'Čeferin, Rok', 'Čepar, Drago', 'Čokl, Brigita', 'Črnič, Aleš', 'Čufer, Uroš', 'Čular, Patricija', 'Čurin, Sandi', 'Šabeder, Aleš', 'Šajna, Anton', 'Šarabon, Tanja', 'Šefic, Boštjan', 'Šelih, Ivan', 'Šiftar, Marjan', 'Šinkovec, Matjaž', 'Šinkovec, Melita', 'Škrlec, Boštjan', 'Šoltes, Igor', 'Šorli, Marko', 'Špenga, Andrej', 'Špiletič, Bogomir', 'Špoljar, Luka', 'Šteblaj, Kristina', 'Šter, Andrej', 'Štrajn, Stanko', 'Štravs Podlogar, Eva', 'Štromajer, Jernej', 'Štrovs, Marko', 'Štrukelj, Branimir', 'Šturm Kocjan, Jadranka', 'Šturm, Lovro', 'Šugman Stubbs, Katja', 'Šuklje, Borut', 'Šumenjak, Branko', 'Šuštaršič, Boris', 'Šušteršič, Janez', 'Švarc Pipan, Dominika', 'Šverc, Alenka', 'Šverc, Magdalena', 'Ščernjavič, Drago', 'Žakelj, Janez', 'Žarnić, Roko', 'Žbogar, Samuel', 'Žekš, Boštjan', 'Žiberna, Darko', 'Živec, Boris', 'Živkovič, Aleš', 'Žmavc, Gorazd', 'Žnidaršič Ferrari, Nadja', 'Žunič, Anton', 'Žura, Drago']\n",
      "['Hancock, Matthew John David', 'Shannon, Richard James', 'Hunt, Jeremy Richard Streynsham', 'Ashworth, Jonathan Michael Graham', 'Vaz, Valerie Carol Marian', 'Argar, Edward John Comport', 'May, Theresa Mary', 'Rees-Mogg, Jacob William', 'Madders, Justin Piers Richard', 'Javid, Sajid', 'Whitford, Philippa', 'Laing, Eleanor Fulton', 'Johnson, Alexander Boris de Pfeffel', 'Brine, Stephen Charles', 'Corbyn, Jeremy Bernard', 'Leadsom, Andrea Jacqueline', 'Thewliss, Alison Emily', 'Doyle-Price, Jacqueline', 'Burt, Alistair James Hendrie', 'Winterton, Rosalie', 'Ellison, Jane', 'Abrahams, Deborah Angela Elspeth Marie', 'Lamb, Norman Peter', 'Sunak, Rishi', 'Dinenage, Caroline Julia', 'Churchill, Johanna Peta', 'Dunne, Philip Martin', 'Keeley, Barbara Mary', 'Loughton, Timothy Paul', 'Hayes, Helen Elizabeth', 'Whately, Helen Olivia Bicknell', 'Streeting, Wesley Paul William', 'Barclay, Stephen Paul', 'Bruce, Fiona Claire', 'Amess, David Anthony Andrew', 'Johnson, Diana Ruth', 'Evans, Nigel Martin', 'Blackford, Ian', 'Lucas, Caroline', 'Hodgson, Sharon', 'Zahawi, Nadhim', 'Patel, Priti Sushil', 'Debbonaire, Thangam Elizabeth Rachel', 'Jones, Kevan David', 'Caulfield, Maria Colette', 'Bryant, Christopher John', 'Halfon, Robert Henry', 'Cunningham, Alexander', 'Norman, Alexander Jesse', 'Clark (Pow), Rebecca Faye', 'Scully, Paul Stuart', 'Gove, Michael Andrew', 'Maskell, Rachael Helen', 'Gwynne, Andrew John', 'James (Wollaston), Sarah', 'Atkins, Victoria', 'McDonnell, John Martin', 'Murrison, Andrew William', 'Smyth, Karin Marguerite', 'Norris, Alexander James Jorden', 'Quince, William James', 'Davies, Philip Andrew', 'Gummer, Benedict', 'Gibson, Patricia', 'Throup, Margaret Ann', 'Cameron, Lisa', 'Freeman, George William', 'Green, Katherine Anne', 'Creasy, Stella Judith', 'Harper, Mark James', 'Newlands, Gavin Andrew Stuart', 'Goldsmith (Berger), Luciana Clare', 'Cadbury, Ruth Margaret', 'Blackman, Robert John', 'Linden, David Melvyn', 'Greenwood, Margaret', 'McInnes, Elizabeth Anne', 'Starmer, Keir', 'Thomas-Symonds, Nicklaus', 'West, Catherine Elizabeth', 'Dorries, Nadine Vanessa', 'Brown, Lyn Carol', 'Miller, Maria Frances Lewis', 'Betts, Clive James Charles', 'Hammond, Philip', 'Malthouse, Christopher Laurie', 'Hillier, Margaret Olivia', 'Merriman, Huw William', 'Chope, Christopher Robert', 'Davies, Geraint Richard', 'Grayling, Christopher Stephen', 'Abbott, Diane Julie', 'Farron, Timothy James', 'Prentis, Victoria Mary Boswell', 'Dodds, Anneliese Jane', 'Anderson, Fleur', 'Wilson, Munira', 'Cooper, Yvette', 'Doughty, Stephen John', 'Poulter, Daniel Leonard James', 'Hardy, Emma Ann', 'Hendry, Andrew Egan Henderson', 'Ford, Victoria Grace', 'Coffey, Thérèse Anne', 'Mordaunt, Penelope Mary', 'McDonagh, Siobhain Ann', 'Gray, Neil Charles', 'Morris, Grahame Mark', 'Redwood, John Alan', 'McDonald, Stuart Campbell', 'Raab, Dominic Rennie', 'Bardell, Hannah Mary', 'Allin-Khan, Rosena Chantelle', 'Lefroy, Jeremy John Elton', 'Stephens, Christopher Charles', 'Blomfield, Paul Christopher', 'Lidington, David Roy', 'Penning, Michael', 'Sherriff, Paula Michelle', 'Brokenshire, James Peter', 'McCarthy, Kerry Gillian', 'Slaughter, Andrew Francis', 'Osborne, George Gideon Oliver', 'Foster, Kevin John', 'Glen, John Philip', 'Huddleston, Nigel Paul', 'Jardine, Christine Anne', 'Timms, Stephen Creswell', 'Selous, Andrew Edmund Armstrong', 'Burnham, Andrew Murray', 'Philp, Chris Ian Brian Mynott', 'Neill, Robert James MacGillivray', 'Gibb, Nicolas John', 'Smith, Jeffrey', 'Buckland, Robert James', 'Eustice, Charles George', 'Moran, Layla Michelle', 'Walker-Lynch, Holly Jamie', 'Zeichner, Daniel Stephen', 'Twist, Mary Elizabeth', 'Malhotra-Saluja, Seema', 'Grant, Peter', 'Hayes, John Henry', 'Haigh, Louise Margaret', 'Davey, Edward Jonathon', 'Hoyle, Lindsay Harvey', 'Morris, Anne Marie', 'Grady, Patrick John', 'Cameron, David William Donald', 'Western, Matthew Raymond', 'Williamson, Gavin Alexander', 'Newton, Sarah Louise', 'Trevelyan, Anne-Marie Belinda', 'Onwurah, Chinyelu Susan', 'Keegan, Gillian', 'Jenrick, Robert Edward', 'Greenwood, Lilian Rachel', 'Alexander, Heidi', 'Walker, Robin Caspar', 'Olney, Sarah Jane', 'Champion, Sarah Deborah', 'Hollinrake, Kevin Paul', 'Reed, Steven Mark Ward', 'Buck, Karen Patricia', 'Chamberlain, Wendy Anne', 'Dowd, Peter Christopher', 'Bradley, Benjamin David', 'Shapps, Grant', 'Blackwood, Nicola', 'Hinds, Damian Patrick George', 'Hobhouse, Wera Benedicta', 'Cherry, Joanna Catherine', 'Charalambous, Charalambos', 'Esterson, William Roffen', 'Day, Martyn', 'Carden, Daniel Joseph', 'Thomas, Derek Gordon', 'Eagle, Angela', 'Lloyd, Anthony Joseph', 'Tomlinson, Justin Paul', 'Badenoch, Olukemi Olufunto', 'Crouch, Tracey Elizabeth Anne', 'Gillan, Cheryl Elise Kendall', 'Harman, Harriet Ruth', 'Brown, Alan', 'Leslie, Christopher Michael', 'Saville Roberts, Liz', 'Maclean, Rachel Helen', 'Rayner, Angela', 'Nokes, Caroline Fiona Ellen', 'Reynolds, Jonathan Neil', 'Leigh, Edward Julian Egerton', 'Lammy, David Lindon', 'Pollard, Luke', 'Hopkins, Rachel Louise', 'Long-Bailey, Rebecca', 'Smith, Catherine Jane', 'Gardiner, Barry Strachan', 'Huq, Rupa Asha', 'Reeves, Rachel Jane', 'Ali, Rushanara', 'Ellwood, Tobias Martin', 'Graham, Richard Michael John Ogilvie', 'Timpson, Anthony Edward', 'Thomson, Richard Gordon', 'Foxcroft, Victoria Jane', 'Jenkin, Bernard Christison', 'Johnson, Caroline Elizabeth', 'Vaz, Keith Anthony', 'Hammond, Stephen William', 'Hanvey, James Neale', 'Bradley, Karen Anne', 'Sheppard, Thomas', 'Mowat, David', 'Blackman, Kirsty Ann', 'McCabe, Stephen James', 'Fox, Liam', 'Bell, Aaron Stuart', 'Fellows, Marion', 'Gullis, Jonathan Edward', 'Ellis, Michael Tyrone', 'McMahon, James', 'Fuller, Richard Quentin', 'McKinnell, Catherine', 'Jones, Sarah Ann', 'Monaghan, Carol Frances', 'Gill, Preet Kaur', 'Wallace, Robert Ben Lobban', 'Whiteford, Eilidh', 'Onn, Melanie', 'Truss, Elizabeth Mary', 'Hall, Luke Anthony', \"O'Hara, Brendan\", 'Baker, Steven John', 'Stewart, Roderick James Nugent', 'Rodda, Mathew Richard Allen', 'Chalk, Alexander John Gervase', 'Courts, Robert Alexander', 'Davies-Jones, Alexandra Mary', 'Thomas, Gareth', 'Bottomley, Peter James', 'Thornberry, Emily', 'Brock, Deidre Leanne', 'Plunkett-Ernle-Erle-Drax, Richard Grosvenor', 'Cartlidge, James Roger', 'Wilson, Samuel', 'Davies, Miriam Jane Alice', 'Mercer, John Luther', 'Clarke, Kenneth', 'Sheerman, Barry John', 'Davis, David Michael', 'Elmore, Christopher Philip James', 'Fitzpatrick, James', 'Harris, Carolyn', 'Lewell-Buck, Emma Louise', 'Murray, Ian', 'Clarke, Simon Richard', 'Cooper, Julie Elizabeth', 'Morden, Jessica Elizabeth', 'Brereton, Jack Edgar', 'Donelan, Michelle Emma May Elizabeth', 'Aldous, Peter James Guy', 'Qureshi, Yasmin', 'Jones, Marcus Charles', 'Green, Damian Howard', 'Seely, Robert William Henry', 'Kinnock, Stephen Nathan', 'Hunt, Thomas Patrick', 'Leigh (Frazer), Lucy Claire', 'McGovern, Alison', 'Beresford, Alexander Paul', 'Drummond, Felicia Jane Beatrix', 'Dodds, Nigel', 'Burrowes, David John Barrington', 'McLaughlin, Elizabeth Anne', 'Thompson, Owen George', 'Burgon, Richard', 'Ul-Ghani, Nusrat Munir', 'Brake, Thomas Anthony', 'Crawley, Angela', 'Howarth, George Edward', 'Dromey, John Eugene Joseph', 'Creagh, Mary Helen', 'Reed, Jamieson Ronald', 'Wood, Michael Jon', 'Foy, Mary Kelly', 'Stride, Melvyn John', 'Greening, Justine', 'Marsden, Gordon', 'Gale, Roger James', 'Paisley, Ian Richard Kyle', 'Blunt, Crispin Jeremy Rupert', 'Kendall, Elizabeth Louise', 'Bowie, Andrew Campbell', 'Afolami, Abimbola', 'Cowan, Ronald Jack', 'Phillips, Jessica Rose', 'Mishra, Navendu Prabhat', 'George, Ruth Stephanie Nicole', 'Phillipson, Bridget Maeve', 'Brabin, Tracy Lynn', 'McDonald, Andrew Joseph', 'Wragg, William Peter', 'Little Pengelly, Emma', 'Clark, Gregory David', 'Bristow, Paul', 'Adams, Nigel', 'Cates, Miriam Joy', 'Shelbrooke, Alec', 'Murray, James Stewart', 'Dhesi, Tanmanjeet Singh', 'Butler, Dawn Petula', 'Oswald, Kirsten Frances', 'Wishart, Peter', 'Sherratt (Sandbach), Antoinette Geraldine', 'Ferrier, Margaret', 'Mitchell, Andrew John Bower', 'Allan, Lucy', 'Powell, Lucy Maria', 'Simmonds, David Timothy', 'Johnson, Kim Marie', 'Butler, Robert', 'Daby, Janet Jessica', 'Jones, Ruth Lorraine', 'Cummins, Judith Mary', 'Knight, Julian Carlton', 'Rimmer, Marie Elizabeth', 'Kerr, Stephen Charles', 'Heaton-Harris, Christopher', 'Smith, Chloe Rebecca', 'Goodman, Helen Catherine', 'Morton, Wendy', 'Perkins, Matthew Toby', 'McMorrin, Anna Rhiannon', 'Edwards, David Jonathan', 'Colburn, Elliot', 'Shah, Naseem Akhtar', 'Russell-Moyle, Lloyd', 'Williams, Hywel', 'Evans, Christopher James', 'Griffith, Nia Rhiannon', 'Twigg, John Derek', 'Mackinlay, Craig', 'De Cordova, Marsha Chantol', 'Hollobone, Philip Thomas', 'Morgan, Nicky', 'Evans, Luke Morgan', 'Cooper, Daisy', 'Blake Dagnall, Olivia Frances', 'Quin, Jeremy Mark', 'Robinson, Gavin James', 'Sunderland, James', 'Sweeney, Paul John', 'Morgan, Stephen James', 'Hoare, Simon James', 'Stafford, Alexander Paul Thomas', 'Latham, Pauline Elizabeth', 'Hurd, Nicholas Richard', 'Ryan, Joan Marie', 'Lancaster, Mark', 'Pursglove, Thomas Christopher John', 'Soubry, Anna Mary', 'Holden, Richard John', 'Carmichael, Alexander Morrison', 'Durkan, John Mark', 'Miliband, Edward Samuel', 'Walker, Charles Ashley Rupert', 'Hosie, Stewart', 'Matheson, Christian John Patrick', 'Bone, Peter William', 'Smith, Henry Edward Millar', 'Turley, Anna Catherine', 'Carter, Andrew John', 'Dakin, Nicholas', 'Webbe, Claudia Naomi', 'Spencer, Mark Steven', 'Villiers, Theresa Anne', 'Andrew, Stuart James', 'Owatemi, Taiwo', 'Hanson, David George', 'Byrne, Liam Dominic', 'Antoniazzi, Antonia Louise', 'Robinson, Mary Josephine', 'Webb, Suzanne', 'Tredinnick, David Arthur Stephen', 'Williams, Paul Daniel', 'Sobel, Alexander David', 'Hussain, Imran', 'Healey, John', 'Hands, Gregory William', 'Smith, Owen', 'Maynard, Paul Christopher', 'Docherty-Hughes, Martin John', 'Parish, Neil Quentin Gordon', 'Mann, John', 'Hart, Sally-Ann', 'Opperman, Guy Thomas', 'Oppong-Asare, Abena', 'Whittaker, Craig', 'Hudson, Neil Peter Hammerton', 'Spencer, Ben', 'Siddiq, Tulip Rizwana', 'Johnston, David Mervyn', 'Cash, William Nigel Paul', 'Tolhurst, Kelly Jane', 'Gideon, Joanna Mary', 'Eagle, Maria', 'Yasin, Mohammad', 'Benn, Hilary James', \"O'Brien, Neil John\", 'Jones, Fay Alicia', 'Moon, Madeleine', 'Heaton-Jones, Peter', 'Jones, Gerald', 'Main, Anne Margaret', 'Twigg, Stephen', 'Lewis, Julian Murray', 'Barron, Kevin John', 'Amesbury, Michael Lee', 'Cleverly, James Spencer', 'Law, Christopher Murray Alexander', 'Sultana, Zarah', 'Kennedy, Seema Louise Ghiassi', 'Mak, Alan', 'Pincher, Christopher John', 'Davies, James Michael', 'Nuttall, David', 'Brennan, Kevin Denis', 'Sharma, Alok Kumar', 'MacNeil, Angus Brendan', 'Mackrory, Cherilyn', 'Rosindell, Andrew Richard', 'Efford, Clive Stanley', 'Brooks-Osborne, Katharine Helen', 'Moore, Robert Peter', 'Smith, Greg', 'Stone, Jamie Hume', 'Pennycook, Matthew Thomas', 'Lee, Phillip James', 'Crabb, Stephen', 'Baron, John Charles', 'Daly, James Barry', 'Mullan, Kieran John', 'Percy, Andrew Theakstone', 'Mills, Nigel John', 'McFadden, Patrick Bosco', 'Reeves, Eleanor Claire', 'Wakeford, Christian', 'Kyle, Peter John', 'Duffield, Rosemary Clare', 'Nandy, Lisa Eva', 'Browne, Anthony Howe', 'Kruger, Daniel Rayne', 'Gauke, David Michael', 'Allen, Heidi-Suzanne', 'Duncan Smith, George Iain', 'Tarry, Samuel Peter', 'Winter, Bethan', 'Lopez, Julia Louise', 'Cunningham, James Dolan', 'Jones, Andrew Hanson', 'Furniss, Gillian', 'Bacon, Richard Michael', 'Mearns, James Ian', 'Skidmore, Christopher James', 'Khan, Mohammed Afzal', 'Warman, Matthew Robert', 'Watling, Giles Francis', 'Jackson, Stewart', 'Fletcher, Mark Peter', 'Owen, Sarah Mei Li', 'Goodwill, Robert', 'Ross, Douglas Gordon', 'Jones, Darren Paul', 'Lewis, Ivan', 'Davies, David Thomas Charles', 'Howlett, Ben', 'Evennett, David Anthony', 'Morris, James', 'Baldwin, Harriett Mary Morison', 'Rutley, David Henry', 'Marris, Robert Howard', 'Fletcher, Colleen Margaret', 'Mundell, David Gordon', 'Johnson, Jo', 'Tami, Mark Richard', 'Fovargue, Yvonne Helen', 'Gyimah, Samuel Phillip', 'Field, Mark Christopher', 'Hughes, Edmund Francis', 'Jarvis, Daniel Owen', 'Coyle, Neil', 'Donaldson, Jeffrey Mark', 'Tugendhat, Thomas Georg John', 'Pawsey, Mark Julian Francis', 'Harrison, Trudy Lynne', 'Hayman, Sue', 'Hopkins, Kelvin Peter', 'Vara, Shailesh Lakhman', 'Burstow, Paul Kenneth', 'Double, Stephen Daniel', 'Gibson, Peter Alexander', 'Crausby, David Anthony', 'Grieve, Dominic Charles Roberts', 'Kane, Michael Joseph Patrick', 'Flynn, Paul Phillip', 'Clwyd, Ann', 'Syms, Robert Andrew Raymond', 'Saxby, Selaine Rachel', 'Milton, Anne Frances', 'Hanna, Claire Aisling', 'MacAskill, Kenny Wright', 'Baynes, Simon Robert Maurice', 'Sharma, Virendra Kumar', 'Griffith, Andrew', 'Smith, Laura', 'Rees, Christina Elizabeth', 'Rowley, Lee Benjamin', 'Lee, Karen Elizabeth', 'Ahmed-Sheikh, Tasmina', 'Afriyie, Adam', 'McGinn, Conor Patrick', 'Aiken, Nicola Jane', 'Spellar, John Francis', 'Braverman, Sue-Ellen Cassiana', 'Glindon, Mary Theresa', 'Grant, William', 'Lewis, Clive Anthony', 'Ribeiro-Addy, Bellavia Janet', 'Lewis, Brandon Kenneth', 'Richardson, Angela Joy', 'Russell, Dean', 'Freer, Michael Whitney', 'Wharton, James', 'Osamor, Kate Ofunne', 'Bradshaw, Benjamin Peter James', 'Baillie, Siobhan Kathleen', 'Heappey, James Stephen', 'Roberts, Robert Joseph', 'Nichols, Charlotte Louise', 'Wiggin, William David', 'Dent Coad, Emma', 'Stevens, Joanna Meriel', 'Begum, Apsana', 'Jones, David Ian', 'Young, Jacob', 'Platt, Joanne Marie', 'Kwarteng, Kwasi Alfred Addo', 'Trott, Laura', 'Masterton, Paul', 'Gapes, Michael John', 'Martin, Alexander Gordon', 'Green, Christopher James', 'Stephenson, Andrew George', 'Lamont, John Robert', 'Duddridge, James Philip', 'Smith, Julian Richard', 'McVey, Esther Louise', 'Rudd, Amber', 'Hague, William', 'Wright, Jeremy Paul', 'Austin, Ian', 'Dowden, Oliver James', 'McDonald, Stewart Malcolm', 'Umunna, Chuka Harrison', 'Largan, Robert', 'Marson, Julie', 'Woodcock, John', 'Francois, Mark Gino', 'Edwards, Ruth Rosamond', 'Fareham, Dehenna Sheridan', 'Wright, Iain David', 'Mayhew, Jerome Patrick Burke', 'Blackman-Woods, Roberta Carol', 'Trickett, Jon Hedley', 'James, Margot Cathleen', 'Baker, Duncan Charles', 'Pound, Stephen Pelham', 'Buchan, Felicity Christiana', 'Byrne, Ian Robert', 'Flynn, Stephen Mark', 'Swinson, Joanne Kate', 'Berry, James Michael Ellwood', 'Lake, Ben Morgan', 'Black, Mhairi', 'Williams, Mark Fraser', 'Eshalomi, Florence', 'Howell, Paul', 'Snell, Gareth Craig', 'Graham, Luke Patrick', 'Stringer, Graham Eric', 'Clifton-Brown, Geoffrey Robert', 'Collins, Damian Noel Thomas', 'Cruddas, Jonathan', 'Longhi, Marco', 'Watson, Tom', 'Coaker, Vernon', 'Anderson, David', 'Fysh, Marcus John Hudson', 'Morris, David Thomas', 'Hollern, Catherine Malloy', 'Hendrick, Mark Phillip', 'Bhatti, Mohammad Saqib', 'Lockhart, Carla Rebecca', 'Lopresti, Giacomo', 'Stuart, Graham Charles', 'Vickers, Martin John', 'Whittingdale, John Flasby Lawrance', 'Fletcher, Nicholas Anthony', 'Lavery, Ian', 'Mann, Scott Leslie', 'Barwell, Gavin', 'Hill, Michael Robert', 'Crosbie, Virginia Ann', 'Howell, John Michael', 'Stewart, Iain Aitken', 'Wheeler, Heather Kay', 'Clarkson, Christopher Mark', 'Farry, Stephen Anthony', 'Flello, Robert Charles Douglas', 'Herbert, Nick', 'Ansell, Caroline', 'Whitfield, Martin David', 'Cable, John Vincent', 'Chapman, Jenny', 'Whittome, Nadia Edith', 'Flint, Caroline Louise', 'Solloway, Amanda Jane', 'Lewer, Andrew Iain', 'Whitley, Michael', 'Burghart, Michael Alex', 'Ritchie, Margaret', 'Farris, Laura Rose', 'Hamilton, Fabian', 'Wilson, Philip', 'Gethins, Stephen Patrick', 'Coutinho, Claire Coryl Julia', 'Clark, Feryal Demirci', 'Heald, Oliver', 'Cooper, Rosemary Elizabeth', 'Harris, Rebecca Elizabeth Scott', 'Britcliffe, Sara Alice', 'Spelman, Caroline Alice', 'Jones, Graham Peter', 'Doogan, David Michael', 'Barker, Paula', 'Smeeth, Ruth', 'Loder, Christopher Lionel John', 'Brown, Nicholas Hugh', 'Davies, Christopher Paul', 'Smith, Eleanor Patricia', 'Garnier, Edward', 'Robinson, Geoffrey', 'Peacock, Stephanie Louise', 'Atherton, Sarah Elizabeth', 'Colvile, Oliver Newton', 'Tracey, Craig Paul', 'Eastwood, Colum', 'Coffey, Ann', 'Sambrook, Gary William', 'Bailey, Shaun Stephen', 'McNally, John Joseph', 'Allen, Graham William', 'Hunt, Jane Marion', 'Kearns, Alicia Alexandra Martha', 'Jenkyns, Andrea Marie', 'Holmes, Paul John', 'Pearce, Teresa', 'Drew, David', 'Gray, James Whiteside', 'Mahmood, Shabana', 'Walker, Thelma Doris', 'Brady, Graham Stuart', 'Mathias, Tania', 'Kinahan, Danny', 'Stevenson, Andrew John', 'Elphicke, Brett Charles Anthony', 'Swayne, Desmond Angus', 'Berry, James Jacob Gilchrist', 'Ahmad Khan, Imran Nasir', 'Higginbotham, Antony', 'Sturdy, Julian Charles', 'Mangnall, Anthony James Holland', 'Whitehead, Alan Patrick Vincent', 'Williams, Alun Craig', 'McPartland, Stephen Anthony', 'Vickers, Matthew Alexander', 'Mohindra, Gagan', 'Moore, Damien', 'Sawford, Andrew', 'Bonnar, Steven', 'Elphicke, Natalie Cecilia', 'Pugh, John David', 'Hair, Kirstene Janette', 'Wild, James Oliver', 'Chishti, Atta-Ur-Rehman', 'Duguid, David James', 'Ellman, Louise Joyce', 'Mulholland, Gregory Thomas', 'Glass, Pat', 'Everitt, Ben', 'Dorans, Allan Hopkins', 'Hart, Simon Anthony', 'Randall, Thomas William', 'Smith, Nicholas Desmond John', 'Harrington, Richard', 'Bridgen, Andrew James', 'Benyon, Richard', 'Turner, Karl', 'Thomson, Ross', 'De Piero, Gloria', 'Jones, Susan Elan', 'Burns, Simon Hugh McGuigan', 'Hoey, Catharine Letitia', 'Bebb, Guto ap Owain', 'Frith, James Richard', 'Morrissey, Joy Inboden', 'Danczuk, Simon', 'Elliott, Julie', 'Clegg, Nicholas William Peter', 'Arkless, Richard', 'Bellingham, Henry', 'Tomlinson-Mynors, Michael James', 'Rashid, Mian Faisal', 'David, Wayne', 'Burden, Richard Haines', 'Anderson, Lee', 'Bingham, Andrew', 'Stewart, Robert Alexander', 'Johnson, Alan Arthur', 'Docherty, Leo', 'Benton, Scott Lloyd', 'Liddell-Grainger, Ian Richard Peregrine', 'Holloway, Adam James Harold', 'Perry, Claire Louise', 'Stuart, Gisela', 'Milling, Amanda Anne', 'Clarke, Theodora Roosevelt', 'Eastwood, Mark Simon', 'Costa, Alberto Castrenze', 'Engel, Natascha', 'Fletcher, Katherine', 'McCartney, Jason', 'Swire, Hugo', 'Mactaggart, Fiona Margaret', 'Owen, Albert', 'Bailey, Adrian Edward', 'Levy, Ian', 'Fell, Simon Richard James', 'Pidcock, Laura', 'Wilson, Corri', 'Vaizey, Edward', 'Hodge, Margaret Eve', 'Hunt, Tristram', 'McGarry, Natalie', 'Djanogly, Jonathan Simon', 'Johnson, Gareth Alan', 'Murray, Sheryll', 'Richards, Nicola Faye', 'Jupp, Simon James', 'Arbuthnot, James', 'Dugher, Michael', 'Williamson, Christopher', 'Chapman, Douglas', 'Nicolson, John MacKenzie', 'Jack, Alister William', 'Begg, Margaret Anne', 'Lilley, Peter', 'Salmond, Alexander Elliot Anderson', 'Rowley, Danielle', 'Mackintosh, David James', 'Wallis, Jamie Hamilton', 'Paterson, Owen William', 'Gaffney, Hugh Lawrence', 'Duncan, Alan James Carter', 'Penrose, John David', 'Hepburn, Stephen', 'Anderson, Stuart Paul', 'Davies, Edward Glyn', 'Elliott, Tom', 'Ruane, Christopher Shaun', 'Kaufman, Gerald Bernard', 'Boles, Nicholas Edward Coleridge', 'Jenkinson, Mark Ian', 'Soames, Nicholas', 'Offord, Matthew James', 'Randall, Alexander', 'Farrelly, Christopher Paul', 'Beckett, Margaret Mary', 'Monaghan, Paul William', 'Reynolds, Emma Elizabeth', 'Brooke, Annette Lesley', 'Onasanya, Fiona Oluyinka', 'Robertson, Laurence Anthony', 'Paterson, Steven Alexander', 'Reckless, Mark', 'Phillips, Stephen', 'Blenkinsop, Tom', 'Millar, Robin John', 'Stevenson, Jane Fiona Catherine', 'Mullin, William Arthur Roger', 'Smith, Alyn Edward', 'Pritchard, Mark Andrew', 'Davies, Byron', 'Hopkins, Kris', 'Laws, David Anthony', 'Henry, Darren George', 'Shuker, Gavin', 'Burns, Conor', 'Mumby-Croft, Holly', 'Campbell, Alan', 'Huppert, Julian', 'Skinner, Dennis Edward', 'Clarke-Smith, Brendan', 'Bacon, Gareth Andrew', 'Lloyd, Stephen Anthony Christopher', 'Baker, Norman John', 'Leslie, Charlotte', 'Warburton, David John', 'Mahmood, Khalid', 'Donaldson, Stuart Blair', 'Griffiths, Andrew James', 'Callaghan, Amy', 'Cairns, Alun Hugh', 'Prisk, Michael Mark', 'Seabeck, Alison Jane', 'Heath, David William St John', 'Girvan, William Paul', 'Nici-Townend, Lia', 'Brown, James Gordon', 'Robertson, Angus', 'Watkinson, Angela Eileen', 'Hermon, Sylvia Eileen', 'Irranca-Davies, Ifor Huw', 'Dines, Sarah Elizabeth', 'Horwood, Martin Charles', 'Carmichael, Neil', 'Jones, Helen Mary', 'Simpson, Keith Robert', 'Alexander, Daniel Grian', 'Smith, Angela Christine', 'McKechin, Ann', 'Brazier, Julian William Hendy', 'Kerr, Calum Robert', 'Kirby, Simon', 'Clark, Colin James', 'Jamieson, Cathy', 'Fallon, Michael', 'Dowd, James Patrick', 'Balls, Edward Michael', 'Boswell, Philip John', 'Streeter, Gary Nicholas', 'Ali, Tahir', 'Metcalfe, Stephen James', 'Kawczynski, Daniel Robert', 'Lucas, Ian Colin', 'Menzies, Mark Andrew', 'Bruce, Malcolm', 'Evans, Graham', 'Bercow, John Simon', 'Logan, Mark Rory', 'Yeo, Timothy Stephen Kenneth', 'McCartney, Karl', \"O'Brien, Stephen Rothwell\", 'Kerevan, George', 'Henderson, Gordon Leonard', 'Ruffley, David Laurie', 'Clarke, Thomas', 'Weatherley, Mike', 'Smith, Royston Matthew', 'Davies, Gareth Mark', 'Weir, Michael Fraser', 'Walley, Joan Lorraine', 'Kniveton, Kate Elizabeth', 'Stunell, Robert Andrew', 'Campbell, Gregory Lloyd', 'Williams, Stephen Roy', 'Sheridan, James', 'Field, Frank', 'Barker, Gregory', 'Darling, Alistair', 'Tyrie, Andrew', 'Luff, Peter James', 'Pickles, Eric', 'Jayawardena, Ranil Malcolm', 'Thomson, Michelle Rhonda', 'Reid, Alan', 'Garnier, Mark Robert Timothy', 'Connarty, Michael', 'Byles, Daniel', 'Cryer, John Robert', 'Fabricant, Michael Louis David', 'Dobson, Frank Gordon', 'Bray, Angela', 'Long, Naomi', 'Sarwar, Anas', 'Laird, Lesley Margaret Langan', 'Howarth, James Gerald Douglas', 'Grant, Helen', 'Mitchell, Austin Vernon', 'McDonnell, Alasdair', 'Uppal, Paul', 'Hilling, Julie', 'Carswell, John Douglas Wilson', 'Goldsmith, Zac', 'Bayley, Hugh', 'Greatrex, Tom', 'Evans, Jonathan Peter', 'Simpson, Thomas David', 'Letwin, Oliver', 'Grogan, John Timothy', 'Simmonds, Mark Jonathan Mortlock', 'Cox, Jo', 'Lansley, Andrew', 'Harpham, Harry', 'Docherty, Thomas', 'Swales, Ian', 'Munn, Margaret Patricia', 'Haselhurst, Alan', 'Sandys, Laura', 'Harvey, Nicholas Barton', 'Webb, Steven John', 'Borwick, Victoria Lorne Peta', 'Forbes, Lisa', 'Denham, John Yorke', 'Ollerenshaw, Eric', 'Smith, Andrew David', 'Robertson, John', 'McCrea, William', 'Scott, Lee', 'Khan, Sadiq Aman', 'Lord, Jonathan George Caladine', 'Meacher, Michael Hugh', 'Wilson, Robert Owen Biggs', 'Doran, Frank', 'Campbell, Ronnie', 'Dodds, Jane', 'Doyle, Gemma', 'Gilmore, Sheila', 'Nash, Pamela', 'Primarolo, Dawn', 'Hollingbery, George Michael Edward', 'Cox, Charles Geoffrey', 'Jackson, Glenda May', 'Rotheram, Steve', 'Lee, Jessica', 'Hames, Duncan', 'Russell, Robert Edward', 'McLoughlin, Patrick', 'George, Andrew Henry', \"O'Donnell, Fiona\", 'Knight, Gregory', 'Hughes, Simon Henry Ward', 'Morrice, Graeme', 'Ruddock, Joan Mary', 'Killen, Gerard', 'Mosley, Stephen', 'Featherstone, Lynne', 'Willetts, David', 'White, Chris', 'Munt, Tessa', 'Hoban, Mark Gerard', 'Leech, John Sampson Macfarlane', 'McCaig, Callum', 'Jowell, Tessa', 'Blears, Hazel Anne', 'Hain, Peter', 'Miller, Andrew Peter', 'Maude, Francis', 'Turner, Andrew John', 'Baldry, Anthony Brian', 'Robathan, Andrew', 'Rogerson, Daniel John', 'Sanders, Adrian Mark', 'Winnick, David Julian', 'Hunter, Mark James', 'MacLeod, Mary', 'Lumley, Karen', 'Young, George', 'Walter, Robert John', 'Willott, Jennifer Nancy', 'Gilbert, Stephen', 'Adams, Katherine', 'Adebowale, Victor', 'Adonis, Andrew', 'Afshar, Haleh', 'Agnew, Theodore', 'Ahmad, Tariq', 'Ahmed, Nazir', 'Alderdice, John', 'Alexander, Douglas Garven', 'Aline, Margot', 'Allan, Richard', 'Allen, Charles', 'Alli, Waheed', 'Altmann, Rosalind', 'Alton, David', 'Amos, Valerie', 'Ancram, Michael', 'Anderson, Donald', 'Anderson, John', 'Andrews, Elizabeth', 'Anelay, Joyce', 'Armstrong, Hilary', 'Armstrong, Hilary Jane', 'Armstrong, Robert', 'Arthur, Simon Mark', 'Ashdown, Jeremy', 'Ashton, Catherine', 'Ashton, Thomas', 'Asquith, Raymond', 'Astor, John', 'Astor, William', 'Attlee, John', 'Atwell, Robert', 'Bach, William', 'Bain, Willie', 'Baines, Nicholas', 'Baker, Kenneth', 'Bakewell, Catherine', 'Bakewell, Joan', 'Balchin, Robert George Alexander', 'Balfe, Richard', 'Bamford, Anthony', 'Banks, Gordon Raymond', 'Baring, Francis Thomas', 'Barker, Elizabeth', 'Barker, Jean', 'Barran, Diana', 'Bassam, John', 'Bates, Michael', 'Bayes, Paul', 'Beecham, Jeremy Hugh', 'Beith, Alan', 'Bellamy, Christopher', 'Benjamin, Floella', 'Benn, Stephen', 'Bennett, Natalie', 'Berkeley, Michael', 'Berridge, Elizabeth Rose', 'Berry, Jonathan', 'Bertin, Gabrielle', 'Best, Richard', 'Bethell, James', 'Bew, Paul Anthony Elliott', 'Bewicke-Copley, Godfrey', 'Bhatia, Amirali', 'Bhattacharyya, Sushantha', 'Bichard, Michael', 'Bilimoria, Karan', 'Billingham, Angela', 'Binley, Brian Arthur Roland', 'Bird, John', 'Birt, John', 'Birtwistle, Gordon', 'Black, Guy Vaughan', 'Black, Susan', 'Blackstone, Tessa', 'Blackwell, Norman', 'Blair, Ian Warwick', 'Blake, Judith', 'Blood, May', 'Bloomfield, Olivia', 'Blower, Christine', 'Blunkett, David', 'Boateng, Paul Yaw', 'Bonham Carter, Jane', 'Boothroyd, Betty', 'Bootle-Wilbraham, Roger', 'Borwick, Geoffrey', 'Boswell, Timothy', 'Botham, Ian', 'Bottomley, Virginia', 'Bourne, Nicholas', 'Bowles, Sharon', 'Bowness, Peter', 'Boyce, Michael', 'Boycott, Rosel', 'Boyle, John', 'Boyle, Patrick', 'Bradley, Keith', 'Bradshaw, William', 'Brady, Karren', 'Bragg, Melvyn', 'Brennan, Daniel', 'Bridgeman, Robin', 'Bridges, James', 'Brinton, Sarah Virginia', 'Broers, Alec', 'Brooke, Alan', 'Brooke, Clive', 'Brooke, Peter', 'Brookman, David', 'Brougham, Michael John', 'Brown, Russell Leslie', 'Brown, Simon Denis', 'Browne, Desmond', 'Browne, Edmund', 'Browne, Jeremy Richard', 'Browne, Wallace', 'Browning, Angela Frances', 'Brownlow, David', 'Bruce, Alastair', 'Bryan, Pauline', 'Bull, Deborah', 'Burley, Aidan', 'Burnett, John', 'Burns, Terence', 'Burt, Lorely', 'Buscombe, Peta', 'Butler, Frederick', 'Butler, Paul', 'Butler-Sloss, Ann', 'Byford, Hazel', 'Caine, Jonathan', 'Callanan, Martin', 'Cameron, Ewen', 'Campbell, Alistair', 'Campbell, Jane Susan', 'Campbell, Menzies', 'Campbell-Savours, Dale Norman', 'Carey, George', 'Carington, Rupert', 'Carlile, Alexander', 'Carrington, Matthew', 'Carswell, Robert', 'Carter, Patrick Robert', 'Cary, Lucius', 'Cashman, Michael', 'Cathcart, Charles', 'Cavendish, Hilary', 'Cavendish, Richard', 'Cayzer, Herbert', 'Chakrabarti, Shami', 'Chalker, Lynda', 'Chartres, Richard', 'Chessun, Christopher', 'Chetwynd-Talbot, Charles', 'Chidgey, David', 'Chisholm, Caroline', 'Choudrey, Zameer', 'Christopher, Anthony', 'Clappison, William James', 'Clark, David George', 'Clark, Katy', 'Clark, Lynda', 'Clarke, Anthony James', 'Clement-Jones, Timothy Francis', 'Clinton-Davis, Stanley Clinton', 'Cocksworth, Christopher', 'Coe, Sebastian', 'Cohen, Janet', 'Coke, Thomas', 'Collins, Raymond', 'Colville, Charles', 'Colville, John Mark Alexander', 'Condon, Paul Leslie', 'Conway, Stephen', 'Cooke, Alastair', 'Cooper, Andrew', 'Cope, John', 'Cormack, Patrick', 'Corston, Jean Ann', 'Cotter, Brian Joseph Michael', 'Cottrell, Stephen', 'Courtenay, Charles', 'Coussins, Jean', 'Cox, Caroline Anne', 'Craig, David Brownrigg', 'Craig, Janric Fraser', 'Crawley, Christine Mary', 'Crisp, Edmund', 'Crockart, Mike', 'Croft, Steven', 'Cruddas, Peter', 'Cullen, William', 'Cumberlege, Julia Frances', 'Cunliffe-Lister, Susan Lilian Primrose', 'Cunningham, John Anderson', 'Curran, Margaret', 'Currie, David Anthony', 'Curry, Donald', 'Curzon, Frederick Richard Penn', \"D'Souza, Frances\", 'Dakin, Timothy', 'Dalrymple, John', 'Dannatt, Francis Richard', 'Darroch, Nigel', 'Darzi, Ara', 'Davidson, Ian Graham', 'Davidson, Neil Forbes', 'Davidson, Ruth', 'Davies, Brinley', 'Davies, Bryan', 'Davies, John', 'Dean, Brenda', 'Dear, Geoffrey', 'Deech, Ruth', 'Deighton, Paul', 'Denison, Richard', 'Desai, Meghnad', 'Dholakia, Navnit', 'Dixon Smith, Robert William', 'Dixon, Thomas', 'Dobbs, Michael John', 'Donaghy, Rita', 'Donohoe, Brian Harold', 'Donoughue, Bernard', 'Doocey, Elizabeth Deirdre', 'Douglas-Hamilton, James Alexander', 'Douglas-Home, David', 'Drake, Jean Lesley Patricia', 'Dubs, Alfred', 'Dugdale, Charles', 'Duncan, Ian', 'Dunlop, Andrew', 'Dykes, Hugh', 'Eady, Roger Mynors Swinfen', 'Eames, Robert Henry Alexander', 'Eaton, Ellen', 'Eatwell, John', 'Eccles, Diana Catherine', 'Eccles, John Dawson', 'Eden, John', 'Eden, Oliver Michael Robert', 'Edwards, Roger Nicholas', 'Elder, Thomas Murray', 'Elis-Thomas, Dafydd', 'Elton, Rodney', 'Elystan-Morgan, Dafydd', 'Emerton, Audrey', 'Empey, Reginald', 'Etherton, Terence', 'Evans, David Charles', 'Evans, Jeffrey', 'Evans, Jonathan', 'Evans, Natalie', 'Fairfax, Nicholas', 'Fairhead, Rona', 'Falconer, Charles', 'Falkner, Kishwer', 'Fall, Catherine', 'Farmer, Michael', 'Farrington, Josephine', 'Faulkner, Richard Oliver', 'Faulks, Edward', 'Faull, Vivienne', 'Fellowes, Julian', 'Fellowes, Robert', 'Filkin, David Geoffrey Nigel', 'Fink, Stanley', 'Finkelstein, Daniel', 'Finlay, Ilora Gillian', 'Finn, Simone', 'Firth, Anna', 'Flather, Shreela', 'Fleming, Andrew', 'Fletcher-Vane, William', 'Flight, Howard Emerson', 'Foljambe, Edward', 'Fookes, Janet Evelyn', 'Foord, Richard John', 'Ford, Margaret', 'Forster, Peter', 'Forsyth, Michael Bruce', 'Foster, Christopher', 'Foster, Derek', 'Foster, Donald', 'Foster, Jacqueline', 'Foulkes, George', 'Fowler, Peter', 'Fox, Christopher', 'Fox, Claire', 'Francis, David Hywel', 'Francis-Dehqani, Gulnar', 'Fraser, Alexander', 'Fraser, Stephanie', 'Freeman, Roger Norman', 'French, Louie Thomas', 'Freud, David', 'Freyberg, Valerian Bernard', 'Frost, David', 'Fullbrook, Lorraine', 'Gadhia, Jitesh', 'Galbraith, Thomas Galloway Dunlop du Roy de Blicquy', 'Gale, Anita', 'Galloway, George', 'Garden, Susan', 'Gardiner, John Eric', 'Gardner, Rachel Trixie Anne', 'Garel-Jones, William', 'Geddes, Euan Michael Ross', 'Geidt, Christopher', 'Geoffrey, John', 'German, Michael', 'Giddens, Anthony', 'Gilbey, Richard', 'Glasman, Maurice Mark', 'Gledhill, Jonathan', 'Goddard, David', 'Godsiff, Roger Duncan', 'Godson, Dean', 'Gold, David', 'Goldie, Annabel', 'Golding, Llinos', 'Goldsmith, Peter', 'Goodlad, Alastair Robertson', 'Gordon, James', 'Gore, Arthur', 'Goschen, Giles John Harry', 'Goudie, Mary', 'Gould, Joyce Brenda', 'Grabiner, Anthony', 'Grade, Michael Ian', 'Graham, James', 'Graham, Thomas', 'Granshaw, Lindsay', 'Greaves, Anthony Robert', 'Green, Sarah Louise', 'Green, Stephen Keith', 'Greenfield, Susan', 'Greengross, Sally', 'Greenhalgh, Stephen', 'Greenway, Ambrose Charles Drexel', 'Grender, Rosalind', 'Grey-Thompson, Tanni Carys Davina', 'Griffiths, Brian', 'Griffiths, Leslie John', 'Grigg, Edward', 'Grimstone, Gerald', 'Grocott, Bruce Joseph', 'Grundy, James Nelson', 'Gueterbock, Anthony', 'Gummer, John', 'Gummer, Peter', 'Hacking, Douglas', 'Hallett, Heather', 'Hamilton, Archibald Gavin', 'Hamilton, David', 'Hamilton, Paulette Adassa', 'Hamilton-Smith, Ian Anthony', 'Hamwee, Sally Rachel', 'Hancock, Michael Thomas', 'Hanham, Joan', 'Hannan, Daniel', 'Hannay, David Hugh Alexander', 'Hardie, Andrew', 'Harding, Diana', 'Hardman, Christine', 'Hare, Francis', 'Harries, Richard', 'Harries, Richard Douglas', 'Harris, Angela', 'Harris, Jonathan Toby', 'Harris, Philip Charles', 'Harris, Thomas', 'Harrison, Lyndon Henry Arthur', 'Hart, Garry Richard Rushby', 'Haskel, Simon', 'Haskins, Christopher', 'Hastings, Michael', 'Haughey, William', 'Havard, David Stewart', 'Haworth, Alan Robert', 'Hay, Charles', 'Hay, Merlin', 'Hay, William', 'Hayhoe Flint, Rachael', 'Hayman, Helene Valerie', 'Hayter, Dianne', 'Hayward, Robert', 'Healy, Anna Mary', 'Helic, Arminka', 'Hemming, John Alexander Melvin', 'Henderson, Julian', 'Hendry, Charles', 'Hendy, John', 'Henig, Ruth', 'Hennessy, Peter John', 'Heseltine, Michael', 'Higgins, Terence Langley', 'Hill, Michael Arthur', 'Hilton, Jennifer', 'Hodgson, Fiona', 'Hodgson, Robin Granville', 'Hogan-Howe, Bernard', 'Hogg, Douglas', 'Hollick, Clive', 'Hollins, Sheila Clare', 'Hollis, Patricia', 'Holmes, Christopher', 'Holtam, Nicholas', 'Hood, James', 'Hooper, Gloria Dorothy', 'Hope, James', 'Hopkin, Jonathan', 'Horam, John', 'Houghton, John', 'Hovell-Thurlow-Cumming-Bruce, Roualeyn', 'Howard, Greville Patrick Charles', 'Howard, Michael', 'Howarth, Alan Thomas', 'Howarth, Valerie', 'Howe, Elspeth', 'Howe, Richard', 'Howell, David Arthur Russell', 'Howells, Rosalind', 'Howie, William', 'Hoyle, Eric', 'Hubbard, Dominic', 'Hughes, Beverley', 'Hughes, Robert', 'Humphreys, Christine', 'Hunt, David James Fletcher', 'Hunt, Julian Charles Roland', 'Hunt, Philip Alexander', 'Hunt, Ruth', 'Hurd, Douglas Richard', 'Hussain, Qurban', 'Hussein-Ece, Meral', 'Hutton, John Matthew Patrick', 'Imbert, Peter Michael', 'James, Christopher', 'James, David', 'James, Graham Richard', 'Janke, Barbara', 'Janvrin, Robin', 'Jay, Margaret', 'Jay, Michael Hastings', 'Jenkin, Anne Caroline', 'Joffe, Joel', 'Jolliffe, Raymond', 'Jolly, Judith Anne', 'Jones, Digby', 'Jones, Jennifer', 'Jones, Margaret Beryl', 'Jones, Nigel David', 'Jones, Stephen Barry', 'Jopling, Thomas', 'Jordan, William', 'Joyce, Eric Stuart', 'Judd, Frank Ashcroft', 'Judge, Igor', 'Kakkar, Ajay', 'Kalms, Harold', 'Kamall, Syed', 'Keen, Richard', 'Kelly, Chris', 'Kennedy, Alicia', 'Kennedy, Charles Peter', 'Kennedy, Helena', 'Kennedy, Roy', 'Kerr, John', 'Kerslake, Robert', 'Kestenbaum, Jonathan', 'Khan, Wajid', 'Kidron, Beeban', 'King, Julia', 'King, Mervyn', 'King, Oona', 'King, Thomas Jeremy', 'Kingsmill, Denise', 'Kinnock, Glenys', 'Kinnock, Neil', 'Kirkham, Graham', 'Kirkhope, Timothy', 'Kirkwood, Archibald', 'Knight, James Philip', 'Knight, Joan', 'Kramer, Susan', 'Krebs, John', 'Laird, John Dunn', 'Laming, William', 'Lamont, Norman Stewart Hughson', 'Lane, Elizabeth Jane Holden', 'Lane-Fox, Martha', 'Lang, Ian Bruce', 'Langstaff, James', 'Lawrence, Doreen', 'Lawrence, Patrick', 'Lawson, Nigel', 'Layard, Peter Richard Grenville', 'Lazarowicz, Marek Jerzy', 'Lea, David Edward', 'Leadbeater, Kim Michele', 'Lebedev, Evgeny', 'Lee, John', 'Leigh, Howard', 'Lennie, Christopher', 'Lester, Anthony', 'Levene, Peter', 'Liddell, Helen Lawrie', 'Liddle, Roger John', 'Lightwood, Simon Robert', 'Lindesay-Bethune, James', 'Linklater, Veronica', 'Lipsey, David Lawrence', 'Livermore, Spencer', 'Livingston, Ian', 'Lloyd Webber, Andrew', 'Lloyd, Anthony', 'Lloyd-George, William', 'Llwyd, Elfyn', 'Loomba, Rajinder Paul', 'Lord, Michael Nicholson', 'Love, Andrew McCulloch', 'Low, Colin MacKenzie', 'Lowson, Christopher', 'Lowther, Nicholas James Christopher', 'Lubbock, Eric', 'Luce, Richard Napier', 'Ludford, Sarah', 'Lupton, James', 'Lyell, Charles', 'Lyttelton, Thomas', 'Lytton, John', 'MacGregor, John', 'MacKay, Aneas', 'MacKenzie, Hector', 'Macdonald, Angus John', 'Macdonald, Kenneth', 'Mackay, Donald', 'Mackay, James Peter Hymers', 'Mackenzie, Brian', 'Maclean, David John', 'Maclennan, Robert', 'Macpherson, Ian', 'Macpherson, Nicholas', 'Maddock, Diana Margaret', 'Maginnis, Kenneth', 'Mair, Robert', 'Mallalieu, Ann', 'Malloch-Brown, George', 'Mance, Jonathan', 'Mancroft, Benjamin Lloyd Stormont', 'Mandelson, Peter', 'Manningham-Buller, Elizabeth', 'Mansfield, Guy', 'Manzoor, Zahida', 'Marks, Jonathan', 'Marland, Jonathan Peter', 'Martin, Michael', 'Massey, Doreen', 'Masters, Sheila', 'Mawhinney, Brian', 'Mawson, Andrew', 'Maxton, John Alston', 'May, Robert', 'McAvoy, Thomas', 'McCann, Michael', 'McCluskey, John', 'McClymont, Gregg', 'McColl, Ian', 'McConnell, Jack Wilson', 'McDonagh, Margaret Josephine', 'McDonald, Simon', 'McFall, John', 'McGovern, James', 'McGregor-Smith, Ruby', 'McGuire, Anne Catherine', 'McInnes, Mark', 'McIntosh, Anne', 'McIntosh, Genista Mary', 'McKenzie, Iain', 'McKenzie, William David', 'McNally, Tom', 'McNicol, Iain', 'Meacher, Molly Christine', 'Meale, Joseph Alan', 'Mendelsohn, Jonathan', 'Mendoza, Nick', 'Merron, Gillian', 'Meyer, Catherine', 'Miller, Susan', 'Mitchell, Parry', 'Mitchell-Thomson, Malcolm McEacharn', 'Mitford, Rupert Bertram', 'Mobarik, Nosheena', 'Mone, Michelle', 'Monks, John Stephen', 'Montagu, John', 'Montgomery, David', 'Moore, Charles', 'Moore, Michael Kevin', 'Moore-Brabazon, Ivon', 'Morgan, Delyth', 'Morgan, Helen Margaret Lilian', 'Morgan, Kenneth', 'Morgan, Mair', 'Morgan, Sally', 'Morris, Estelle', 'Morris, John', 'Morris, Michael', 'Morris, Patricia', 'Morris, William Manuel', 'Morrisey, Helena', 'Morrow, Maurice', 'Morse, Amyas', 'Mortimer, Jill', 'Mosley, Daniel', 'Moylan, Daniel', 'Moynihan, Colin', 'Mullally, Sarah', 'Murphy, Elaine', 'Murphy, James', 'Murphy, Paul', 'Myners, Paul', 'Nash, John', 'Neuberger, David', 'Neuberger, Julia', 'Neville-Jones, Lilian Pauline', 'Neville-Rolfe, Lucy', 'Newby, Richard', 'Newcome, James', 'Newlove, Helen Margaret', 'Newmark, Brooks Phillip Victor', 'Nicholson, Emma', 'Norton, Philip', 'Nye, Susan Jane', \"O'Cathain, Detta\", \"O'Donnell, Augustine\", \"O'Loan, Nuala\", \"O'Mara, Jared\", \"O'Neill, Martin\", \"O'Neill, Onora\", \"O'Neill, Terence\", 'Oates, Jonathan', 'Offord, Malcolm', 'Oppenheim-Barnes, Sally', 'Ormsby Gore, Jasset', 'Osamor, Martha', 'Osborne, Sandra Currie', 'Ottaway, Richard Geoffrey James', 'Ouseley, Herman George', 'Owen, David', 'Oxburgh, Ernest Ronald', 'O’Shaughnessy, James', 'Paddick, Brian', 'Paice, James Edward Thornton', 'Palmer, Adrian Bailie Nottage', 'Palmer, John', 'Palmer, Monroe Edward', 'Palmer, Ralph Matthew', 'Palumbo, James', 'Pannick, David', 'Parekh, Bhikhu', 'Parker, Andrew', 'Parkinson, Stephen', 'Parminter, Kathryn Jane', 'Patel, Kamlesh', 'Patel, Narendra Babubhai', 'Patten, Christopher Francis', 'Patten, John', 'Paul, Swraj', 'Pearson, Malcolm', 'Peel, William', 'Pendry, Thomas', 'Penn, Joanna', 'Perham, Michael', 'Perry, Pauline', 'Phillips, Andrew Wyndham', 'Phillips, Nicholas Addison', 'Pidding, Emma', 'Pinnock, Kathryn', 'Pitkeathley, Jill', 'Plant, Raymond', 'Plumb, Charles', 'Polak, Stuart', 'Pollock, David Stephen Geoffrey', 'Ponsonby, Frederick', 'Ponsonby, Rupert', 'Popat, Dolar Amarshi', 'Porter, Gary', 'Powell, Charles David', 'Prasher, Usha Kumari', 'Prescott, John', 'Price, Mark', 'Prior, David', 'Prosser, Margaret', 'Purvis, Jeremy', 'Puttnam, David Terence', 'Qaisar, Anum', 'Quin, Joyce Gwendolen', 'Quirk, Charles Randolph', 'Radice, Giles', 'Ramsay, Meta', 'Ramsbotham, David John', 'Rana, Diljit', 'Randerson, Jennifer Elizabeth', 'Ranger, Raminder', 'Rawlings, Patricia Elizabeth', 'Raynsford, Wyvill Richard Nicolls', 'Razzall, Edward Timothy', 'Rea, John', 'Rebuck, Gail', 'Redfern, Alastair', 'Redfern, Elizabeth', 'Rees, Martin', 'Reevell, Simon', 'Reid, John', 'Renfrew, Andrew Colin', 'Rennard, Christopher', 'Renwick, Robin', 'Ribeiro, Bernard Francisco', 'Richard, Ivor Seward', 'Richards, David', 'Richardson, Kathleen Margaret', 'Ricketts, Peter', 'Ridley, Matthew', 'Rifkind, Malcolm Leslie', 'Riordan, Linda', 'Rix, Brian Norman Roger', 'Roberts, John Roger', 'Robertson, George', 'Robertson, Hugh Michael', 'Rock, Kate', 'Rodgers, William Thomas', 'Roe, Philipa', 'Rogan, Dennis Robert David', 'Rogers, Richard', 'Rogers, Robert', 'Rooker, Jeffrey', 'Rose, Stuart', 'Rosser, Richard', 'Rowe-Beddoe, David Sydney', 'Rowlands, Edward', 'Roy, Frank', 'Royall, Janet', 'Russell, Simon', 'Ryder, Richard', 'Saatchi, Maurice', 'Sacks, Jonathan', 'Sanderson, Charles Russell', 'Sanderson, Elizabeth', 'Sarfraz, Aamer', 'Sassoon, James Meyer', 'Sater, Amanda', 'Saville, Mark', 'Sawyer, Lawrence', 'Schreiber, Mark', 'Scotland, Patricia', 'Scott, Jane', 'Scott, Richard', 'Scott, Rosalind', 'Scott-Joynt, Michael', 'Scriven, Paul', 'Scrymgeour, Alexander', 'Seccombe, Joan Anna Dalziel', 'Sedwill, Mark', 'Seeley, Martin', 'Sentamu, John', 'Sewel, John', 'Seymour, John', 'Shackleton, Fiona Sara', 'Shafik, Nemat', 'Sharkey, John Kevin', 'Sharp, Margaret', 'Sharpe, Andrew', 'Sharples, Pamela', 'Sheehan, Shaista', 'Sheikh, Mohamed', 'Shephard, Gillian Patricia', 'Shepherd, Richard Charles Scrimgeour', 'Sherbourne, Stephen', 'Sherlock, Maeve Christina Mary', 'Shields, Joanna', 'Shinkwin, Kevin', 'Shipley, John Warren', 'Shutt, David Trevor', 'Sikka, Prem', 'Simon, Jan', 'Sinclair, Malcolm', 'Singh, Indarjit', 'Skidelsky, Robert', 'Slim, John Douglas', 'Smith, Alan', 'Smith, Angela', 'Smith, Christopher', 'Smith, Julie', 'Smith, Peter', 'Smith, Philip', 'Smith, Robert', 'Smith, Robert Hill', 'Smith, Trevor', 'Snape, Peter', 'Soley, Clive', 'Spargo, Donald', 'Spencer, Michael', 'Spicer, William', 'Spring, Richard John Grenville', 'St John, Anthony Tudor', 'Stanley, John Paul', 'Stedman-Scott, Deborah', 'Steel, David', 'Stephen, Nicol Ross', 'Sterling, Jeffrey', 'Stern, Nicholas', 'Stern, Vivien', 'Stevens, David Robert', 'Stevens, John', 'Stevens, Simon', 'Stevens, Timothy', 'Stevenson, Robert', 'Stewart, Bernard', 'Stewart, Keith', 'Stirrup, Graham', 'Stoddart, David', 'Stone, Andrew Zelig', 'Stoneham, Benjamin', 'Stopford, James', 'Storey, Michael John', 'Stowell, Tina', 'Strasburger, Paul', 'Straw, John Whitaker', 'Stroud, Philippa', 'Suenson-Taylor, Christopher', 'Sugar, Alan', 'Sugg, Elizabeth', 'Suri, Ranbir', 'Sutcliffe, Gerard', 'Sutherland, Stewart', 'Suttie, Alison', 'Symons, Elizabeth Conway', 'Tapsell, Peter Hannay Bailey', 'Taverne, Dick', 'Taylor, John', 'Taylor, Matthew Owen John', 'Taylor, Winifred Ann', 'Teather, Sarah Louise', 'Tebbit, Norman Beresford', 'Temple-Morris, Peter', 'Teverson, Robin', 'Thomas, Celia Marjorie', 'Thomas, Donald', 'Thomas, Hugh Swynnerton', 'Thomas, Roger', 'Thornhill, Dorothy', 'Thornton, Dorothea Glenys', 'Thornton, Michael Douglas', 'Thornton, Timothy', 'Thurso, John', 'Tomlinson, John', 'Tonge, Jennifer Louise', 'Tope, Graham Norman', 'Touhig, James Donnelly', 'Trees, Alexander', 'Trefgarne, David', 'Trench, Nicholas', 'Trenchard, Hugh', 'Treweek, Rachel', 'Triesman, David Maxim', 'Trimble, William', 'True, Nicholas', 'Truscott, Peter Derek', 'Tugendhat, Christopher Samuel', 'Tunnicliffe, Denis', 'Turnberg, Leslie', 'Turnbull, Andrew', 'Turner, Jonathan', 'Turner, Muriel', 'Tyler, Claire', 'Tyler, Paul', 'Uddin, Manzila Pola', 'Udny-Lister, Edward', 'Urquhart, David', 'Valentine, Josephine', 'Vere, Charlotte', 'Verma, Sandip', 'Verney, Leopold', 'Vinson, Nigel', 'Wadley, Veronica', 'Wakeham, John', 'Waldegrave, William', 'Walker, David', 'Walker, Michael', 'Walker, Robert', 'Wall, Margaret Mary', 'Wallace, James', 'Wallace, William John Lawrence', 'Walmsley, Joan', 'Walpole, Robert', 'Walton, John Nicholas', 'Ward, David', 'Warner, Martin', 'Warner, Norman', 'Warnock, Helen', 'Warsi, Sayeeda', 'Warwick, Diana Mary', 'Wasserman, Gordon', 'Watkins, Mary', 'Watson, Alan', 'Watson, Andrew', 'Watson, Michael Goodall', 'Watts, Dave', 'Wei, Nathanael Ming-Yan', 'Welby, Justin', 'Wellesley, Arthur', 'West, Alan William John', 'Wharton, John Martin', 'Wheatcroft, Patience', 'Wheeler, Margaret Eileen Joyce', 'Whitaker, Janet Alison', 'Whitby, Michael', 'White, Paul', 'Whitty, John Lawrence', 'Wigley, Dafydd Wynne', 'Wilcox, Deborah', 'Wilcox, Judith', 'Wilkins, Rosalie', 'Williams, Charles', 'Williams, Michael Charles', 'Williams, Paul', 'Williams, Roger Hugh', 'Williams, Rowan', 'Williams, Shirley Vivien Teresa Brittain', 'Williams, Susan', 'Willis, George', 'Willis, George Philip', 'Wills, Michael', 'Wilson, David Clive', 'Wilson, Richard Thomas James', 'Winston, Robert Maurice Lipson', 'Wolf, Alison', 'Wolfson, David', 'Wolfson, Simon', 'Wood, Stewart Martin', 'Woodley, Anthony', 'Woodward, Shaun Anthony', 'Woolf, Harry Kenneth', 'Woolley, Simon', 'Woolmer, Kenneth', 'Worthington, Bryony', 'Wrigglesworth, Ian', 'Wright, David', 'Wright, Nicholas Thomas', 'Wright, Patrick', 'Wright, Simon', 'Wyld, Laura', 'Young, Anthony', 'Young, Barbara', 'Young, David', 'Young, Margaret Omolola', 'Younger, James', 'de Bois, Nick', 'of Mar, Margaret']\n"
     ]
    },
    {
     "name": "stderr",
     "output_type": "stream",
     "text": [
      "\n"
     ]
    }
   ],
   "source": [
    "lemmas = {}\n",
    "lemmas_metadata = {}\n",
    "artefacts_by_topic = Path('artefacts/by_topic')\n",
    "for topic in ['healthcare', 'eu', 'war']:\n",
    "    print('processing', topic)\n",
    "    topic_lemmas = {}\n",
    "    topic_df = pd.read_feather(artefacts_by_topic / f'{topic}.feather')\n",
    "    for language in tqdm(Languages.all):\n",
    "        language_lemmas_metadata = lemmas_metadata.setdefault(language, {})\n",
    "        topic_lemmas_metadata = language_lemmas_metadata.setdefault(topic, {})\n",
    "        language_lemmas = []\n",
    "        if language not in topic_df.columns:\n",
    "            continue\n",
    "        topic_speeches = set(topic_df[language].values)\n",
    "        speech2lemmas = sentences[language].groupby('speech_id').lemmas.apply(lambda x: ' '.join(x))\n",
    "\n",
    "        for party, party_metadata in metadata[metadata.language == language].groupby('Speaker_name'):\n",
    "            party = party if party.strip() else '/'\n",
    "            topic_lemmas_metadata[party] = party_metadata\n",
    "            ids = [i for i in party_metadata.ID if i in speech2lemmas and i in topic_speeches]\n",
    "            language_lemmas.append(\n",
    "                (party, ' '.join(speech2lemmas[ids]))\n",
    "            )\n",
    "        language_lemmas = list(sorted(language_lemmas, key=lambda x: len(x[1]), reverse=True))\n",
    "        topic_lemmas[language] = language_lemmas\n",
    "    lemmas[topic] = topic_lemmas\n",
    "print(lemmas.keys())\n",
    "print(lemmas[list(lemmas.keys())[0]].keys())\n",
    "print([l for l, _ in lemmas[list(lemmas.keys())[0]]['SI']])\n",
    "print([l for l, _ in lemmas[list(lemmas.keys())[0]]['GB']])\n",
    "topic_artefacts = Path('artefacts/by_topic/tf_idf/by_speaker')"
   ]
  },
  {
   "cell_type": "markdown",
   "metadata": {
    "collapsed": false
   },
   "source": [
    "## Calculate TF-IDF"
   ]
  },
  {
   "cell_type": "code",
   "execution_count": null,
   "metadata": {
    "collapsed": false
   },
   "outputs": [],
   "source": [
    "if type(lemmas) is list:\n",
    "    lemmas['general'] = lemmas\n",
    "\n",
    "stopwords_for_language = {\n",
    "    Languages.si: list(stopwords.stopwords('sl')) + ['ter', 'še', 'imeti', 'pač'],\n",
    "    Languages.hu: stopwords.stopwords('hu'),\n",
    "    Languages.esga: stopwords.stopwords('es'),\n",
    "    Languages.gb: stopwords.stopwords('en'),\n",
    "    Languages.ua: [w.strip() for w in open('data/stopwords_ua.txt', 'r', encoding='utf-8').read().split('\\n')],\n",
    "}\n",
    "\n",
    "\n",
    "def get_tfidf_dataframe(vectorizer, documents):\n",
    "    X = vectorizer.fit_transform(documents)\n",
    "\n",
    "    tfidf_df = pd.DataFrame(X.toarray(), columns=vectorizer.get_feature_names_out())\n",
    "\n",
    "    tfidf_df = tfidf_df.T\n",
    "    top_words = {}\n",
    "    for i in range(len(documents)):\n",
    "        sorted_df = tfidf_df[i].sort_values(ascending=False)\n",
    "        top_words[language_lemmas[i][0]] = sorted_df.index.tolist()\n",
    "        top_words[f'{language_lemmas[i][0]}_scores'] = sorted_df.tolist()\n",
    "    return pd.DataFrame(top_words)\n",
    "\n",
    "\n",
    "tf_idf = {}\n",
    "for topic, topic_lemmas in lemmas.items():\n",
    "    print('processing', topic)\n",
    "    tf_idf[topic] = {}\n",
    "    topic_tf_idf = tf_idf[topic]\n",
    "    for language, language_lemmas in tqdm(topic_lemmas.items()):\n",
    "        sw = stopwords_for_language[language]\n",
    "        assert len(sw) > 0\n",
    "        vectorizer = TfidfVectorizer(stop_words=list(sw), min_df=3, max_df=0.3)\n",
    "        documents = [l for _, l in language_lemmas]\n",
    "        topic_tf_idf[language] = get_tfidf_dataframe(vectorizer, documents)\n",
    "        if topic_artefacts:\n",
    "            topic_tf_idf[language].to_feather(topic_artefacts / f'tf_idf_{topic}_{language}.feather')"
   ]
  },
  {
   "cell_type": "markdown",
   "metadata": {
    "collapsed": false
   },
   "source": [
    "# Calculate sentence scores"
   ]
  },
  {
   "cell_type": "code",
   "execution_count": 17,
   "metadata": {
    "ExecuteTime": {
     "end_time": "2023-05-31T06:16:16.866119Z",
     "start_time": "2023-05-31T06:16:16.804280Z"
    },
    "collapsed": false
   },
   "outputs": [],
   "source": [
    "def get_sentence_score(sentence_lemmas, tf_idf_scores):\n",
    "    sentence_lemmas = sentence_lemmas.split()\n",
    "    scores = []\n",
    "    for w in sentence_lemmas:\n",
    "        if w not in tf_idf_scores:\n",
    "            continue\n",
    "        scores.append(tf_idf_scores[w])\n",
    "    return (sum(scores) / len(scores)) if scores else 0\n",
    "\n",
    "\n",
    "def apply_function(row):\n",
    "    sentence_id = row['sentence_id']\n",
    "    text = row['text']\n",
    "    slemmas = row['lemmas']\n",
    "    sentence_score = get_sentence_score(slemmas, group_tf_idf_scores)\n",
    "    return sentence_id, sentence_score, text\n",
    "\n",
    "\n",
    "tf_idf_sentences = {}\n",
    "for language, language_sentences in list(sentences.items())[:1]:\n",
    "    if language == Languages.esga:\n",
    "        continue\n",
    "    for topic in tf_idf[:1]:\n",
    "        print('processing', language, topic)\n",
    "        topic_tf_idf = tf_idf[topic][language]\n",
    "        topic_tf_idf_sentences = tf_idf_sentences.setdefault(topic, {})\n",
    "\n",
    "        group_sentences = {}\n",
    "        min_len = 1e9\n",
    "        for group, group_metadata in tqdm(list(lemmas_metadata[language][topic].items())[:1]):\n",
    "            topic_sentences = language_sentences[language_sentences.speech_id.isin(group_metadata.ID)]\n",
    "            group_tf_idf_scores = topic_tf_idf.set_index(group)[f'{group}_scores']\n",
    "            topic_sentences = topic_sentences.apply(apply_function, axis=1)\n",
    "            topic_sentences = list(sorted(topic_sentences, key=lambda x: x[1], reverse=True))\n",
    "            group_sentences[f'{group}_ids'] = [s for s, _, _ in topic_sentences]\n",
    "            group_sentences[group] = [s for _, _, s in topic_sentences]\n",
    "            group_sentences[f'{group}_scores'] = [s for _, s, _ in topic_sentences]\n",
    "            min_len = min(min_len, len(topic_sentences))\n",
    "        group_sentences = {k: v[:min_len] for k, v in group_sentences.items()}\n",
    "        topic_tf_idf_sentences[language] = pd.DataFrame.from_dict(group_sentences)\n",
    "        if topic_artefacts:\n",
    "            topic_tf_idf_sentences[language].to_feather(\n",
    "                topic_artefacts / f'tf_idf_sentences_{topic}_{language}.feather')\n",
    "    break"
   ]
  },
  {
   "cell_type": "code",
   "execution_count": 44,
   "metadata": {
    "ExecuteTime": {
     "end_time": "2023-05-31T07:04:32.335860Z",
     "start_time": "2023-05-31T07:04:27.371314Z"
    },
    "collapsed": false
   },
   "outputs": [
    {
     "name": "stderr",
     "output_type": "stream",
     "text": [
      "100%|█████████████████████████████████████████████████████████████████████████████████████████████████████| 102/102 [00:00<00:00, 362.54it/s]\n",
      "100%|███████████████████████████████████████████████████████████████████████████████████████████████████████| 50/50 [00:00<00:00, 733.60it/s]\n",
      "100%|███████████████████████████████████████████████████████████████████████████████████████████████████████| 50/50 [00:00<00:00, 753.92it/s]\n",
      "100%|█████████████████████████████████████████████████████████████████████████████████████████████████████| 104/104 [00:00<00:00, 344.08it/s]\n",
      "100%|█████████████████████████████████████████████████████████████████████████████████████████████████████| 102/102 [00:00<00:00, 385.80it/s]\n",
      "100%|███████████████████████████████████████████████████████████████████████████████████████████████████████| 50/50 [00:00<00:00, 721.05it/s]\n",
      "100%|███████████████████████████████████████████████████████████████████████████████████████████████████████| 50/50 [00:00<00:00, 667.01it/s]\n",
      "100%|█████████████████████████████████████████████████████████████████████████████████████████████████████| 104/104 [00:00<00:00, 340.97it/s]\n",
      "100%|█████████████████████████████████████████████████████████████████████████████████████████████████████| 102/102 [00:00<00:00, 354.26it/s]\n",
      "100%|███████████████████████████████████████████████████████████████████████████████████████████████████████| 50/50 [00:00<00:00, 689.31it/s]\n",
      "100%|███████████████████████████████████████████████████████████████████████████████████████████████████████| 50/50 [00:00<00:00, 671.10it/s]\n",
      "100%|█████████████████████████████████████████████████████████████████████████████████████████████████████| 104/104 [00:00<00:00, 332.95it/s]\n"
     ]
    }
   ],
   "source": [
    "def get_unique_words(df):\n",
    "    topic_columns = [col for col in df.columns if not col.endswith('_score')]\n",
    "\n",
    "    unique_words = {}\n",
    "    all_words = []\n",
    "    for col in topic_columns:\n",
    "        all_words.extend(df[col].dropna().tolist())\n",
    "\n",
    "    for topic in tqdm(topic_columns):\n",
    "        topic_words = df[topic].dropna().tolist()\n",
    "        unique_words[topic] = [w for w in topic_words if all_words.count(w) == 1]\n",
    "    return unique_words\n",
    "\n",
    "\n",
    "topics = ['tf_idf_eu_GB.feather', 'tf_idf_eu_HU.feather', 'tf_idf_eu_SI.feather', 'tf_idf_eu_UA.feather',\n",
    "          'tf_idf_healthcare_GB.feather', 'tf_idf_healthcare_HU.feather', 'tf_idf_healthcare_SI.feather',\n",
    "          'tf_idf_healthcare_UA.feather', 'tf_idf_war_GB.feather', 'tf_idf_war_HU.feather', 'tf_idf_war_SI.feather',\n",
    "          'tf_idf_war_UA.feather', ]\n",
    "\n",
    "for topic in topics:\n",
    "    f = pd.read_feather(topic_artefacts / topic)\n",
    "    f[0:500].to_csv(topic_artefacts / f'{topic}.csv', index=False)\n",
    "    unique_words = get_unique_words(f.head(50))\n",
    "    with open(topic_artefacts / f'{topic}_unique.csv', 'w', encoding='utf-8') as f:\n",
    "        writer = csv.writer(f)\n",
    "        columns = unique_words.keys()\n",
    "        writer.writerow(columns)\n",
    "        writer.writerows(zip(*[unique_words[column] for column in columns]))\n",
    "\n"
   ]
  },
  {
   "cell_type": "code",
   "execution_count": null,
   "metadata": {
    "collapsed": false
   },
   "outputs": [],
   "source": []
  }
 ],
 "metadata": {
  "kernelspec": {
   "display_name": "Python 3",
   "language": "python",
   "name": "python3"
  },
  "language_info": {
   "codemirror_mode": {
    "name": "ipython",
    "version": 2
   },
   "file_extension": ".py",
   "mimetype": "text/x-python",
   "name": "python",
   "nbconvert_exporter": "python",
   "pygments_lexer": "ipython2",
   "version": "2.7.6"
  }
 },
 "nbformat": 4,
 "nbformat_minor": 0
}
