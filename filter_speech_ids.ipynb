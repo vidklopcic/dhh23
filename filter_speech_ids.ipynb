{
 "cells": [
  {
   "cell_type": "code",
   "execution_count": 25,
   "metadata": {
    "ExecuteTime": {
     "end_time": "2023-05-24T18:37:20.925813Z",
     "start_time": "2023-05-24T18:37:20.697415Z"
    },
    "collapsed": true
   },
   "outputs": [
    {
     "data": {
      "text/plain": [
       "dict_keys(['language', 'date', 'xml_path', 'embeddings_path'])"
      ]
     },
     "execution_count": 25,
     "metadata": {},
     "output_type": "execute_result"
    }
   ],
   "source": [
    "import json\n",
    "\n",
    "with open('artefacts/parlamint_with_embeddings.json', 'r') as f:\n",
    "    parlamint = json.load(f)\n",
    "parlamint_es_ga = parlamint['ES-GA']\n",
    "parlaming_gb = parlamint['GB']\n",
    "parlamint_hu = parlamint['HU']\n",
    "parlamint_ua = parlamint['UA']\n",
    "parlamint_si = parlamint['SI']\n",
    "parlamint_si[0].keys()"
   ]
  },
  {
   "cell_type": "code",
   "execution_count": 31,
   "metadata": {
    "ExecuteTime": {
     "end_time": "2023-05-24T18:42:10.531942Z",
     "start_time": "2023-05-24T18:42:05.302966Z"
    },
    "collapsed": false
   },
   "outputs": [],
   "source": [
    "from bs4 import BeautifulSoup\n",
    "\n",
    "\n",
    "def load_record(record: dict):\n",
    "    with open(record['xml_path'], 'r', encoding='utf-8') as f:\n",
    "        soup = BeautifulSoup(f.read(), 'xml')\n",
    "    lines = []\n",
    "    for line in open(record['embeddings_path'], 'r'):\n",
    "        lines.append(json.loads(line))\n",
    "    return soup, lines\n",
    "\n",
    "soup, embeddings = load_record(parlamint_es_ga[0])"
   ]
  }
 ],
 "metadata": {
  "kernelspec": {
   "display_name": "Python 3",
   "language": "python",
   "name": "python3"
  },
  "language_info": {
   "codemirror_mode": {
    "name": "ipython",
    "version": 2
   },
   "file_extension": ".py",
   "mimetype": "text/x-python",
   "name": "python",
   "nbconvert_exporter": "python",
   "pygments_lexer": "ipython2",
   "version": "2.7.6"
  }
 },
 "nbformat": 4,
 "nbformat_minor": 0
}
