{
 "cells": [
  {
   "cell_type": "markdown",
   "metadata": {
    "collapsed": false
   },
   "source": [
    "# Plan\n",
    "## Flatten XML data to Pandas df\n",
    "\n",
    "## TF-IDF\n",
    "- using scipy\n",
    "- using custom code\n",
    "\n",
    "## Custom cross-cluster scoring\n",
    "- the more frequent inside cluster the higher the score\n",
    "- the more frequent outside cluster the lower the score\n",
    "\n",
    "Just count occurrences of each word per cluster and take those with highest variance\n",
    "\n",
    "## Dim reduction based on markers\n",
    "- create number of topic markers (eg. avg. embedding of ['I strongly agree', 'I support this conclusion', 'I am inclined to believe that.'])\n",
    "- calculate cos sim for each group\n",
    "- cluster on resulting vectors or just plot them over time\n",
    "\n",
    "## Try speaker pairwise cosine similarity then clustering\n"
   ]
  },
  {
   "cell_type": "code",
   "execution_count": null,
   "metadata": {
    "collapsed": false
   },
   "outputs": [],
   "source": []
  }
 ],
 "metadata": {
  "kernelspec": {
   "display_name": "Python 3",
   "language": "python",
   "name": "python3"
  },
  "language_info": {
   "codemirror_mode": {
    "name": "ipython",
    "version": 2
   },
   "file_extension": ".py",
   "mimetype": "text/x-python",
   "name": "python",
   "nbconvert_exporter": "python",
   "pygments_lexer": "ipython2",
   "version": "2.7.6"
  }
 },
 "nbformat": 4,
 "nbformat_minor": 0
}
