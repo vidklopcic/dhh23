{
 "cells": [
  {
   "cell_type": "markdown",
   "metadata": {
    "collapsed": false
   },
   "source": [
    "# Install dependencies"
   ]
  },
  {
   "cell_type": "code",
   "execution_count": 1,
   "metadata": {
    "collapsed": false
   },
   "outputs": [
    {
     "name": "stdout",
     "output_type": "stream",
     "text": [
      "Collecting pydantic\r\n",
      "  Downloading pydantic-1.10.7-cp39-cp39-manylinux_2_17_x86_64.manylinux2014_x86_64.whl (3.2 MB)\r\n",
      "\u001b[2K     \u001b[90m━━━━━━━━━━━━━━━━━━━━━━━━━━━━━━━━━━━━━━━━\u001b[0m \u001b[32m3.2/3.2 MB\u001b[0m \u001b[31m28.7 MB/s\u001b[0m eta \u001b[36m0:00:00\u001b[0m00:01\u001b[0m00:01\u001b[0m\r\n",
      "\u001b[?25hRequirement already satisfied: typing-extensions>=4.2.0 in /storage/vidklopcic/anaconda3/envs/dhh23/lib/python3.9/site-packages (from pydantic) (4.5.0)\r\n",
      "Installing collected packages: pydantic\r\n",
      "Successfully installed pydantic-1.10.7\r\n"
     ]
    }
   ],
   "source": [
    "import datetime\n",
    "!pip install pydantic"
   ]
  },
  {
   "cell_type": "markdown",
   "metadata": {
    "collapsed": false
   },
   "source": [
    "# Download data"
   ]
  },
  {
   "cell_type": "code",
   "execution_count": 1,
   "metadata": {
    "ExecuteTime": {
     "end_time": "2023-05-20T09:15:08.285036Z",
     "start_time": "2023-05-20T09:09:01.640518Z"
    },
    "collapsed": true
   },
   "outputs": [
    {
     "name": "stdout",
     "output_type": "stream",
     "text": [
      "--2023-05-20 09:09:01--  ftp://https/\r\n",
      "           => ‘.listing’\r\n",
      "Resolving https (https)... failed: Temporary failure in name resolution.\r\n",
      "wget: unable to resolve host address ‘https’\r\n",
      "//: Scheme missing.\r\n",
      "--2023-05-20 09:09:01--  http://nl.ijs.si/et/tmp/ParlaMint/Repo/ParlaMint-ES-GA.ana.tgz\r\n",
      "Resolving nl.ijs.si (nl.ijs.si)... 95.87.154.250\r\n",
      "Connecting to nl.ijs.si (nl.ijs.si)|95.87.154.250|:80... connected.\r\n",
      "HTTP request sent, awaiting response... 200 OK\r\n",
      "Length: 981580243 (936M) [application/x-gzip]\r\n",
      "Saving to: ‘data/annotated/ParlaMint-ES-GA.ana.tgz’\r\n",
      "\r\n",
      "data/annotated/Parl 100%[===================>] 936.11M  42.2MB/s    in 24s     \r\n",
      "\r\n",
      "utime(data/annotated/ParlaMint-ES-GA.ana.tgz): Operation not permitted\r\n",
      "2023-05-20 09:09:26 (38.4 MB/s) - ‘data/annotated/ParlaMint-ES-GA.ana.tgz’ saved [981580243/981580243]\r\n",
      "\r\n",
      "FINISHED --2023-05-20 09:09:26--\r\n",
      "Total wall clock time: 24s\r\n",
      "Downloaded: 1 files, 936M in 24s (38.4 MB/s)\r\n",
      "--2023-05-20 09:09:29--  ftp://https/\r\n",
      "           => ‘.listing’\r\n",
      "Resolving https (https)... failed: Temporary failure in name resolution.\r\n",
      "wget: unable to resolve host address ‘https’\r\n",
      "//: Scheme missing.\r\n",
      "--2023-05-20 09:09:29--  http://nl.ijs.si/et/tmp/ParlaMint/Repo/ParlaMint-GB.ana.tgz\r\n",
      "Resolving nl.ijs.si (nl.ijs.si)... 95.87.154.250\r\n",
      "Connecting to nl.ijs.si (nl.ijs.si)|95.87.154.250|:80... connected.\r\n",
      "HTTP request sent, awaiting response... 200 OK\r\n",
      "Length: 5706227230 (5.3G) [application/x-gzip]\r\n",
      "Saving to: ‘data/annotated/ParlaMint-GB.ana.tgz’\r\n",
      "\r\n",
      "data/annotated/Parl 100%[===================>]   5.31G  39.4MB/s    in 2m 21s  \r\n",
      "\r\n",
      "utime(data/annotated/ParlaMint-GB.ana.tgz): Operation not permitted\r\n",
      "2023-05-20 09:11:51 (38.5 MB/s) - ‘data/annotated/ParlaMint-GB.ana.tgz’ saved [5706227230/5706227230]\r\n",
      "\r\n",
      "FINISHED --2023-05-20 09:11:51--\r\n",
      "Total wall clock time: 2m 22s\r\n",
      "Downloaded: 1 files, 5.3G in 2m 21s (38.5 MB/s)\r\n",
      "--2023-05-20 09:11:54--  ftp://https/\r\n",
      "           => ‘.listing’\r\n",
      "Resolving https (https)... failed: Temporary failure in name resolution.\r\n",
      "wget: unable to resolve host address ‘https’\r\n",
      "//: Scheme missing.\r\n",
      "--2023-05-20 09:11:54--  http://nl.ijs.si/et/tmp/ParlaMint/Repo/ParlaMint-HU.ana.tgz\r\n",
      "Resolving nl.ijs.si (nl.ijs.si)... 95.87.154.250\r\n",
      "Connecting to nl.ijs.si (nl.ijs.si)|95.87.154.250|:80... connected.\r\n",
      "HTTP request sent, awaiting response... 200 OK\r\n",
      "Length: 1526150914 (1.4G) [application/x-gzip]\r\n",
      "Saving to: ‘data/annotated/ParlaMint-HU.ana.tgz’\r\n",
      "\r\n",
      "data/annotated/Parl 100%[===================>]   1.42G  37.7MB/s    in 48s     \r\n",
      "\r\n",
      "utime(data/annotated/ParlaMint-HU.ana.tgz): Operation not permitted\r\n",
      "2023-05-20 09:12:42 (30.0 MB/s) - ‘data/annotated/ParlaMint-HU.ana.tgz’ saved [1526150914/1526150914]\r\n",
      "\r\n",
      "FINISHED --2023-05-20 09:12:42--\r\n",
      "Total wall clock time: 48s\r\n",
      "Downloaded: 1 files, 1.4G in 48s (30.0 MB/s)\r\n",
      "--2023-05-20 09:12:44--  ftp://https/\r\n",
      "           => ‘.listing’\r\n",
      "Resolving https (https)... failed: Temporary failure in name resolution.\r\n",
      "wget: unable to resolve host address ‘https’\r\n",
      "//: Scheme missing.\r\n",
      "--2023-05-20 09:12:44--  http://nl.ijs.si/et/tmp/ParlaMint/Repo/ParlaMint-SI.ana.tgz\r\n",
      "Resolving nl.ijs.si (nl.ijs.si)... 95.87.154.250\r\n",
      "Connecting to nl.ijs.si (nl.ijs.si)|95.87.154.250|:80... connected.\r\n",
      "HTTP request sent, awaiting response... 200 OK\r\n",
      "Length: 3964963681 (3.7G) [application/x-gzip]\r\n",
      "Saving to: ‘data/annotated/ParlaMint-SI.ana.tgz’\r\n",
      "\r\n",
      "data/annotated/Parl 100%[===================>]   3.69G  52.1MB/s    in 98s     \r\n",
      "\r\n",
      "utime(data/annotated/ParlaMint-SI.ana.tgz): Operation not permitted\r\n",
      "2023-05-20 09:14:23 (38.5 MB/s) - ‘data/annotated/ParlaMint-SI.ana.tgz’ saved [3964963681/3964963681]\r\n",
      "\r\n",
      "FINISHED --2023-05-20 09:14:23--\r\n",
      "Total wall clock time: 1m 38s\r\n",
      "Downloaded: 1 files, 3.7G in 1m 38s (38.5 MB/s)\r\n",
      "--2023-05-20 09:14:24--  ftp://https/\r\n",
      "           => ‘.listing’\r\n",
      "Resolving https (https)... failed: Temporary failure in name resolution.\r\n",
      "wget: unable to resolve host address ‘https’\r\n",
      "//: Scheme missing.\r\n",
      "--2023-05-20 09:14:24--  http://nl.ijs.si/et/tmp/ParlaMint/Repo/ParlaMint-UA.ana.tgz\r\n",
      "Resolving nl.ijs.si (nl.ijs.si)... 95.87.154.250\r\n",
      "Connecting to nl.ijs.si (nl.ijs.si)|95.87.154.250|:80... connected.\r\n",
      "HTTP request sent, awaiting response... 200 OK\r\n",
      "Length: 1293231919 (1.2G) [application/x-gzip]\r\n",
      "Saving to: ‘data/annotated/ParlaMint-UA.ana.tgz’\r\n",
      "\r\n",
      "data/annotated/Parl 100%[===================>]   1.20G  25.3MB/s    in 34s     \r\n",
      "\r\n",
      "utime(data/annotated/ParlaMint-UA.ana.tgz): Operation not permitted\r\n",
      "2023-05-20 09:14:57 (36.7 MB/s) - ‘data/annotated/ParlaMint-UA.ana.tgz’ saved [1293231919/1293231919]\r\n",
      "\r\n",
      "FINISHED --2023-05-20 09:14:57--\r\n",
      "Total wall clock time: 34s\r\n",
      "Downloaded: 1 files, 1.2G in 34s (36.7 MB/s)\r\n"
     ]
    }
   ],
   "source": [
    "!mkdir -p data\n",
    "!mkdir -p data/annotated\n",
    "!wget -O data/annotated/ParlaMint-ES-GA.ana.tgz https: // nl.ijs.si/et/tmp/ParlaMint/Repo/ParlaMint-ES-GA.ana.tgz\n",
    "!wget -O data/annotated/ParlaMint-GB.ana.tgz https: // nl.ijs.si/et/tmp/ParlaMint/Repo/ParlaMint-GB.ana.tgz\n",
    "!wget -O data/annotated/ParlaMint-HU.ana.tgz https: // nl.ijs.si/et/tmp/ParlaMint/Repo/ParlaMint-HU.ana.tgz\n",
    "!wget -O data/annotated/ParlaMint-SI.ana.tgz https: // nl.ijs.si/et/tmp/ParlaMint/Repo/ParlaMint-SI.ana.tgz\n",
    "!wget -O data/annotated/ParlaMint-UA.ana.tgz https: // nl.ijs.si/et/tmp/ParlaMint/Repo/ParlaMint-UA.ana.tgz"
   ]
  },
  {
   "cell_type": "code",
   "execution_count": null,
   "metadata": {
    "collapsed": false
   },
   "outputs": [],
   "source": [
    "!tar -xf data/annotated/ParlaMint-ES-GA.ana.tgz -C data/annotated/\n",
    "!tar -xf data/annotated/ParlaMint-GB.ana.tgz -C data/annotated/\n",
    "!tar -xf data/annotated/ParlaMint-HU.ana.tgz -C data/annotated/\n",
    "!tar -xf data/annotated/ParlaMint-SI.ana.tgz -C data/annotated/\n",
    "!tar -xf data/annotated/ParlaMint-UA.ana.tgz -C data/annotated/"
   ]
  },
  {
   "cell_type": "code",
   "execution_count": 5,
   "metadata": {
    "ExecuteTime": {
     "end_time": "2023-05-20T09:51:40.833817Z",
     "start_time": "2023-05-20T09:51:38.923135Z"
    },
    "collapsed": false
   },
   "outputs": [],
   "source": [
    "!rm data/annotated/ *.tgz"
   ]
  },
  {
   "cell_type": "code",
   "execution_count": 10,
   "metadata": {
    "ExecuteTime": {
     "end_time": "2023-05-21T09:20:51.395205Z",
     "start_time": "2023-05-21T09:20:50.423875Z"
    },
    "collapsed": false
   },
   "outputs": [],
   "source": [
    "import re\n",
    "from pathlib import Path\n",
    "import pandas as pd\n",
    "from datetime import datetime\n",
    "import json\n",
    "\n",
    "re_lang_code = re.compile(r'ParlaMint-(.+?)_')\n",
    "re_date = re.compile(r'ParlaMint-.+?_([0-9]+-[0-9]+-[0-9]+)')\n",
    "\n",
    "parlamint = {}\n",
    "for file in Path('data/annotated').glob(f'ParlaMint-*.ana/{\"[0-9]\" * 4}/**/ParlaMint-*_*.ana.xml'):\n",
    "    if not Path(file).is_file():\n",
    "        continue\n",
    "    language = re_lang_code.search(file.name).group(1)\n",
    "    date = datetime.strptime(re_date.search(file.name).group(1), '%Y-%m-%d').isoformat()\n",
    "\n",
    "    # Append each file's info to the dataframe\n",
    "    parlamint.setdefault(language, []).append({\n",
    "        'language': language,\n",
    "        'date': date,\n",
    "        'xml_path': str(file)\n",
    "    })\n",
    "with open('artefacts/parlamint.json', 'w') as f:\n",
    "    json.dump(parlamint, f)"
   ]
  }
 ],
 "metadata": {
  "kernelspec": {
   "display_name": "Python 3",
   "language": "python",
   "name": "python3"
  },
  "language_info": {
   "codemirror_mode": {
    "name": "ipython",
    "version": 2
   },
   "file_extension": ".py",
   "mimetype": "text/x-python",
   "name": "python",
   "nbconvert_exporter": "python",
   "pygments_lexer": "ipython2",
   "version": "2.7.6"
  }
 },
 "nbformat": 4,
 "nbformat_minor": 0
}
