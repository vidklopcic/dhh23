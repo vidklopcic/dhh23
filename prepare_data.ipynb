{
 "cells": [
  {
   "cell_type": "markdown",
   "metadata": {
    "collapsed": false
   },
   "source": [
    "# Install dependencies"
   ]
  },
  {
   "cell_type": "code",
   "execution_count": 1,
   "metadata": {
    "ExecuteTime": {
     "end_time": "2023-05-19T10:52:48.408804Z",
     "start_time": "2023-05-19T10:52:46.395024Z"
    },
    "collapsed": false
   },
   "outputs": [
    {
     "name": "stdout",
     "output_type": "stream",
     "text": [
      "Collecting pydantic\r\n",
      "  Downloading pydantic-1.10.7-cp39-cp39-manylinux_2_17_x86_64.manylinux2014_x86_64.whl (3.2 MB)\r\n",
      "\u001b[2K     \u001b[90m━━━━━━━━━━━━━━━━━━━━━━━━━━━━━━━━━━━━━━━━\u001b[0m \u001b[32m3.2/3.2 MB\u001b[0m \u001b[31m28.7 MB/s\u001b[0m eta \u001b[36m0:00:00\u001b[0m00:01\u001b[0m00:01\u001b[0m\r\n",
      "\u001b[?25hRequirement already satisfied: typing-extensions>=4.2.0 in /storage/vidklopcic/anaconda3/envs/dhh23/lib/python3.9/site-packages (from pydantic) (4.5.0)\r\n",
      "Installing collected packages: pydantic\r\n",
      "Successfully installed pydantic-1.10.7\r\n"
     ]
    }
   ],
   "source": [
    "!pip install pydantic"
   ]
  },
  {
   "cell_type": "markdown",
   "metadata": {
    "collapsed": false
   },
   "source": [
    "# Download data"
   ]
  },
  {
   "cell_type": "code",
   "execution_count": null,
   "metadata": {
    "collapsed": true
   },
   "outputs": [],
   "source": [
    "!mkdir -p data\n",
    "!wget -O data/ParlaMint-ES-GA.tgz https: // nl.ijs.si/et/tmp/ParlaMint/Repo/ParlaMint-ES-GA.tgz\n",
    "!wget -O data/ParlaMint-GB.tgz https: // nl.ijs.si/et/tmp/ParlaMint/Repo/ParlaMint-GB.tgz\n",
    "!wget -O data/ParlaMint-HU.tgz https: // nl.ijs.si/et/tmp/ParlaMint/Repo/ParlaMint-HU.tgz\n",
    "!wget -O data/ParlaMint-SI.tgz https: // nl.ijs.si/et/tmp/ParlaMint/Repo/ParlaMint-SI.tgz\n",
    "!wget -O data/ParlaMint-UA.tgz https: // nl.ijs.si/et/tmp/ParlaMint/Repo/ParlaMint-UA.tgz"
   ]
  },
  {
   "cell_type": "code",
   "execution_count": null,
   "metadata": {
    "collapsed": false
   },
   "outputs": [],
   "source": [
    "!tar -xvf data/ParlaMint-ES-GA.tgz -C data/\n",
    "!tar -xvf data/ParlaMint-GB.tgz -C data/\n",
    "!tar -xvf data/ParlaMint-HU.tgz -C data/\n",
    "!tar -xvf data/ParlaMint-SI.tgz -C data/\n",
    "!tar -xvf data/ParlaMint-UA.tgz -C data/"
   ]
  },
  {
   "cell_type": "code",
   "execution_count": null,
   "metadata": {
    "collapsed": false
   },
   "outputs": [],
   "source": [
    "!rm data/ *.tgz"
   ]
  },
  {
   "cell_type": "code",
   "execution_count": 1,
   "metadata": {
    "ExecuteTime": {
     "end_time": "2023-05-19T12:18:08.528221Z",
     "start_time": "2023-05-19T12:18:06.109688Z"
    },
    "collapsed": false
   },
   "outputs": [],
   "source": [
    "from serializers.parlamint_serializers import *\n",
    "import re\n",
    "from pathlib import Path\n",
    "\n",
    "re_lang_code = re.compile(r'ParlaMint-(.+?)_')\n",
    "re_date = re.compile(r'ParlaMint-.+?_([0-9]+-[0-9]+-[0-9]+)')\n",
    "\n",
    "parlamint = ParlaMint()\n",
    "for file in Path('data').glob('**/ParlaMint-*_*.txt'):\n",
    "    if not Path(file).is_file():\n",
    "        continue\n",
    "    language = ParlaMintLanguage(re_lang_code.search(file.name).group(1))\n",
    "    dataset = ParlaMintDataset(\n",
    "        path=str(file),\n",
    "        date=re_date.search(file.name).group(1),\n",
    "        language=language,\n",
    "        metadata_path=str(file.parent / f'{file.stem}-meta.tsv')\n",
    "    )\n",
    "    parlamint.languages.setdefault(language, []).append(dataset)\n",
    "parlamint.save()"
   ]
  },
  {
   "cell_type": "markdown",
   "metadata": {
    "collapsed": false
   },
   "source": [
    "# Prepare data"
   ]
  }
 ],
 "metadata": {
  "kernelspec": {
   "display_name": "Python 3",
   "language": "python",
   "name": "python3"
  },
  "language_info": {
   "codemirror_mode": {
    "name": "ipython",
    "version": 2
   },
   "file_extension": ".py",
   "mimetype": "text/x-python",
   "name": "python",
   "nbconvert_exporter": "python",
   "pygments_lexer": "ipython2",
   "version": "2.7.6"
  }
 },
 "nbformat": 4,
 "nbformat_minor": 0
}
