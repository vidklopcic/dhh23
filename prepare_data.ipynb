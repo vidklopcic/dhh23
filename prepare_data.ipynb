{
 "cells": [
  {
   "cell_type": "code",
   "execution_count": null,
   "metadata": {
    "collapsed": true
   },
   "outputs": [],
   "source": [
    "!mkdir -p data\n",
    "!wget -O data/ParlaMint-ES-GA.tgz https://nl.ijs.si/et/tmp/ParlaMint/Repo/ParlaMint-ES-GA.tgz\n",
    "!wget -O data/ParlaMint-GB.tgz https://nl.ijs.si/et/tmp/ParlaMint/Repo/ParlaMint-GB.tgz\n",
    "!wget -O data/ParlaMint-HU.tgz https://nl.ijs.si/et/tmp/ParlaMint/Repo/ParlaMint-HU.tgz\n",
    "!wget -O data/ParlaMint-SI.tgz https://nl.ijs.si/et/tmp/ParlaMint/Repo/ParlaMint-SI.tgz\n",
    "!wget -O data/ParlaMint-UA.tgz https://nl.ijs.si/et/tmp/ParlaMint/Repo/ParlaMint-UA.tgz"
   ]
  },
  {
   "cell_type": "code",
   "execution_count": null,
   "metadata": {
    "collapsed": false
   },
   "outputs": [],
   "source": [
    "!tar -xvf data/ParlaMint-ES-GA.tgz -C data/\n",
    "!tar -xvf data/ParlaMint-GB.tgz -C data/\n",
    "!tar -xvf data/ParlaMint-HU.tgz -C data/\n",
    "!tar -xvf data/ParlaMint-SI.tgz -C data/\n",
    "!tar -xvf data/ParlaMint-UA.tgz -C data/"
   ]
  },
  {
   "cell_type": "code",
   "execution_count": 7,
   "metadata": {
    "ExecuteTime": {
     "end_time": "2023-05-17T22:02:37.305360Z",
     "start_time": "2023-05-17T22:02:36.892344Z"
    },
    "collapsed": false
   },
   "outputs": [],
   "source": [
    "!rm data/*.tgz"
   ]
  }
 ],
 "metadata": {
  "kernelspec": {
   "display_name": "Python 3",
   "language": "python",
   "name": "python3"
  },
  "language_info": {
   "codemirror_mode": {
    "name": "ipython",
    "version": 2
   },
   "file_extension": ".py",
   "mimetype": "text/x-python",
   "name": "python",
   "nbconvert_exporter": "python",
   "pygments_lexer": "ipython2",
   "version": "2.7.6"
  }
 },
 "nbformat": 4,
 "nbformat_minor": 0
}
