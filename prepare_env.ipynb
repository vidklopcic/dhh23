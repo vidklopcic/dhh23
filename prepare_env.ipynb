{
 "cells": [
  {
   "cell_type": "markdown",
   "metadata": {
    "collapsed": false
   },
   "source": [
    "# Install dependencies\n",
    "- [simpletransformers](https://simpletransformers.ai/docs/installation/)\n",
    "- [sentence-transformers](https://www.sbert.net/)"
   ]
  },
  {
   "cell_type": "code",
   "execution_count": null,
   "metadata": {
    "collapsed": true
   },
   "outputs": [],
   "source": [
    "!conda install -y pandas tqdm\n",
    "!conda install -y pytorch torchvision torchaudio pytorch-cuda=11.7 -c pytorch -c nvidia\n",
    "!pip install sentence-transformers\n",
    "!pip install simpletransformers@git+https://github.com/vidklopcic/simpletransformers.git@master"
   ]
  },
  {
   "cell_type": "markdown",
   "metadata": {
    "collapsed": false
   },
   "source": [
    "## Sentencetransformers"
   ]
  },
  {
   "cell_type": "code",
   "execution_count": 74,
   "metadata": {
    "ExecuteTime": {
     "end_time": "2023-05-17T21:48:15.509500Z",
     "start_time": "2023-05-17T21:48:11.331785Z"
    },
    "collapsed": false
   },
   "outputs": [
    {
     "name": "stdout",
     "output_type": "stream",
     "text": [
      "testing paraphrase-multilingual-mpnet-base-v2 for cos. sim.\n",
      "tensor([[0.3890]]) ['Evropska komisija je dala madžarski naftni družbi Mol soglasje za prevzem družbe OMV Slovenija.', 'Prodajo 39 bencinskih servisov v okviru napovedanega prevzema so Madžari napovedali marca letos, ko so tudi sporočili, da bodo storitve na servisih za kupce ostale nespremenjene in tudi delavci bodo ohranili zaposlitev.']\n",
      "tensor([[0.2239]]) ['Evropska komisija je dala madžarski naftni družbi Mol soglasje za prevzem družbe OMV Slovenija.', 'Prešeren je prvi Slovenec, ki se je po kakovosti svojega pisanja lahko kosal s sodobniki po Evropi, kjer je tedaj vladala romantična usmeritev.']\n",
      "tensor([[0.6932]]) ['V slovenski družbi je polarizacija zelo izrazita.', 'V slovenski družbi je polarizacija magnetnih polov neznan fenomen.']\n",
      "tensor([[0.8214]]) ['V slovenski družbi je polarizacija zelo izrazita.', 'V slovenski družbi je polarizacija političnih polov neznan fenomen.']\n",
      "testing xlm-r-bert-base-nli-stsb-mean-tokens for cos. sim.\n",
      "tensor([[0.3407]]) ['Evropska komisija je dala madžarski naftni družbi Mol soglasje za prevzem družbe OMV Slovenija.', 'Prodajo 39 bencinskih servisov v okviru napovedanega prevzema so Madžari napovedali marca letos, ko so tudi sporočili, da bodo storitve na servisih za kupce ostale nespremenjene in tudi delavci bodo ohranili zaposlitev.']\n",
      "tensor([[0.2295]]) ['Evropska komisija je dala madžarski naftni družbi Mol soglasje za prevzem družbe OMV Slovenija.', 'Prešeren je prvi Slovenec, ki se je po kakovosti svojega pisanja lahko kosal s sodobniki po Evropi, kjer je tedaj vladala romantična usmeritev.']\n",
      "tensor([[0.4833]]) ['V slovenski družbi je polarizacija zelo izrazita.', 'V slovenski družbi je polarizacija magnetnih polov neznan fenomen.']\n",
      "tensor([[0.6066]]) ['V slovenski družbi je polarizacija zelo izrazita.', 'V slovenski družbi je polarizacija političnih polov neznan fenomen.']\n"
     ]
    }
   ],
   "source": [
    "from sentence_transformers import SentenceTransformer, util\n",
    "\n",
    "test_cases = [\n",
    "    [\n",
    "        \"Evropska komisija je dala madžarski naftni družbi Mol soglasje za prevzem družbe OMV Slovenija.\",\n",
    "        \"Prodajo 39 bencinskih servisov v okviru napovedanega prevzema so Madžari napovedali marca letos, ko so tudi sporočili, da bodo storitve na servisih za kupce ostale nespremenjene in tudi delavci bodo ohranili zaposlitev.\"\n",
    "    ],\n",
    "    [\n",
    "        \"Evropska komisija je dala madžarski naftni družbi Mol soglasje za prevzem družbe OMV Slovenija.\",\n",
    "        \"Prešeren je prvi Slovenec, ki se je po kakovosti svojega pisanja lahko kosal s sodobniki po Evropi, kjer je tedaj vladala romantična usmeritev.\"\n",
    "    ],\n",
    "    [\n",
    "        \"V slovenski družbi je polarizacija zelo izrazita.\",\n",
    "        \"V slovenski družbi je polarizacija magnetnih polov neznan fenomen.\"\n",
    "    ],\n",
    "    [\n",
    "        \"V slovenski družbi je polarizacija zelo izrazita.\",\n",
    "        \"V slovenski družbi je polarizacija političnih polov neznan fenomen.\"\n",
    "    ],\n",
    "]\n",
    "\n",
    "print('testing paraphrase-multilingual-mpnet-base-v2 for cos. sim.')\n",
    "model = SentenceTransformer('paraphrase-multilingual-mpnet-base-v2')\n",
    "for t in test_cases:\n",
    "    print(util.cos_sim(*model.encode(t)), t)\n",
    "\n",
    "print('testing xlm-r-bert-base-nli-stsb-mean-tokens for cos. sim.')\n",
    "model = SentenceTransformer('xlm-r-bert-base-nli-stsb-mean-tokens')\n",
    "for t in test_cases:\n",
    "    print(util.cos_sim(*model.encode(t)), t)"
   ]
  },
  {
   "cell_type": "markdown",
   "metadata": {
    "collapsed": false
   },
   "source": [
    "## Simpletransformers\n",
    "NOTE: size of outpupt embeddings is padded to the length of the longest input sequence."
   ]
  },
  {
   "cell_type": "code",
   "execution_count": null,
   "metadata": {
    "collapsed": false
   },
   "outputs": [],
   "source": [
    "from simpletransformers.language_representation import RepresentationModel\n",
    "from transformers import AutoTokenizer\n",
    "\n",
    "roberta_tokenizer = AutoTokenizer.from_pretrained('xlm-roberta-large')\n",
    "\n",
    "# Initialize the model\n",
    "roberta = RepresentationModel(\n",
    "    model_type=\"roberta\",\n",
    "    model_name=\"xlm-roberta-large\",\n",
    "    use_cuda=True,\n",
    "    args={\"sliding_window\": True},\n",
    ")"
   ]
  },
  {
   "cell_type": "code",
   "execution_count": 73,
   "metadata": {
    "ExecuteTime": {
     "end_time": "2023-05-17T21:44:12.018410Z",
     "start_time": "2023-05-17T21:44:11.936706Z"
    },
    "collapsed": false
   },
   "outputs": [
    {
     "name": "stdout",
     "output_type": "stream",
     "text": [
      "testing xlm-roberta-large (mean)\n",
      "tensor([[0.9585]]) ['Evropska komisija je dala madžarski naftni družbi Mol soglasje za prevzem družbe OMV Slovenija.', 'Prodajo 39 bencinskih servisov v okviru napovedanega prevzema so Madžari napovedali marca letos, ko so tudi sporočili, da bodo storitve na servisih za kupce ostale nespremenjene in tudi delavci bodo ohranili zaposlitev.']\n",
      "tensor([[0.9609]]) ['Evropska komisija je dala madžarski naftni družbi Mol soglasje za prevzem družbe OMV Slovenija.', 'Prešeren je prvi Slovenec, ki se je po kakovosti svojega pisanja lahko kosal s sodobniki po Evropi, kjer je tedaj vladala romantična usmeritev.']\n",
      "tensor([[0.9631]]) ['V slovenski družbi je polarizacija zelo izrazita.', 'V slovenski družbi je polarizacija magnetnih polov neznan fenomen.']\n",
      "tensor([[0.9620]]) ['V slovenski družbi je polarizacija zelo izrazita.', 'V slovenski družbi je polarizacija političnih polov neznan fenomen.']\n"
     ]
    }
   ],
   "source": [
    "print('testing xlm-roberta-large (mean) for cos. sim.')\n",
    "for t in test_cases:\n",
    "    print(util.cos_sim(*roberta.encode_sentences(t, combine_strategy='mean')), t)"
   ]
  }
 ],
 "metadata": {
  "kernelspec": {
   "display_name": "Python 3",
   "language": "python",
   "name": "python3"
  },
  "language_info": {
   "codemirror_mode": {
    "name": "ipython",
    "version": 2
   },
   "file_extension": ".py",
   "mimetype": "text/x-python",
   "name": "python",
   "nbconvert_exporter": "python",
   "pygments_lexer": "ipython2",
   "version": "2.7.6"
  }
 },
 "nbformat": 4,
 "nbformat_minor": 0
}
