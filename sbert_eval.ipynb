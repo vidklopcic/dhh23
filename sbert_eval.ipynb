{
 "cells": [
  {
   "cell_type": "code",
   "execution_count": 1,
   "metadata": {
    "ExecuteTime": {
     "end_time": "2023-05-24T08:54:26.003057Z",
     "start_time": "2023-05-24T08:54:19.508279Z"
    },
    "collapsed": true
   },
   "outputs": [],
   "source": [
    "from sentence_transformers import SentenceTransformer, util\n",
    "model = SentenceTransformer('paraphrase-multilingual-mpnet-base-v2')"
   ]
  },
  {
   "cell_type": "code",
   "execution_count": 18,
   "metadata": {
    "ExecuteTime": {
     "end_time": "2023-05-24T09:04:04.381764Z",
     "start_time": "2023-05-24T09:04:04.381235Z"
    },
    "collapsed": false
   },
   "outputs": [
    {
     "name": "stdout",
     "output_type": "stream",
     "text": [
      "   1, 2: tensor([[0.9157]])\n",
      "1[0], 2: tensor([[0.8528]])\n",
      "   3, 2: tensor([[0.6916]])\n"
     ]
    }
   ],
   "source": [
    "import numpy as np\n",
    "t1 = ['Govorec je povedal, da je potrebno sprejeti čim več migrantov.', 'S tem se nikakor ne strinjam.']\n",
    "t2 = ['Govorec je povedal, da je potrebno sprejeti čim več migrantov, s čimer se nikakor ne strinjam']\n",
    "t3 = ['Govorec je povedal, da je potrebno sprejeti čim več migrantov.', 'S tem se absolutno strinjam.']\n",
    "e1 = model.encode(t1)\n",
    "e2 = model.encode(t2)\n",
    "e3 = model.encode(t3)\n",
    "print('1, 2:'.rjust(8), util.cos_sim(np.mean(e1, 0), e2))\n",
    "print('1[0], 2:'.rjust(8), util.cos_sim(e1[0], e2))\n",
    "print('3, 2:'.rjust(8), util.cos_sim(np.mean(e3, 0), e2))"
   ]
  }
 ],
 "metadata": {
  "kernelspec": {
   "display_name": "Python 3",
   "language": "python",
   "name": "python3"
  },
  "language_info": {
   "codemirror_mode": {
    "name": "ipython",
    "version": 2
   },
   "file_extension": ".py",
   "mimetype": "text/x-python",
   "name": "python",
   "nbconvert_exporter": "python",
   "pygments_lexer": "ipython2",
   "version": "2.7.6"
  }
 },
 "nbformat": 4,
 "nbformat_minor": 0
}
